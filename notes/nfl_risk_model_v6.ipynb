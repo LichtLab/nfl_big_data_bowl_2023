{
 "cells": [
  {
   "cell_type": "markdown",
   "metadata": {},
   "source": [
    "## データ読み込み"
   ]
  },
  {
   "cell_type": "code",
   "execution_count": 27,
   "metadata": {},
   "outputs": [],
   "source": [
    "import warnings\n",
    "warnings.simplefilter('ignore')\n",
    "\n",
    "import pandas as pd\n",
    "import numpy as np\n",
    "import plotly.express as px\n",
    "import pymc3 as pm\n",
    "from scipy import stats\n",
    "\n",
    "import pickle\n"
   ]
  },
  {
   "cell_type": "code",
   "execution_count": 28,
   "metadata": {},
   "outputs": [],
   "source": [
    "dflist = []\n",
    "for week in range(1, 8+1):\n",
    "    dflist.append(pd.read_csv('../generated_data/model_week{}_v6.csv'.format(week)))\n",
    "play_result = pd.concat(dflist)"
   ]
  },
  {
   "cell_type": "markdown",
   "metadata": {},
   "source": [
    "## pymc coords用 idxの生成"
   ]
  },
  {
   "cell_type": "code",
   "execution_count": 29,
   "metadata": {},
   "outputs": [
    {
     "data": {
      "text/html": [
       "<div>\n",
       "<style scoped>\n",
       "    .dataframe tbody tr th:only-of-type {\n",
       "        vertical-align: middle;\n",
       "    }\n",
       "\n",
       "    .dataframe tbody tr th {\n",
       "        vertical-align: top;\n",
       "    }\n",
       "\n",
       "    .dataframe thead th {\n",
       "        text-align: right;\n",
       "    }\n",
       "</style>\n",
       "<table border=\"1\" class=\"dataframe\">\n",
       "  <thead>\n",
       "    <tr style=\"text-align: right;\">\n",
       "      <th></th>\n",
       "      <th>gameId</th>\n",
       "      <th>playId</th>\n",
       "      <th>is_pass_failed</th>\n",
       "      <th>passResult</th>\n",
       "      <th>playResult</th>\n",
       "      <th>playDescription</th>\n",
       "      <th>PassReceiver_nflId</th>\n",
       "      <th>PassReceiver_pff_role_num</th>\n",
       "      <th>PassReceiver_displayName</th>\n",
       "      <th>PassReceiver_short_name</th>\n",
       "      <th>...</th>\n",
       "      <th>Pass Block_#1_nflId_idx</th>\n",
       "      <th>Pass Block_#2_nflId_idx</th>\n",
       "      <th>Pass Block_#3_nflId_idx</th>\n",
       "      <th>Pass Block_#4_nflId_idx</th>\n",
       "      <th>Pass Block_#5_nflId_idx</th>\n",
       "      <th>Pass Block_#6_nflId_idx</th>\n",
       "      <th>Pass Block_#7_nflId_idx</th>\n",
       "      <th>Pass Block_#8_nflId_idx</th>\n",
       "      <th>Pass Block_#9_nflId_idx</th>\n",
       "      <th>passer_nflId_idx</th>\n",
       "    </tr>\n",
       "  </thead>\n",
       "  <tbody>\n",
       "    <tr>\n",
       "      <th>0</th>\n",
       "      <td>2021090900</td>\n",
       "      <td>97</td>\n",
       "      <td>1</td>\n",
       "      <td>I</td>\n",
       "      <td>0</td>\n",
       "      <td>(13:33) (Shotgun) T.Brady pass incomplete deep...</td>\n",
       "      <td>44896</td>\n",
       "      <td>Pass Route_#5</td>\n",
       "      <td>Chris Godwin</td>\n",
       "      <td>C.Godwin</td>\n",
       "      <td>...</td>\n",
       "      <td>55</td>\n",
       "      <td>102</td>\n",
       "      <td>108</td>\n",
       "      <td>279</td>\n",
       "      <td>395</td>\n",
       "      <td>0</td>\n",
       "      <td>0</td>\n",
       "      <td>0</td>\n",
       "      <td>0</td>\n",
       "      <td>0</td>\n",
       "    </tr>\n",
       "    <tr>\n",
       "      <th>1</th>\n",
       "      <td>2021090900</td>\n",
       "      <td>137</td>\n",
       "      <td>0</td>\n",
       "      <td>C</td>\n",
       "      <td>28</td>\n",
       "      <td>(13:18) (Shotgun) D.Prescott pass deep left to...</td>\n",
       "      <td>42347</td>\n",
       "      <td>Pass Route_#1</td>\n",
       "      <td>Amari Cooper</td>\n",
       "      <td>A.Cooper</td>\n",
       "      <td>...</td>\n",
       "      <td>14</td>\n",
       "      <td>133</td>\n",
       "      <td>270</td>\n",
       "      <td>346</td>\n",
       "      <td>436</td>\n",
       "      <td>0</td>\n",
       "      <td>0</td>\n",
       "      <td>0</td>\n",
       "      <td>0</td>\n",
       "      <td>27</td>\n",
       "    </tr>\n",
       "  </tbody>\n",
       "</table>\n",
       "<p>2 rows × 117 columns</p>\n",
       "</div>"
      ],
      "text/plain": [
       "       gameId  playId  is_pass_failed passResult  playResult  \\\n",
       "0  2021090900      97               1          I           0   \n",
       "1  2021090900     137               0          C          28   \n",
       "\n",
       "                                     playDescription  PassReceiver_nflId  \\\n",
       "0  (13:33) (Shotgun) T.Brady pass incomplete deep...               44896   \n",
       "1  (13:18) (Shotgun) D.Prescott pass deep left to...               42347   \n",
       "\n",
       "  PassReceiver_pff_role_num PassReceiver_displayName PassReceiver_short_name  \\\n",
       "0             Pass Route_#5             Chris Godwin                C.Godwin   \n",
       "1             Pass Route_#1             Amari Cooper                A.Cooper   \n",
       "\n",
       "   ...  Pass Block_#1_nflId_idx Pass Block_#2_nflId_idx  \\\n",
       "0  ...                       55                     102   \n",
       "1  ...                       14                     133   \n",
       "\n",
       "   Pass Block_#3_nflId_idx  Pass Block_#4_nflId_idx  Pass Block_#5_nflId_idx  \\\n",
       "0                      108                      279                      395   \n",
       "1                      270                      346                      436   \n",
       "\n",
       "   Pass Block_#6_nflId_idx  Pass Block_#7_nflId_idx  Pass Block_#8_nflId_idx  \\\n",
       "0                        0                        0                        0   \n",
       "1                        0                        0                        0   \n",
       "\n",
       "   Pass Block_#9_nflId_idx  passer_nflId_idx  \n",
       "0                        0                 0  \n",
       "1                        0                27  \n",
       "\n",
       "[2 rows x 117 columns]"
      ]
     },
     "execution_count": 29,
     "metadata": {},
     "output_type": "execute_result"
    }
   ],
   "source": [
    "all_rusher_nflId = list(play_result['Pass Rush_#1_nflId'].unique()) + list(play_result['Pass Rush_#2_nflId'].unique()) + \\\n",
    "                   list(play_result['Pass Rush_#3_nflId'].unique()) + list(play_result['Pass Rush_#4_nflId'].unique()) + \\\n",
    "                   list(play_result['Pass Rush_#5_nflId'].unique()) + list(play_result['Pass Rush_#6_nflId'].unique()) + \\\n",
    "                   list(play_result['Pass Rush_#7_nflId'].unique())\n",
    "all_rusher_nflId = list(set(all_rusher_nflId))\n",
    "all_blckr_nflId  = list(play_result['Pass Block_#1_nflId'].unique()) + list(play_result['Pass Block_#2_nflId'].unique()) + \\\n",
    "                   list(play_result['Pass Block_#3_nflId'].unique()) + list(play_result['Pass Block_#4_nflId'].unique()) + \\\n",
    "                   list(play_result['Pass Block_#5_nflId'].unique()) + list(play_result['Pass Block_#6_nflId'].unique()) + \\\n",
    "                   list(play_result['Pass Block_#7_nflId'].unique()) + list(play_result['Pass Block_#8_nflId'].unique()) + \\\n",
    "                   list(play_result['Pass Block_#9_nflId'].unique())\n",
    "all_rusher_nflId = list(set(all_rusher_nflId))\n",
    "all_blckr_nflId  = list(set(all_blckr_nflId))\n",
    "rusher_nflId_df = pd.DataFrame({\n",
    "    'rusher_nflId': all_rusher_nflId\n",
    "})\n",
    "blckr_nflId_df = pd.DataFrame({\n",
    "    'blckr_nflId': all_blckr_nflId\n",
    "})\n",
    "rusher_nflId_df['rusher_nflId_idx'], rusher_nflId = pd.factorize(rusher_nflId_df['rusher_nflId'], sort=True)\n",
    "blckr_nflId_df['blckr_nflId_idx'], blckr_nflId = pd.factorize(blckr_nflId_df['blckr_nflId'], sort=True)\n",
    "for i in range(1, 7 + 1):\n",
    "    play_result = pd.merge(\n",
    "        play_result,\n",
    "        rusher_nflId_df[['rusher_nflId','rusher_nflId_idx']].rename(columns={\n",
    "            'rusher_nflId_idx': 'Pass Rush_#{}_nflId_idx'.format(i),\n",
    "            'rusher_nflId': 'Pass Rush_#{}_nflId'.format(i)\n",
    "        }),\n",
    "        on='Pass Rush_#{}_nflId'.format(i),\n",
    "        how='left'\n",
    "    )\n",
    "for i in range(1, 9+1):\n",
    "    play_result = pd.merge(\n",
    "        play_result,\n",
    "        blckr_nflId_df[['blckr_nflId','blckr_nflId_idx']].rename(columns={\n",
    "            'blckr_nflId_idx': 'Pass Block_#{}_nflId_idx'.format(i),\n",
    "            'blckr_nflId': 'Pass Block_#{}_nflId'.format(i)\n",
    "        }),\n",
    "        on='Pass Block_#{}_nflId'.format(i),\n",
    "        how='left'\n",
    "    )\n",
    "play_result['passer_nflId_idx'], passer_nflId = pd.factorize(play_result['Passer_nflId'], sort=True)\n",
    "# play_result = play_result[play_result['is_pass_done'] == 1]\n",
    "play_result.head(2)"
   ]
  },
  {
   "cell_type": "code",
   "execution_count": 30,
   "metadata": {},
   "outputs": [],
   "source": [
    "rusher_nflId_df.to_csv('../generated_data/for_animation_rusher_nflId_df.csv', index=False)\n",
    "blckr_nflId_df.to_csv('../generated_data/for_animation_blckr_nflId_df.csv', index=False)"
   ]
  },
  {
   "cell_type": "markdown",
   "metadata": {},
   "source": [
    "## 各プレーヤーのofficial positionを追加"
   ]
  },
  {
   "cell_type": "code",
   "execution_count": 31,
   "metadata": {},
   "outputs": [],
   "source": [
    "players = pd.read_csv('../data/players.csv')\n",
    "all_lineman_nflId = list(set(all_rusher_nflId + all_blckr_nflId))\n",
    "rusher_players = players[players['nflId'].isin(all_rusher_nflId)]\n",
    "rusher_players['position_idx'], rusher_position = pd.factorize(rusher_players['officialPosition'], sort=True)\n",
    "blckr_players = players[players['nflId'].isin(all_blckr_nflId)]\n",
    "blckr_players['position_idx'], blckr_position = pd.factorize(blckr_players['officialPosition'], sort=True)\n",
    "\n",
    "\n",
    "for i in range(1, 7 + 1):\n",
    "    play_result = pd.merge(\n",
    "        play_result,\n",
    "        rusher_players[['nflId','position_idx']].rename(columns={\n",
    "            'nflId': 'Pass Rush_#{}_nflId'.format(i),\n",
    "            'position_idx': 'Pass Rush_#{}_position_idx'.format(i)\n",
    "        }),\n",
    "        on='Pass Rush_#{}_nflId'.format(i),\n",
    "        how='left'\n",
    "    )\n",
    "    play_result['Pass Rush_#{}_position_idx'.format(i)] = play_result['Pass Rush_#{}_position_idx'.format(i)].fillna(0)\n",
    "    play_result['Pass Rush_#{}_position_idx'.format(i)] = play_result['Pass Rush_#{}_position_idx'.format(i)].astype(int)\n",
    "for i in range(1, 9+1):\n",
    "    play_result = pd.merge(\n",
    "        play_result,\n",
    "        blckr_players[['nflId','position_idx']].rename(columns={\n",
    "            'nflId': 'Pass Block_#{}_nflId'.format(i),\n",
    "            'position_idx': 'Pass Block_#{}_position_idx'.format(i),\n",
    "        }),\n",
    "        on='Pass Block_#{}_nflId'.format(i),\n",
    "        how='left'\n",
    "    )\n",
    "    play_result['Pass Block_#{}_position_idx'.format(i)] = play_result['Pass Block_#{}_position_idx'.format(i)].fillna(0)\n",
    "    play_result['Pass Block_#{}_position_idx'.format(i)] = play_result['Pass Block_#{}_position_idx'.format(i)].astype(int)\n",
    "play_result.head(3)\n",
    "play_result.to_csv('tmp_v6.csv', index=False)"
   ]
  },
  {
   "cell_type": "markdown",
   "metadata": {},
   "source": [
    "## Pass failure explainable model"
   ]
  },
  {
   "cell_type": "code",
   "execution_count": 213,
   "metadata": {},
   "outputs": [],
   "source": [
    "# from sklearn.model_selection import train_test_split\n",
    "\n",
    "\n",
    "# dfTrain, dfTest = train_test_split(play_result, test_size=0.2, random_state=623)\n",
    "# coords = {\"passer_nflId\": passer_nflId, \n",
    "#           'rusher_nflId': rusher_nflId, \n",
    "#           'blckr_nflId': blckr_nflId,\n",
    "#           'rusher_position': rusher_position,\n",
    "#           'blckr_position': blckr_position\n",
    "#          }\n",
    "\n",
    "# with pm.Model(coords=coords) as model:\n",
    "#     passer_nflId_idx = pm.Data('passer_nflId_idx', dfTrain['passer_nflId_idx'])\n",
    "#     data_PassReceiver_ttl_risk = pm.Data('PassReceiver_ttl_risk', dfTrain['PassReceiver_ttl_risk'])\n",
    "#     rusher_dic = {}\n",
    "#     for i in range(1, 7 + 1):\n",
    "#         rusher_dic['rusher{}_nflId_idx'.format(i)] = pm.Data('rusher{}_nflId_idx'.format(i), dfTrain['Pass Rush_#{}_nflId_idx'.format(i)])\n",
    "#         rusher_dic['rusher{}_impact'.format(i)] = pm.Data('rusher{}_impact'.format(i), dfTrain['Pass Rush_#{}_impact'.format(i)])\n",
    "#         rusher_dic['rusher{}_height'.format(i)] = pm.Data('rusher{}_height'.format(i), dfTrain['Pass Rush_#{}_height_meter'.format(i)])\n",
    "#         rusher_dic['rusher{}_weight'.format(i)] = pm.Data('rusher{}_weight'.format(i), dfTrain['Pass Rush_#{}_weight'.format(i)])\n",
    "        \n",
    "#     blckr_dic = {}\n",
    "#     for i in range(1, 9 + 1):\n",
    "#         blckr_dic['blckr{}_nflId_idx'.format(i)] = pm.Data('blckr{}_nflId_idx'.format(i), dfTrain['Pass Block_#{}_nflId_idx'.format(i)])\n",
    "#         blckr_dic['blckr{}_impact'.format(i)] = pm.Data('blckr{}_impact'.format(i), dfTrain['Pass Block_#{}_impact'.format(i)])\n",
    "#         blckr_dic['blckr{}_height'.format(i)] = pm.Data('blckr{}_height'.format(i), dfTrain['Pass Block_#{}_height_meter'.format(i)])\n",
    "#         blckr_dic['blckr{}_weight'.format(i)] = pm.Data('blckr{}_weight'.format(i), dfTrain['Pass Block_#{}_weight'.format(i)])\n",
    "        \n",
    "#     # Define prior distribution\n",
    "#     µ_passer_avg_skill = pm.Normal('µ_passer_avg_skill', mu=0, sigma=5)\n",
    "#     σ_passer_avg_skill = pm.HalfCauchy(\"σ_passer_avg_skill\", 3)\n",
    "#     Δ_passer = pm.Normal('Δ_passer', 0.0, 5, dims='passer_nflId')\n",
    "#     passer_skill = pm.Deterministic('passer_skill', \n",
    "#                                    µ_passer_avg_skill +  \\\n",
    "#                                    σ_passer_avg_skill * Δ_passer,\n",
    "#                                    dims='passer_nflId')\n",
    "#     coef_router_risk = pm.Normal('coef_router_risk', mu=0, sigma=10)\n",
    "\n",
    "#     µ_rusher_avg_skill = pm.Normal('µ_rusher_avg_skill', mu=0, sigma=5)\n",
    "#     σ_rusher_avg_skill = pm.HalfCauchy(\"σ_rusher_avg_skill\", 3)\n",
    "#     Δ_rusher = pm.Normal('Δ_rusher', 0.0, 5, dims='rusher_nflId')\n",
    "#     rusher_skill = pm.Deterministic('rusher_skill', \n",
    "#                                    µ_rusher_avg_skill +  \\\n",
    "#                                    σ_rusher_avg_skill * Δ_rusher,\n",
    "#                                    dims='rusher_nflId')\n",
    "    \n",
    "#     µ_blckr_avg_skill = pm.Normal('µ_blckr_avg_skill', mu=0, sigma=5)\n",
    "#     σ_blckr_avg_skill = pm.HalfCauchy(\"σ_blckr_avg_skill\", 3)\n",
    "#     Δ_blckr = pm.Normal('Δ_blckr', 0.0, 5, dims='blckr_nflId')\n",
    "#     blckr_skill = pm.Deterministic('blckr_skill', \n",
    "#                                    µ_blckr_avg_skill +  \\\n",
    "#                                    σ_blckr_avg_skill * Δ_blckr,\n",
    "#                                    dims='blckr_nflId')\n",
    "    \n",
    "#     # Define equation\n",
    "#     logit_p = coef_router_risk * data_PassReceiver_ttl_risk + \\\n",
    "#               passer_skill[passer_nflId_idx]\n",
    "#     for i in range(1, 7 + 1):\n",
    "#         logit_p += rusher_dic['rusher{}_impact'.format(i)] * (\n",
    "#             rusher_skill[rusher_dic['rusher{}_nflId_idx'.format(i)]] + \\\n",
    "#             rusher_dic['rusher{}_height'.format(i)] + rusher_dic['rusher{}_weight'.format(i)]\n",
    "#         )\n",
    "#     for i in range(1, 9 + 1):\n",
    "#         logit_p -= blckr_dic['blckr{}_impact'.format(i)] * (\n",
    "#             blckr_skill[blckr_dic['blckr{}_nflId_idx'.format(i)]] + \\\n",
    "#             blckr_dic['blckr{}_height'.format(i)] + blckr_dic['blckr{}_weight'.format(i)]\n",
    "#         )\n",
    "#     pass_fail = pm.Bernoulli(\n",
    "#         'pass_fail',\n",
    "#         logit_p=logit_p,\n",
    "#         observed=dfTrain['is_pass_failed'].values,\n",
    "#     )\n",
    "# with model:\n",
    "#     model_trace = pm.sample(1000, tune=100, return_inferencedata=True, target_accept=.95)\n"
   ]
  },
  {
   "cell_type": "code",
   "execution_count": 214,
   "metadata": {},
   "outputs": [
    {
     "name": "stderr",
     "output_type": "stream",
     "text": [
      "Auto-assigning NUTS sampler...\n",
      "Initializing NUTS using jitter+adapt_diag...\n",
      "Multiprocess sampling (4 chains in 4 jobs)\n",
      "NUTS: [coef_blckr, coef_rusher, coef_router_risk, Δ_passer, σ_passer_avg_skill, µ_passer_avg_skill]\n"
     ]
    },
    {
     "data": {
      "text/html": [
       "\n",
       "    <div>\n",
       "        <style>\n",
       "            /* Turns off some styling */\n",
       "            progress {\n",
       "                /* gets rid of default border in Firefox and Opera. */\n",
       "                border: none;\n",
       "                /* Needs to be in here for Safari polyfill so background images work as expected. */\n",
       "                background-size: auto;\n",
       "            }\n",
       "            .progress-bar-interrupted, .progress-bar-interrupted::-webkit-progress-bar {\n",
       "                background: #F44336;\n",
       "            }\n",
       "        </style>\n",
       "      <progress value='4400' class='' max='4400' style='width:300px; height:20px; vertical-align: middle;'></progress>\n",
       "      100.00% [4400/4400 07:12<00:00 Sampling 4 chains, 0 divergences]\n",
       "    </div>\n",
       "    "
      ],
      "text/plain": [
       "<IPython.core.display.HTML object>"
      ]
     },
     "metadata": {},
     "output_type": "display_data"
    },
    {
     "name": "stderr",
     "output_type": "stream",
     "text": [
      "Sampling 4 chains for 100 tune and 1_000 draw iterations (400 + 4_000 draws total) took 456 seconds.\n",
      "The number of effective samples is smaller than 25% for some parameters.\n"
     ]
    }
   ],
   "source": [
    "from sklearn.model_selection import train_test_split\n",
    "\n",
    "\n",
    "dfTrain, dfTest = train_test_split(play_result, test_size=0.2, random_state=623)\n",
    "coords = {\"passer_nflId\": passer_nflId, \n",
    "          'rusher_nflId': rusher_nflId, \n",
    "          'blckr_nflId': blckr_nflId,\n",
    "          'rusher_position': rusher_position,\n",
    "          'blckr_position': blckr_position\n",
    "         }\n",
    "\n",
    "with pm.Model(coords=coords) as model:\n",
    "    passer_nflId_idx = pm.Data('passer_nflId_idx', dfTrain['passer_nflId_idx'])\n",
    "    data_PassReceiver_ttl_risk = pm.Data('PassReceiver_ttl_risk', dfTrain['PassReceiver_ttl_risk'])\n",
    "    rusher_dic = {}\n",
    "    for i in range(1, 7 + 1):\n",
    "        rusher_dic['rusher{}_impact'.format(i)] = pm.Data('rusher{}_impact'.format(i), dfTrain['Pass Rush_#{}_impact'.format(i)])\n",
    "        \n",
    "    blckr_dic = {}\n",
    "    for i in range(1, 9 + 1):\n",
    "        blckr_dic['blckr{}_impact'.format(i)] = pm.Data('blckr{}_impact'.format(i), dfTrain['Pass Block_#{}_impact'.format(i)])\n",
    "        \n",
    "    # Define prior distribution\n",
    "    µ_passer_avg_skill = pm.Normal('µ_passer_avg_skill', mu=0, sigma=5)\n",
    "    σ_passer_avg_skill = pm.HalfCauchy(\"σ_passer_avg_skill\", 3)\n",
    "    Δ_passer = pm.Normal('Δ_passer', 0.0, 5, dims='passer_nflId')\n",
    "    passer_skill = pm.Deterministic('passer_skill', \n",
    "                                   µ_passer_avg_skill +  \\\n",
    "                                   σ_passer_avg_skill * Δ_passer,\n",
    "                                   dims='passer_nflId')\n",
    "    coef_router_risk = pm.Normal('coef_router_risk', mu=0, sigma=10)\n",
    "    \n",
    "    coef_rusher = pm.Normal('coef_rusher', mu=0, sigma=100)\n",
    "    coef_blckr = pm.Normal('coef_blckr', mu=0, sigma=100)\n",
    "    \n",
    "    # Define equation\n",
    "    logit_p = coef_router_risk * data_PassReceiver_ttl_risk + \\\n",
    "              passer_skill[passer_nflId_idx]\n",
    "    for i in range(1, 7 + 1):\n",
    "        logit_p += rusher_dic['rusher{}_impact'.format(i)] * coef_rusher\n",
    "    for i in range(1, 9 + 1):\n",
    "        logit_p -= blckr_dic['blckr{}_impact'.format(i)] * coef_blckr\n",
    "    pass_fail = pm.Bernoulli(\n",
    "        'pass_fail',\n",
    "        logit_p=logit_p,\n",
    "        observed=dfTrain['is_pass_failed'].values,\n",
    "    )\n",
    "with model:\n",
    "    model_trace = pm.sample(1000, tune=100, return_inferencedata=True, target_accept=.95)\n"
   ]
  },
  {
   "cell_type": "code",
   "execution_count": 215,
   "metadata": {},
   "outputs": [],
   "source": [
    "import pickle\n",
    "\n",
    "with open('model_v6.pkl', 'wb') as f:\n",
    "    pickle.dump(model, f)\n",
    "with open('model_trace_v6.pkl', 'wb') as f:\n",
    "    pickle.dump(model_trace, f)"
   ]
  },
  {
   "cell_type": "code",
   "execution_count": 216,
   "metadata": {},
   "outputs": [
    {
     "data": {
      "text/plain": [
       "array([[<AxesSubplot:title={'center':'passer_skill'}>,\n",
       "        <AxesSubplot:title={'center':'passer_skill'}>]], dtype=object)"
      ]
     },
     "execution_count": 216,
     "metadata": {},
     "output_type": "execute_result"
    },
    {
     "data": {
      "image/png": "[encoded data removed]",
      "text/plain": [
       "<Figure size 864x144 with 2 Axes>"
      ]
     },
     "metadata": {
      "needs_background": "light"
     },
     "output_type": "display_data"
    },
    {
     "data": {
      "image/png": "[encoded data removed]",
      "text/plain": [
       "<Figure size 864x144 with 2 Axes>"
      ]
     },
     "metadata": {
      "needs_background": "light"
     },
     "output_type": "display_data"
    },
    {
     "data": {
      "image/png": "[encoded data removed]",
      "text/plain": [
       "<Figure size 864x144 with 2 Axes>"
      ]
     },
     "metadata": {
      "needs_background": "light"
     },
     "output_type": "display_data"
    },
    {
     "data": {
      "image/png": "[encoded data removed]",
      "text/plain": [
       "<Figure size 864x144 with 2 Axes>"
      ]
     },
     "metadata": {
      "needs_background": "light"
     },
     "output_type": "display_data"
    }
   ],
   "source": [
    "pm.plot_trace(model_trace, var_names='coef_rusher')\n",
    "pm.plot_trace(model_trace, var_names='coef_blckr')\n",
    "pm.plot_trace(model_trace, var_names='coef_router_risk')\n",
    "pm.plot_trace(model_trace, var_names='passer_skill')"
   ]
  },
  {
   "cell_type": "markdown",
   "metadata": {},
   "source": [
    "# Performance visualization\n",
    "## Prediction with test data\n"
   ]
  },
  {
   "cell_type": "code",
   "execution_count": 217,
   "metadata": {},
   "outputs": [],
   "source": [
    "# from sklearn.metrics import confusion_matrix\n",
    "# from sklearn.metrics import precision_score\n",
    "# from sklearn.metrics import recall_score\n",
    "\n",
    "\n",
    "# with model:\n",
    "#     pm.set_data({'passer_nflId_idx': dfTest['passer_nflId_idx']})\n",
    "#     pm.set_data({'PassReceiver_ttl_risk': dfTest['PassReceiver_ttl_risk']})\n",
    "#     for i in range(1, 7 + 1):\n",
    "#         pm.set_data({'rusher{}_nflId_idx'.format(i): dfTest['Pass Rush_#{}_nflId_idx'.format(i)]})\n",
    "#         pm.set_data({'rusher{}_impact'.format(i): dfTest['Pass Rush_#{}_impact'.format(i)]})\n",
    "#         pm.set_data({'rusher{}_height'.format(i): dfTest['Pass Rush_#{}_height_meter'.format(i)]})\n",
    "#         pm.set_data({'rusher{}_weight'.format(i): dfTest['Pass Rush_#{}_weight'.format(i)]})\n",
    "# #         pm.set_data({'rusher{}_position_idx'.format(i): dfTest['Pass Rush_#{}_position_idx'.format(i)]})\n",
    "#     for i in range(1, 9 + 1):\n",
    "#         pm.set_data({'blckr{}_nflId_idx'.format(i): dfTest['Pass Block_#{}_nflId_idx'.format(i)]})\n",
    "#         pm.set_data({'blckr{}_impact'.format(i): dfTest['Pass Block_#{}_impact'.format(i)]})\n",
    "#         pm.set_data({'blckr{}_height'.format(i): dfTest['Pass Block_#{}_height_meter'.format(i)]})\n",
    "#         pm.set_data({'blckr{}_weight'.format(i): dfTest['Pass Block_#{}_weight'.format(i)]})\n",
    "# #         pm.set_data({'blckr{}_position_idx'.format(i): dfTest['Pass Block_#{}_position_idx'.format(i)]})\n",
    "#     posterior = pm.sample_posterior_predictive(model_trace)\n",
    "# dfTest_res = dfTest\n",
    "# dfTest_res['pred'] = posterior['pass_fail'].mean(axis=0)\n",
    "# dfTest_res['pred_is_failed'] = (dfTest_res['pred'] > 0.5).astype(int)\n",
    "\n",
    "# cm = confusion_matrix(dfTest_res['is_pass_failed'], dfTest_res['pred_is_failed'])\n",
    "# print('confusion matrix')\n",
    "# print(cm)\n",
    "# print('precision_score')\n",
    "# print(precision_score(dfTest_res['is_pass_failed'], dfTest_res['pred_is_failed']))\n",
    "# print('recall_score')\n",
    "# print(recall_score(dfTest_res['is_pass_failed'], dfTest_res['pred_is_failed']))\n"
   ]
  },
  {
   "cell_type": "code",
   "execution_count": 218,
   "metadata": {},
   "outputs": [
    {
     "data": {
      "text/html": [
       "\n",
       "    <div>\n",
       "        <style>\n",
       "            /* Turns off some styling */\n",
       "            progress {\n",
       "                /* gets rid of default border in Firefox and Opera. */\n",
       "                border: none;\n",
       "                /* Needs to be in here for Safari polyfill so background images work as expected. */\n",
       "                background-size: auto;\n",
       "            }\n",
       "            .progress-bar-interrupted, .progress-bar-interrupted::-webkit-progress-bar {\n",
       "                background: #F44336;\n",
       "            }\n",
       "        </style>\n",
       "      <progress value='4000' class='' max='4000' style='width:300px; height:20px; vertical-align: middle;'></progress>\n",
       "      100.00% [4000/4000 00:14<00:00]\n",
       "    </div>\n",
       "    "
      ],
      "text/plain": [
       "<IPython.core.display.HTML object>"
      ]
     },
     "metadata": {},
     "output_type": "display_data"
    },
    {
     "name": "stdout",
     "output_type": "stream",
     "text": [
      "confusion matrix\n",
      "[[730 148]\n",
      " [251 360]]\n",
      "precision_score\n",
      "0.7086614173228346\n",
      "recall_score\n",
      "0.5891980360065466\n"
     ]
    }
   ],
   "source": [
    "from sklearn.metrics import confusion_matrix\n",
    "from sklearn.metrics import precision_score\n",
    "from sklearn.metrics import recall_score\n",
    "\n",
    "\n",
    "with model:\n",
    "    pm.set_data({'passer_nflId_idx': dfTest['passer_nflId_idx']})\n",
    "    pm.set_data({'PassReceiver_ttl_risk': dfTest['PassReceiver_ttl_risk']})\n",
    "    for i in range(1, 7 + 1):\n",
    "        pm.set_data({'rusher{}_impact'.format(i): dfTest['Pass Rush_#{}_impact'.format(i)]})\n",
    "    for i in range(1, 9 + 1):\n",
    "        pm.set_data({'blckr{}_impact'.format(i): dfTest['Pass Block_#{}_impact'.format(i)]})\n",
    "    posterior = pm.sample_posterior_predictive(model_trace)\n",
    "dfTest_res = dfTest\n",
    "dfTest_res['pred'] = posterior['pass_fail'].mean(axis=0)\n",
    "dfTest_res['pred_is_failed'] = (dfTest_res['pred'] > 0.5).astype(int)\n",
    "\n",
    "cm = confusion_matrix(dfTest_res['is_pass_failed'], dfTest_res['pred_is_failed'])\n",
    "print('confusion matrix')\n",
    "print(cm)\n",
    "print('precision_score')\n",
    "print(precision_score(dfTest_res['is_pass_failed'], dfTest_res['pred_is_failed']))\n",
    "print('recall_score')\n",
    "print(recall_score(dfTest_res['is_pass_failed'], dfTest_res['pred_is_failed']))\n"
   ]
  },
  {
   "cell_type": "code",
   "execution_count": 219,
   "metadata": {},
   "outputs": [
    {
     "data": {
      "text/html": [
       "\n",
       "    <div>\n",
       "        <style>\n",
       "            /* Turns off some styling */\n",
       "            progress {\n",
       "                /* gets rid of default border in Firefox and Opera. */\n",
       "                border: none;\n",
       "                /* Needs to be in here for Safari polyfill so background images work as expected. */\n",
       "                background-size: auto;\n",
       "            }\n",
       "            .progress-bar-interrupted, .progress-bar-interrupted::-webkit-progress-bar {\n",
       "                background: #F44336;\n",
       "            }\n",
       "        </style>\n",
       "      <progress value='4000' class='' max='4000' style='width:300px; height:20px; vertical-align: middle;'></progress>\n",
       "      100.00% [4000/4000 00:09<00:00]\n",
       "    </div>\n",
       "    "
      ],
      "text/plain": [
       "<IPython.core.display.HTML object>"
      ]
     },
     "metadata": {},
     "output_type": "display_data"
    },
    {
     "name": "stdout",
     "output_type": "stream",
     "text": [
      "confusion matrix\n",
      "[[2962  497]\n",
      " [ 978 1518]]\n",
      "precision_score\n",
      "0.753349875930521\n",
      "recall_score\n",
      "0.6081730769230769\n"
     ]
    }
   ],
   "source": [
    "with model:\n",
    "    pm.set_data({'passer_nflId_idx': dfTrain['passer_nflId_idx']})\n",
    "    pm.set_data({'PassReceiver_ttl_risk': dfTrain['PassReceiver_ttl_risk']})\n",
    "    for i in range(1, 7 + 1):\n",
    "        pm.set_data({'rusher{}_impact'.format(i): dfTrain['Pass Rush_#{}_impact'.format(i)]})\n",
    "    for i in range(1, 9 + 1):\n",
    "        pm.set_data({'blckr{}_impact'.format(i): dfTrain['Pass Block_#{}_impact'.format(i)]})\n",
    "    posterior = pm.sample_posterior_predictive(model_trace)\n",
    "dfTrain_res = dfTrain\n",
    "dfTrain_res['pred'] = posterior['pass_fail'].mean(axis=0)\n",
    "dfTrain_res['pred_is_failed'] = (dfTrain_res['pred'] > 0.5).astype(int)\n",
    "\n",
    "cm = confusion_matrix(dfTrain_res['is_pass_failed'], dfTrain_res['pred_is_failed'])\n",
    "print('confusion matrix')\n",
    "print(cm)\n",
    "print('precision_score')\n",
    "print(precision_score(dfTrain_res['is_pass_failed'], dfTrain_res['pred_is_failed']))\n",
    "print('recall_score')\n",
    "print(recall_score(dfTrain_res['is_pass_failed'], dfTrain_res['pred_is_failed']))\n"
   ]
  },
  {
   "cell_type": "code",
   "execution_count": 220,
   "metadata": {},
   "outputs": [
    {
     "name": "stdout",
     "output_type": "stream",
     "text": [
      "Train data result 0.8328120598624176\n",
      "Test data result 0.813058058599182\n"
     ]
    }
   ],
   "source": [
    "from sklearn.metrics import roc_curve, auc\n",
    "fpr, tpr, thresholds = roc_curve(dfTrain_res['is_pass_failed'], dfTrain_res['pred'])\n",
    "print('Train data result', auc(fpr, tpr))\n",
    "fpr, tpr, thresholds = roc_curve(dfTest_res['is_pass_failed'], dfTest_res['pred'])\n",
    "print('Test data result',auc(fpr, tpr))\n"
   ]
  },
  {
   "cell_type": "code",
   "execution_count": 221,
   "metadata": {},
   "outputs": [
    {
     "data": {
      "application/vnd.plotly.v1+json": {
       "config": {
        "plotlyServerURL": "https://plot.ly"
       },
       "data": [
        {
         "hovertemplate": "False Positive Rate=%{x}<br>True Positive Rate=%{y}<extra></extra>",
         "legendgroup": "",
         "line": {
          "color": "#636efa"
         },
         "marker": {
          "symbol": "circle"
         },
         "mode": "lines",
         "name": "",
         "orientation": "v",
         "showlegend": false,
         "stackgroup": "1",
         "type": "scatter",
         "x": [
          0,
          0.0011389521640091116,
          0.0011389521640091116,
          0.0011389521640091116,
          0.0011389521640091116,
          0.0011389521640091116,
          0.0011389521640091116,
          0.0011389521640091116,
          0.002277904328018223,
          0.002277904328018223,
          0.003416856492027335,
          0.003416856492027335,
          0.003416856492027335,
          0.003416856492027335,
          0.003416856492027335,
          0.003416856492027335,
          0.004555808656036446,
          0.004555808656036446,
          0.004555808656036446,
          0.004555808656036446,
          0.0056947608200455585,
          0.0056947608200455585,
          0.00683371298405467,
          0.00683371298405467,
          0.007972665148063782,
          0.007972665148063782,
          0.010250569476082005,
          0.010250569476082005,
          0.011389521640091117,
          0.011389521640091117,
          0.012528473804100227,
          0.012528473804100227,
          0.012528473804100227,
          0.012528473804100227,
          0.014806378132118452,
          0.014806378132118452,
          0.014806378132118452,
          0.014806378132118452,
          0.015945330296127564,
          0.015945330296127564,
          0.017084282460136675,
          0.017084282460136675,
          0.018223234624145785,
          0.018223234624145785,
          0.0193621867881549,
          0.02050113895216401,
          0.02164009111617312,
          0.02164009111617312,
          0.022779043280182234,
          0.022779043280182234,
          0.023917995444191344,
          0.023917995444191344,
          0.02619589977220957,
          0.02619589977220957,
          0.02733485193621868,
          0.02733485193621868,
          0.029612756264236904,
          0.029612756264236904,
          0.029612756264236904,
          0.029612756264236904,
          0.03189066059225513,
          0.03189066059225513,
          0.03302961275626424,
          0.03302961275626424,
          0.03416856492027335,
          0.03416856492027335,
          0.03530751708428246,
          0.03530751708428246,
          0.03644646924829157,
          0.03644646924829157,
          0.0387243735763098,
          0.03986332574031891,
          0.03986332574031891,
          0.04100227790432802,
          0.04100227790432802,
          0.04214123006833713,
          0.04214123006833713,
          0.04328018223234624,
          0.04328018223234624,
          0.04441913439635535,
          0.04441913439635535,
          0.04669703872437358,
          0.04669703872437358,
          0.04783599088838269,
          0.04783599088838269,
          0.05011389521640091,
          0.05011389521640091,
          0.05011389521640091,
          0.05353075170842825,
          0.05353075170842825,
          0.05353075170842825,
          0.05353075170842825,
          0.05353075170842825,
          0.05353075170842825,
          0.05466970387243736,
          0.05466970387243736,
          0.05580865603644647,
          0.05580865603644647,
          0.05808656036446469,
          0.05808656036446469,
          0.05922551252847381,
          0.05922551252847381,
          0.06036446469248292,
          0.06036446469248292,
          0.06150341685649203,
          0.06150341685649203,
          0.06264236902050115,
          0.06378132118451026,
          0.06378132118451026,
          0.06492027334851937,
          0.06492027334851937,
          0.06605922551252848,
          0.06605922551252848,
          0.06605922551252848,
          0.06719817767653759,
          0.0683371298405467,
          0.0683371298405467,
          0.0683371298405467,
          0.0683371298405467,
          0.06947608200455581,
          0.06947608200455581,
          0.07061503416856492,
          0.07061503416856492,
          0.07061503416856492,
          0.07175398633257403,
          0.07289293849658314,
          0.07289293849658314,
          0.07403189066059225,
          0.07403189066059225,
          0.07517084282460136,
          0.07517084282460136,
          0.07630979498861047,
          0.07630979498861047,
          0.0774487471526196,
          0.0774487471526196,
          0.0785876993166287,
          0.0785876993166287,
          0.08200455580865604,
          0.08200455580865604,
          0.08428246013667426,
          0.08428246013667426,
          0.08542141230068337,
          0.08542141230068337,
          0.08656036446469248,
          0.08656036446469248,
          0.0888382687927107,
          0.0888382687927107,
          0.0888382687927107,
          0.08997722095671981,
          0.08997722095671981,
          0.09225512528473805,
          0.09225512528473805,
          0.09225512528473805,
          0.09339407744874716,
          0.09453302961275627,
          0.09567198177676538,
          0.09567198177676538,
          0.09567198177676538,
          0.09567198177676538,
          0.09681093394077449,
          0.09681093394077449,
          0.0979498861047836,
          0.0979498861047836,
          0.09908883826879271,
          0.09908883826879271,
          0.10250569476082004,
          0.10250569476082004,
          0.10592255125284739,
          0.10592255125284739,
          0.1070615034168565,
          0.1082004555808656,
          0.1082004555808656,
          0.10933940774487472,
          0.10933940774487472,
          0.10933940774487472,
          0.11047835990888383,
          0.11047835990888383,
          0.11161731207289294,
          0.11161731207289294,
          0.11161731207289294,
          0.11161731207289294,
          0.11275626423690205,
          0.11275626423690205,
          0.11389521640091116,
          0.11389521640091116,
          0.11503416856492027,
          0.11503416856492027,
          0.11731207289293849,
          0.11731207289293849,
          0.11845102505694761,
          0.11845102505694761,
          0.11958997722095673,
          0.12072892938496584,
          0.12072892938496584,
          0.12186788154897495,
          0.12186788154897495,
          0.12300683371298406,
          0.12300683371298406,
          0.12414578587699317,
          0.1252847380410023,
          0.1264236902050114,
          0.1275626423690205,
          0.12870159453302962,
          0.12870159453302962,
          0.12984054669703873,
          0.13097949886104784,
          0.13097949886104784,
          0.13211845102505695,
          0.13211845102505695,
          0.13325740318906606,
          0.13325740318906606,
          0.13553530751708429,
          0.13553530751708429,
          0.13553530751708429,
          0.13895216400911162,
          0.13895216400911162,
          0.14009111617312073,
          0.14009111617312073,
          0.14123006833712984,
          0.14123006833712984,
          0.14236902050113895,
          0.14236902050113895,
          0.14350797266514806,
          0.14464692482915717,
          0.14464692482915717,
          0.1492027334851936,
          0.1492027334851936,
          0.15148063781321183,
          0.15148063781321183,
          0.15261958997722094,
          0.15261958997722094,
          0.1548974943052392,
          0.1571753986332574,
          0.15831435079726652,
          0.15831435079726652,
          0.15945330296127563,
          0.15945330296127563,
          0.15945330296127563,
          0.16059225512528474,
          0.16059225512528474,
          0.16514806378132119,
          0.1662870159453303,
          0.1674259681093394,
          0.1674259681093394,
          0.16970387243735763,
          0.16970387243735763,
          0.17084282460136674,
          0.17084282460136674,
          0.17198177676537585,
          0.17198177676537585,
          0.17312072892938496,
          0.17312072892938496,
          0.17425968109339407,
          0.17425968109339407,
          0.17539863325740318,
          0.17539863325740318,
          0.1765375854214123,
          0.1765375854214123,
          0.1788154897494305,
          0.1788154897494305,
          0.17995444191343962,
          0.17995444191343962,
          0.18109339407744876,
          0.18109339407744876,
          0.1845102505694761,
          0.1845102505694761,
          0.1856492027334852,
          0.1867881548974943,
          0.1867881548974943,
          0.18792710706150342,
          0.18792710706150342,
          0.18906605922551253,
          0.19362186788154898,
          0.19362186788154898,
          0.19362186788154898,
          0.1958997722095672,
          0.20045558086560364,
          0.20159453302961275,
          0.20159453302961275,
          0.20273348519362186,
          0.20387243735763097,
          0.20501138952164008,
          0.20501138952164008,
          0.2072892938496583,
          0.20842824601366744,
          0.21070615034168566,
          0.21184510250569477,
          0.21184510250569477,
          0.214123006833713,
          0.21753986332574032,
          0.21753986332574032,
          0.21753986332574032,
          0.21753986332574032,
          0.21981776765375854,
          0.22095671981776766,
          0.22095671981776766,
          0.224373576309795,
          0.224373576309795,
          0.2255125284738041,
          0.2266514806378132,
          0.2266514806378132,
          0.22892938496583143,
          0.23006833712984054,
          0.23120728929384965,
          0.23120728929384965,
          0.23234624145785876,
          0.23234624145785876,
          0.23462414578587698,
          0.23690205011389523,
          0.23804100227790434,
          0.23804100227790434,
          0.24031890660592256,
          0.24031890660592256,
          0.24145785876993167,
          0.24259681093394078,
          0.24259681093394078,
          0.2437357630979499,
          0.244874715261959,
          0.2460136674259681,
          0.24829157175398633,
          0.24829157175398633,
          0.2505694760820046,
          0.255125284738041,
          0.25626423690205014,
          0.25854214123006836,
          0.25854214123006836,
          0.25968109339407747,
          0.2619589977220957,
          0.2619589977220957,
          0.2619589977220957,
          0.2630979498861048,
          0.2630979498861048,
          0.2642369020501139,
          0.2642369020501139,
          0.265375854214123,
          0.265375854214123,
          0.26651480637813213,
          0.26651480637813213,
          0.26993166287015946,
          0.2733485193621868,
          0.2744874715261959,
          0.2744874715261959,
          0.27904328018223234,
          0.28018223234624146,
          0.28018223234624146,
          0.2824601366742597,
          0.2824601366742597,
          0.2835990888382688,
          0.2835990888382688,
          0.2847380410022779,
          0.2847380410022779,
          0.285876993166287,
          0.28815489749430523,
          0.28815489749430523,
          0.28929384965831434,
          0.28929384965831434,
          0.29043280182232345,
          0.29043280182232345,
          0.2949886104783599,
          0.2972665148063781,
          0.29954441913439633,
          0.29954441913439633,
          0.30182232346241455,
          0.30182232346241455,
          0.30751708428246016,
          0.3086560364464693,
          0.3109339407744875,
          0.3109339407744875,
          0.31548974943052394,
          0.31548974943052394,
          0.31662870159453305,
          0.31890660592255127,
          0.31890660592255127,
          0.3200455580865604,
          0.3223234624145786,
          0.3223234624145786,
          0.3234624145785877,
          0.3234624145785877,
          0.3246013667425968,
          0.3246013667425968,
          0.32801822323462415,
          0.32801822323462415,
          0.33029612756264237,
          0.3337129840546697,
          0.3348519362186788,
          0.3348519362186788,
          0.33712984054669703,
          0.33826879271070615,
          0.33826879271070615,
          0.33940774487471526,
          0.33940774487471526,
          0.34054669703872437,
          0.34054669703872437,
          0.3462414578587699,
          0.3462414578587699,
          0.34738041002277903,
          0.34738041002277903,
          0.35079726651480636,
          0.35079726651480636,
          0.35193621867881547,
          0.35193621867881547,
          0.3542141230068337,
          0.3564920273348519,
          0.357630979498861,
          0.357630979498861,
          0.35876993166287013,
          0.35876993166287013,
          0.36332574031890663,
          0.36332574031890663,
          0.36446469248291574,
          0.36674259681093396,
          0.3690205011389522,
          0.3690205011389522,
          0.3701594533029613,
          0.3701594533029613,
          0.3712984054669704,
          0.37471526195899774,
          0.37813211845102507,
          0.37813211845102507,
          0.3815489749430524,
          0.3815489749430524,
          0.3838268792710706,
          0.3838268792710706,
          0.3838268792710706,
          0.38496583143507973,
          0.38496583143507973,
          0.38610478359908884,
          0.38610478359908884,
          0.3917995444191344,
          0.3917995444191344,
          0.3929384965831435,
          0.3929384965831435,
          0.3940774487471526,
          0.3940774487471526,
          0.3952164009111617,
          0.3952164009111617,
          0.39635535307517084,
          0.39749430523917995,
          0.39977220956719817,
          0.4020501138952164,
          0.4043280182232346,
          0.40660592255125283,
          0.41002277904328016,
          0.4123006833712984,
          0.4145785876993166,
          0.4145785876993166,
          0.4157175398633257,
          0.4168564920273349,
          0.4168564920273349,
          0.4191343963553531,
          0.4191343963553531,
          0.42255125284738043,
          0.42482915717539865,
          0.42596810933940776,
          0.428246013667426,
          0.4305239179954442,
          0.4316628701594533,
          0.4316628701594533,
          0.43621867881548976,
          0.43621867881548976,
          0.4407744874715262,
          0.4407744874715262,
          0.4407744874715262,
          0.44533029612756264,
          0.44533029612756264,
          0.44874715261959,
          0.4510250569476082,
          0.45899772209567197,
          0.45899772209567197,
          0.4601366742596811,
          0.4601366742596811,
          0.4612756264236902,
          0.4624145785876993,
          0.4646924829157175,
          0.46583143507972663,
          0.46583143507972663,
          0.46697038724373574,
          0.46810933940774485,
          0.47038724373576307,
          0.47266514806378135,
          0.47380410022779046,
          0.47380410022779046,
          0.47494305239179957,
          0.4783599088838269,
          0.48177676537585423,
          0.48291571753986334,
          0.48519362186788156,
          0.489749430523918,
          0.49316628701594534,
          0.4977220956719818,
          0.5,
          0.5011389521640092,
          0.5011389521640092,
          0.5034168564920274,
          0.5034168564920274,
          0.5056947608200456,
          0.5056947608200456,
          0.5068337129840547,
          0.5079726651480638,
          0.510250569476082,
          0.5125284738041003,
          0.5148063781321185,
          0.5170842824601367,
          0.5193621867881549,
          0.5216400911161732,
          0.5216400911161732,
          0.5239179954441914,
          0.5261958997722096,
          0.5273348519362187,
          0.5341685649202733,
          0.5353075170842825,
          0.5353075170842825,
          0.5387243735763098,
          0.541002277904328,
          0.5421412300683371,
          0.5421412300683371,
          0.5444191343963554,
          0.5444191343963554,
          0.5455580865603644,
          0.5501138952164009,
          0.5569476082004556,
          0.5580865603644647,
          0.5580865603644647,
          0.5592255125284739,
          0.5592255125284739,
          0.5603644646924829,
          0.5615034168564921,
          0.5626423690205011,
          0.5637813211845103,
          0.5660592255125285,
          0.5694760820045558,
          0.571753986332574,
          0.5740318906605922,
          0.5763097949886105,
          0.5808656036446469,
          0.5820045558086561,
          0.5820045558086561,
          0.5842824601366743,
          0.5842824601366743,
          0.5865603644646925,
          0.5888382687927107,
          0.5888382687927107,
          0.591116173120729,
          0.5933940774487472,
          0.5945330296127562,
          0.5968109339407744,
          0.5979498861047836,
          0.5979498861047836,
          0.6002277904328018,
          0.6013667425968109,
          0.60250569476082,
          0.6070615034168565,
          0.6082004555808656,
          0.6093394077448747,
          0.6116173120728929,
          0.6127562642369021,
          0.6127562642369021,
          0.6150341685649203,
          0.6161731207289294,
          0.6173120728929385,
          0.6195899772209568,
          0.6275626423690205,
          0.6275626423690205,
          0.6298405466970387,
          0.6309794988610479,
          0.6309794988610479,
          0.6321184510250569,
          0.6332574031890661,
          0.6366742596810934,
          0.6378132118451025,
          0.6412300683371298,
          0.6412300683371298,
          0.643507972665148,
          0.6469248291571754,
          0.6514806378132119,
          0.6514806378132119,
          0.6560364464692483,
          0.6605922551252847,
          0.662870159453303,
          0.664009111617312,
          0.6697038724373576,
          0.6719817767653758,
          0.6742596810933941,
          0.6753986332574032,
          0.6788154897494305,
          0.6822323462414579,
          0.6822323462414579,
          0.6902050113895216,
          0.6902050113895216,
          0.6913439635535308,
          0.693621867881549,
          0.6970387243735763,
          0.6981776765375854,
          0.6993166287015945,
          0.7015945330296127,
          0.7015945330296127,
          0.7027334851936219,
          0.7050113895216401,
          0.7061503416856492,
          0.7061503416856492,
          0.7072892938496583,
          0.7107061503416856,
          0.714123006833713,
          0.7164009111617312,
          0.7186788154897494,
          0.7209567198177677,
          0.7220956719817767,
          0.724373576309795,
          0.7255125284738041,
          0.7277904328018223,
          0.7312072892938497,
          0.7323462414578588,
          0.7334851936218679,
          0.7357630979498861,
          0.7403189066059226,
          0.7471526195899773,
          0.7471526195899773,
          0.7505694760820045,
          0.7505694760820045,
          0.7517084282460137,
          0.7562642369020501,
          0.7608200455580866,
          0.7619589977220956,
          0.7630979498861048,
          0.7699316628701595,
          0.7710706150341685,
          0.7733485193621867,
          0.775626423690205,
          0.7790432801822323,
          0.7801822323462415,
          0.784738041002278,
          0.785876993166287,
          0.7892938496583144,
          0.7927107061503417,
          0.7927107061503417,
          0.7995444191343963,
          0.8006833712984055,
          0.8075170842824602,
          0.8075170842824602,
          0.8109339407744874,
          0.8120728929384966,
          0.8143507972665148,
          0.8246013667425968,
          0.8257403189066059,
          0.8280182232346242,
          0.8302961275626424,
          0.8337129840546698,
          0.835990888382688,
          0.837129840546697,
          0.8428246013667426,
          0.8451025056947609,
          0.8462414578587699,
          0.8485193621867881,
          0.857630979498861,
          0.8599088838268792,
          0.8667425968109339,
          0.8678815489749431,
          0.8690205011389521,
          0.8712984054669703,
          0.8724373576309795,
          0.8747152619589977,
          0.8815489749430524,
          0.8826879271070615,
          0.8872437357630979,
          0.8883826879271071,
          0.8917995444191344,
          0.8986332574031891,
          0.8997722095671982,
          0.9020501138952164,
          0.9031890660592256,
          0.9054669703872438,
          0.907744874715262,
          0.9100227790432802,
          0.9134396355353075,
          0.9168564920273349,
          0.9179954441913439,
          0.9225512528473804,
          0.9259681093394078,
          0.928246013667426,
          0.9316628701594533,
          0.9339407744874715,
          0.9350797266514806,
          0.9384965831435079,
          0.9441913439635535,
          0.9464692482915718,
          0.9521640091116174,
          0.9544419134396356,
          0.958997722095672,
          0.9601366742596811,
          0.9624145785876993,
          0.9646924829157175,
          0.9658314350797267,
          0.9681093394077449,
          1
         ],
         "xaxis": "x",
         "y": [
          0,
          0.05073649754500818,
          0.05237315875613748,
          0.06546644844517185,
          0.07037643207855974,
          0.07201309328968904,
          0.088379705400982,
          0.09819967266775777,
          0.09819967266775777,
          0.09983633387888707,
          0.10147299509001637,
          0.11129296235679215,
          0.11456628477905073,
          0.11947626841243862,
          0.12274959083469722,
          0.1342062193126023,
          0.13584288052373159,
          0.13747954173486088,
          0.1407528641571195,
          0.14893617021276595,
          0.14893617021276595,
          0.15220949263502456,
          0.15220949263502456,
          0.16693944353518822,
          0.1685761047463175,
          0.1702127659574468,
          0.1734860883797054,
          0.18330605564648117,
          0.18330605564648117,
          0.18657937806873978,
          0.18657937806873978,
          0.19148936170212766,
          0.19476268412438624,
          0.19967266775777415,
          0.19967266775777415,
          0.20458265139116202,
          0.2078559738134206,
          0.20949263502454993,
          0.20949263502454993,
          0.2127659574468085,
          0.2127659574468085,
          0.2225859247135843,
          0.2225859247135843,
          0.23895253682487724,
          0.23895253682487724,
          0.24222585924713586,
          0.24222585924713586,
          0.24386252045826515,
          0.24386252045826515,
          0.24877250409165302,
          0.24877250409165302,
          0.2520458265139116,
          0.2520458265139116,
          0.2569558101472995,
          0.2569558101472995,
          0.25859247135842883,
          0.25859247135842883,
          0.2602291325695581,
          0.2635024549918167,
          0.2684124386252046,
          0.2684124386252046,
          0.2700490998363339,
          0.27168576104746317,
          0.2733224222585925,
          0.2733224222585925,
          0.281505728314239,
          0.281505728314239,
          0.2896890343698854,
          0.2896890343698854,
          0.29132569558101473,
          0.29132569558101473,
          0.29296235679214405,
          0.2945990180032733,
          0.2945990180032733,
          0.29623567921440264,
          0.2995090016366612,
          0.3011456628477905,
          0.3011456628477905,
          0.3027823240589198,
          0.3027823240589198,
          0.3044189852700491,
          0.3044189852700491,
          0.3060556464811784,
          0.3076923076923077,
          0.3109656301145663,
          0.3109656301145663,
          0.3142389525368249,
          0.3158756137479542,
          0.3158756137479542,
          0.32078559738134205,
          0.32405891980360063,
          0.32569558101472995,
          0.32896890343698854,
          0.33060556464811786,
          0.33060556464811786,
          0.3322422258592471,
          0.3322422258592471,
          0.33387888707037644,
          0.33387888707037644,
          0.337152209492635,
          0.337152209492635,
          0.3404255319148936,
          0.3404255319148936,
          0.34206219312602293,
          0.34206219312602293,
          0.3453355155482815,
          0.3453355155482815,
          0.3469721767594108,
          0.3486088379705401,
          0.3486088379705401,
          0.3502454991816694,
          0.3502454991816694,
          0.353518821603928,
          0.35842880523731585,
          0.36006546644844517,
          0.36006546644844517,
          0.36661211129296234,
          0.3698854337152209,
          0.37152209492635024,
          0.37152209492635024,
          0.3780687397708674,
          0.3780687397708674,
          0.37970540098199673,
          0.3829787234042553,
          0.38461538461538464,
          0.38461538461538464,
          0.3862520458265139,
          0.3862520458265139,
          0.3895253682487725,
          0.3895253682487725,
          0.39279869067103107,
          0.39279869067103107,
          0.3944353518821604,
          0.3960720130932897,
          0.40425531914893614,
          0.40425531914893614,
          0.4075286415711948,
          0.4075286415711948,
          0.41243862520458263,
          0.41243862520458263,
          0.41407528641571195,
          0.41407528641571195,
          0.4157119476268412,
          0.4157119476268412,
          0.41898527004909986,
          0.41898527004909986,
          0.425531914893617,
          0.4288052373158756,
          0.4288052373158756,
          0.43044189852700493,
          0.43044189852700493,
          0.4320785597381342,
          0.4353518821603928,
          0.4369885433715221,
          0.4369885433715221,
          0.4386252045826514,
          0.4451718494271686,
          0.44844517184942717,
          0.4500818330605565,
          0.4500818330605565,
          0.45171849427168576,
          0.45171849427168576,
          0.45499181669394434,
          0.45499181669394434,
          0.45662847790507366,
          0.45662847790507366,
          0.46153846153846156,
          0.46153846153846156,
          0.4713584288052373,
          0.4713584288052373,
          0.47299509001636664,
          0.4762684124386252,
          0.4779050736497545,
          0.48117839607201307,
          0.4828150572831424,
          0.4828150572831424,
          0.4877250409165303,
          0.4877250409165303,
          0.48936170212765956,
          0.49263502454991814,
          0.4959083469721768,
          0.4959083469721768,
          0.49754500818330605,
          0.49754500818330605,
          0.502454991816694,
          0.5040916530278232,
          0.5090016366612111,
          0.5090016366612111,
          0.5106382978723404,
          0.5106382978723404,
          0.5122749590834698,
          0.5122749590834698,
          0.513911620294599,
          0.5155482815057283,
          0.5155482815057283,
          0.5188216039279869,
          0.5188216039279869,
          0.5286415711947627,
          0.5286415711947627,
          0.530278232405892,
          0.530278232405892,
          0.5319148936170213,
          0.5319148936170213,
          0.5368248772504092,
          0.5368248772504092,
          0.5384615384615384,
          0.5417348608837971,
          0.5433715220949263,
          0.5450081833060556,
          0.5450081833060556,
          0.546644844517185,
          0.546644844517185,
          0.5482815057283142,
          0.5515548281505729,
          0.5515548281505729,
          0.5531914893617021,
          0.5531914893617021,
          0.5548281505728314,
          0.5548281505728314,
          0.5564648117839607,
          0.5564648117839607,
          0.55810147299509,
          0.55810147299509,
          0.5597381342062193,
          0.5662847790507365,
          0.5662847790507365,
          0.5695581014729951,
          0.5695581014729951,
          0.5711947626841244,
          0.5711947626841244,
          0.574468085106383,
          0.574468085106383,
          0.574468085106383,
          0.5761047463175123,
          0.5793780687397708,
          0.5793780687397708,
          0.5826513911620295,
          0.5842880523731587,
          0.5842880523731587,
          0.5859247135842881,
          0.5859247135842881,
          0.5875613747954174,
          0.5875613747954174,
          0.5891980360065466,
          0.5891980360065466,
          0.5908346972176759,
          0.5908346972176759,
          0.5941080196399345,
          0.5941080196399345,
          0.5990180032733224,
          0.5990180032733224,
          0.6039279869067103,
          0.6055646481178396,
          0.6088379705400983,
          0.6088379705400983,
          0.6153846153846154,
          0.6153846153846154,
          0.6170212765957447,
          0.6170212765957447,
          0.6219312602291326,
          0.6219312602291326,
          0.6252045826513911,
          0.6268412438625205,
          0.630114566284779,
          0.630114566284779,
          0.6317512274959084,
          0.6350245499181669,
          0.6350245499181669,
          0.6432078559738135,
          0.6432078559738135,
          0.6448445171849427,
          0.6448445171849427,
          0.6448445171849427,
          0.6481178396072013,
          0.6513911620294599,
          0.6513911620294599,
          0.6513911620294599,
          0.6513911620294599,
          0.6530278232405892,
          0.6530278232405892,
          0.6546644844517185,
          0.6546644844517185,
          0.6579378068739771,
          0.6579378068739771,
          0.6595744680851063,
          0.6595744680851063,
          0.6612111292962357,
          0.662847790507365,
          0.662847790507365,
          0.6644844517184942,
          0.6661211129296236,
          0.6693944353518821,
          0.679214402618658,
          0.6808510638297872,
          0.6808510638297872,
          0.6841243862520459,
          0.6841243862520459,
          0.6857610474631751,
          0.6873977086743044,
          0.6873977086743044,
          0.6890343698854338,
          0.6890343698854338,
          0.690671031096563,
          0.690671031096563,
          0.6923076923076923,
          0.6955810147299509,
          0.7037643207855974,
          0.7037643207855974,
          0.7054009819967266,
          0.7054009819967266,
          0.707037643207856,
          0.7103109656301145,
          0.7119476268412439,
          0.7119476268412439,
          0.7135842880523732,
          0.7152209492635024,
          0.7152209492635024,
          0.7168576104746317,
          0.7168576104746317,
          0.7168576104746317,
          0.7201309328968903,
          0.7201309328968903,
          0.7201309328968903,
          0.7217675941080196,
          0.7217675941080196,
          0.723404255319149,
          0.723404255319149,
          0.723404255319149,
          0.7250409165302782,
          0.7283142389525368,
          0.7283142389525368,
          0.7299509001636661,
          0.7299509001636661,
          0.7315875613747954,
          0.7315875613747954,
          0.7332242225859247,
          0.734860883797054,
          0.7381342062193126,
          0.7381342062193126,
          0.7381342062193126,
          0.7381342062193126,
          0.7397708674304418,
          0.7397708674304418,
          0.7414075286415712,
          0.7430441898527005,
          0.7430441898527005,
          0.7446808510638298,
          0.7446808510638298,
          0.7479541734860884,
          0.7479541734860884,
          0.7495908346972177,
          0.7495908346972177,
          0.7512274959083469,
          0.7561374795417348,
          0.7561374795417348,
          0.7610474631751227,
          0.7610474631751227,
          0.7643207855973814,
          0.7643207855973814,
          0.7659574468085106,
          0.7659574468085106,
          0.7675941080196399,
          0.7675941080196399,
          0.7708674304418985,
          0.7708674304418985,
          0.7725040916530278,
          0.7725040916530278,
          0.7741407528641571,
          0.7741407528641571,
          0.7757774140752864,
          0.7757774140752864,
          0.7757774140752864,
          0.7774140752864157,
          0.779050736497545,
          0.779050736497545,
          0.7823240589198036,
          0.7823240589198036,
          0.7839607201309329,
          0.7839607201309329,
          0.7855973813420621,
          0.7855973813420621,
          0.7872340425531915,
          0.7888707037643208,
          0.7888707037643208,
          0.79050736497545,
          0.7921440261865794,
          0.7921440261865794,
          0.7921440261865794,
          0.7937806873977087,
          0.7937806873977087,
          0.795417348608838,
          0.795417348608838,
          0.7986906710310966,
          0.7986906710310966,
          0.8019639934533551,
          0.8036006546644845,
          0.8052373158756138,
          0.8052373158756138,
          0.806873977086743,
          0.806873977086743,
          0.8085106382978723,
          0.8101472995090017,
          0.8101472995090017,
          0.8117839607201309,
          0.8150572831423896,
          0.8166939443535188,
          0.8183306055646481,
          0.8183306055646481,
          0.8199672667757774,
          0.8199672667757774,
          0.8199672667757774,
          0.8199672667757774,
          0.823240589198036,
          0.823240589198036,
          0.8248772504091653,
          0.8265139116202946,
          0.8265139116202946,
          0.8265139116202946,
          0.8281505728314239,
          0.8281505728314239,
          0.8297872340425532,
          0.8297872340425532,
          0.8363338788870703,
          0.839607201309329,
          0.839607201309329,
          0.8412438625204582,
          0.8412438625204582,
          0.8445171849427169,
          0.8445171849427169,
          0.8461538461538461,
          0.8461538461538461,
          0.8477905073649754,
          0.8477905073649754,
          0.8494271685761048,
          0.8494271685761048,
          0.851063829787234,
          0.851063829787234,
          0.8527004909983633,
          0.8527004909983633,
          0.8527004909983633,
          0.8527004909983633,
          0.8527004909983633,
          0.8527004909983633,
          0.8527004909983633,
          0.8527004909983633,
          0.8576104746317512,
          0.8576104746317512,
          0.8592471358428805,
          0.8608837970540099,
          0.8608837970540099,
          0.8625204582651391,
          0.8625204582651391,
          0.8625204582651391,
          0.8625204582651391,
          0.8625204582651391,
          0.8625204582651391,
          0.8641571194762684,
          0.8657937806873978,
          0.8657937806873978,
          0.867430441898527,
          0.867430441898527,
          0.8707037643207856,
          0.8723404255319149,
          0.8723404255319149,
          0.8739770867430442,
          0.8739770867430442,
          0.8739770867430442,
          0.8739770867430442,
          0.8756137479541735,
          0.8756137479541735,
          0.8772504091653028,
          0.8788870703764321,
          0.8788870703764321,
          0.8821603927986906,
          0.8821603927986906,
          0.88379705400982,
          0.88379705400982,
          0.8854337152209493,
          0.8854337152209493,
          0.8887070376432079,
          0.8887070376432079,
          0.8903436988543372,
          0.8936170212765957,
          0.8936170212765957,
          0.8936170212765957,
          0.8936170212765957,
          0.8952536824877251,
          0.8952536824877251,
          0.8952536824877251,
          0.8952536824877251,
          0.8952536824877251,
          0.8952536824877251,
          0.8968903436988543,
          0.8968903436988543,
          0.8985270049099836,
          0.8985270049099836,
          0.9018003273322422,
          0.9018003273322422,
          0.9034369885433715,
          0.9034369885433715,
          0.9050736497545008,
          0.9050736497545008,
          0.9067103109656302,
          0.9067103109656302,
          0.9067103109656302,
          0.9099836333878887,
          0.9099836333878887,
          0.9099836333878887,
          0.9099836333878887,
          0.9099836333878887,
          0.9099836333878887,
          0.9165302782324058,
          0.9165302782324058,
          0.9181669394435352,
          0.9181669394435352,
          0.9198036006546645,
          0.9198036006546645,
          0.9214402618657938,
          0.9214402618657938,
          0.9214402618657938,
          0.9214402618657938,
          0.9230769230769231,
          0.9247135842880524,
          0.9247135842880524,
          0.9263502454991817,
          0.9263502454991817,
          0.9296235679214403,
          0.9296235679214403,
          0.9312602291325696,
          0.9312602291325696,
          0.9312602291325696,
          0.9312602291325696,
          0.9312602291325696,
          0.9328968903436988,
          0.9328968903436988,
          0.9328968903436988,
          0.9345335515548282,
          0.9345335515548282,
          0.9361702127659575,
          0.9378068739770867,
          0.9378068739770867,
          0.939443535188216,
          0.939443535188216,
          0.939443535188216,
          0.9410801963993454,
          0.9427168576104746,
          0.9427168576104746,
          0.9459901800327333,
          0.9459901800327333,
          0.9459901800327333,
          0.9476268412438625,
          0.9476268412438625,
          0.9492635024549918,
          0.9492635024549918,
          0.9492635024549918,
          0.9509001636661211,
          0.9525368248772504,
          0.9525368248772504,
          0.9541734860883797,
          0.9541734860883797,
          0.9541734860883797,
          0.9541734860883797,
          0.955810147299509,
          0.955810147299509,
          0.955810147299509,
          0.9574468085106383,
          0.9574468085106383,
          0.9590834697217676,
          0.9607201309328969,
          0.9607201309328969,
          0.9607201309328969,
          0.9623567921440261,
          0.9623567921440261,
          0.9623567921440261,
          0.9623567921440261,
          0.9656301145662848,
          0.9656301145662848,
          0.9656301145662848,
          0.9656301145662848,
          0.9656301145662848,
          0.9656301145662848,
          0.9656301145662848,
          0.9656301145662848,
          0.967266775777414,
          0.967266775777414,
          0.967266775777414,
          0.9689034369885434,
          0.9689034369885434,
          0.9705400981996727,
          0.9705400981996727,
          0.9705400981996727,
          0.9705400981996727,
          0.972176759410802,
          0.972176759410802,
          0.972176759410802,
          0.9738134206219312,
          0.9738134206219312,
          0.9738134206219312,
          0.9738134206219312,
          0.9754500818330606,
          0.9770867430441899,
          0.9770867430441899,
          0.9770867430441899,
          0.9787234042553191,
          0.9787234042553191,
          0.9803600654664485,
          0.9803600654664485,
          0.9803600654664485,
          0.9803600654664485,
          0.9803600654664485,
          0.9803600654664485,
          0.9819967266775778,
          0.9819967266775778,
          0.9819967266775778,
          0.9819967266775778,
          0.9819967266775778,
          0.983633387888707,
          0.983633387888707,
          0.9852700490998363,
          0.9852700490998363,
          0.9852700490998363,
          0.9852700490998363,
          0.9852700490998363,
          0.9869067103109657,
          0.9869067103109657,
          0.9869067103109657,
          0.9869067103109657,
          0.9869067103109657,
          0.9869067103109657,
          0.9869067103109657,
          0.9869067103109657,
          0.9885433715220949,
          0.9885433715220949,
          0.9885433715220949,
          0.9901800327332242,
          0.9901800327332242,
          0.9901800327332242,
          0.9901800327332242,
          0.9918166939443536,
          0.9918166939443536,
          0.9918166939443536,
          0.9918166939443536,
          0.9918166939443536,
          0.9918166939443536,
          0.9934533551554828,
          0.9934533551554828,
          0.9934533551554828,
          0.9934533551554828,
          0.9950900163666121,
          0.9950900163666121,
          0.9950900163666121,
          0.9950900163666121,
          0.9950900163666121,
          0.9950900163666121,
          0.9950900163666121,
          0.9950900163666121,
          0.9967266775777414,
          0.9967266775777414,
          0.9967266775777414,
          0.9967266775777414,
          0.9967266775777414,
          0.9967266775777414,
          0.9983633387888707,
          0.9983633387888707,
          0.9983633387888707,
          0.9983633387888707,
          0.9983633387888707,
          0.9983633387888707,
          0.9983633387888707,
          0.9983633387888707,
          0.9983633387888707,
          0.9983633387888707,
          0.9983633387888707,
          0.9983633387888707,
          0.9983633387888707,
          0.9983633387888707,
          0.9983633387888707,
          0.9983633387888707,
          0.9983633387888707,
          0.9983633387888707,
          0.9983633387888707,
          0.9983633387888707,
          0.9983633387888707,
          0.9983633387888707,
          0.9983633387888707,
          0.9983633387888707,
          0.9983633387888707,
          0.9983633387888707,
          1,
          1,
          1,
          1,
          1,
          1
         ],
         "yaxis": "y"
        }
       ],
       "layout": {
        "height": 500,
        "legend": {
         "tracegroupgap": 0
        },
        "shapes": [
         {
          "line": {
           "dash": "dash"
          },
          "type": "line",
          "x0": 0,
          "x1": 1,
          "y0": 0,
          "y1": 1
         }
        ],
        "template": {
         "data": {
          "bar": [
           {
            "error_x": {
             "color": "#2a3f5f"
            },
            "error_y": {
             "color": "#2a3f5f"
            },
            "marker": {
             "line": {
              "color": "#E5ECF6",
              "width": 0.5
             },
             "pattern": {
              "fillmode": "overlay",
              "size": 10,
              "solidity": 0.2
             }
            },
            "type": "bar"
           }
          ],
          "barpolar": [
           {
            "marker": {
             "line": {
              "color": "#E5ECF6",
              "width": 0.5
             },
             "pattern": {
              "fillmode": "overlay",
              "size": 10,
              "solidity": 0.2
             }
            },
            "type": "barpolar"
           }
          ],
          "carpet": [
           {
            "aaxis": {
             "endlinecolor": "#2a3f5f",
             "gridcolor": "white",
             "linecolor": "white",
             "minorgridcolor": "white",
             "startlinecolor": "#2a3f5f"
            },
            "baxis": {
             "endlinecolor": "#2a3f5f",
             "gridcolor": "white",
             "linecolor": "white",
             "minorgridcolor": "white",
             "startlinecolor": "#2a3f5f"
            },
            "type": "carpet"
           }
          ],
          "choropleth": [
           {
            "colorbar": {
             "outlinewidth": 0,
             "ticks": ""
            },
            "type": "choropleth"
           }
          ],
          "contour": [
           {
            "colorbar": {
             "outlinewidth": 0,
             "ticks": ""
            },
            "colorscale": [
             [
              0,
              "#0d0887"
             ],
             [
              0.1111111111111111,
              "#46039f"
             ],
             [
              0.2222222222222222,
              "#7201a8"
             ],
             [
              0.3333333333333333,
              "#9c179e"
             ],
             [
              0.4444444444444444,
              "#bd3786"
             ],
             [
              0.5555555555555556,
              "#d8576b"
             ],
             [
              0.6666666666666666,
              "#ed7953"
             ],
             [
              0.7777777777777778,
              "#fb9f3a"
             ],
             [
              0.8888888888888888,
              "#fdca26"
             ],
             [
              1,
              "#f0f921"
             ]
            ],
            "type": "contour"
           }
          ],
          "contourcarpet": [
           {
            "colorbar": {
             "outlinewidth": 0,
             "ticks": ""
            },
            "type": "contourcarpet"
           }
          ],
          "heatmap": [
           {
            "colorbar": {
             "outlinewidth": 0,
             "ticks": ""
            },
            "colorscale": [
             [
              0,
              "#0d0887"
             ],
             [
              0.1111111111111111,
              "#46039f"
             ],
             [
              0.2222222222222222,
              "#7201a8"
             ],
             [
              0.3333333333333333,
              "#9c179e"
             ],
             [
              0.4444444444444444,
              "#bd3786"
             ],
             [
              0.5555555555555556,
              "#d8576b"
             ],
             [
              0.6666666666666666,
              "#ed7953"
             ],
             [
              0.7777777777777778,
              "#fb9f3a"
             ],
             [
              0.8888888888888888,
              "#fdca26"
             ],
             [
              1,
              "#f0f921"
             ]
            ],
            "type": "heatmap"
           }
          ],
          "heatmapgl": [
           {
            "colorbar": {
             "outlinewidth": 0,
             "ticks": ""
            },
            "colorscale": [
             [
              0,
              "#0d0887"
             ],
             [
              0.1111111111111111,
              "#46039f"
             ],
             [
              0.2222222222222222,
              "#7201a8"
             ],
             [
              0.3333333333333333,
              "#9c179e"
             ],
             [
              0.4444444444444444,
              "#bd3786"
             ],
             [
              0.5555555555555556,
              "#d8576b"
             ],
             [
              0.6666666666666666,
              "#ed7953"
             ],
             [
              0.7777777777777778,
              "#fb9f3a"
             ],
             [
              0.8888888888888888,
              "#fdca26"
             ],
             [
              1,
              "#f0f921"
             ]
            ],
            "type": "heatmapgl"
           }
          ],
          "histogram": [
           {
            "marker": {
             "pattern": {
              "fillmode": "overlay",
              "size": 10,
              "solidity": 0.2
             }
            },
            "type": "histogram"
           }
          ],
          "histogram2d": [
           {
            "colorbar": {
             "outlinewidth": 0,
             "ticks": ""
            },
            "colorscale": [
             [
              0,
              "#0d0887"
             ],
             [
              0.1111111111111111,
              "#46039f"
             ],
             [
              0.2222222222222222,
              "#7201a8"
             ],
             [
              0.3333333333333333,
              "#9c179e"
             ],
             [
              0.4444444444444444,
              "#bd3786"
             ],
             [
              0.5555555555555556,
              "#d8576b"
             ],
             [
              0.6666666666666666,
              "#ed7953"
             ],
             [
              0.7777777777777778,
              "#fb9f3a"
             ],
             [
              0.8888888888888888,
              "#fdca26"
             ],
             [
              1,
              "#f0f921"
             ]
            ],
            "type": "histogram2d"
           }
          ],
          "histogram2dcontour": [
           {
            "colorbar": {
             "outlinewidth": 0,
             "ticks": ""
            },
            "colorscale": [
             [
              0,
              "#0d0887"
             ],
             [
              0.1111111111111111,
              "#46039f"
             ],
             [
              0.2222222222222222,
              "#7201a8"
             ],
             [
              0.3333333333333333,
              "#9c179e"
             ],
             [
              0.4444444444444444,
              "#bd3786"
             ],
             [
              0.5555555555555556,
              "#d8576b"
             ],
             [
              0.6666666666666666,
              "#ed7953"
             ],
             [
              0.7777777777777778,
              "#fb9f3a"
             ],
             [
              0.8888888888888888,
              "#fdca26"
             ],
             [
              1,
              "#f0f921"
             ]
            ],
            "type": "histogram2dcontour"
           }
          ],
          "mesh3d": [
           {
            "colorbar": {
             "outlinewidth": 0,
             "ticks": ""
            },
            "type": "mesh3d"
           }
          ],
          "parcoords": [
           {
            "line": {
             "colorbar": {
              "outlinewidth": 0,
              "ticks": ""
             }
            },
            "type": "parcoords"
           }
          ],
          "pie": [
           {
            "automargin": true,
            "type": "pie"
           }
          ],
          "scatter": [
           {
            "marker": {
             "colorbar": {
              "outlinewidth": 0,
              "ticks": ""
             }
            },
            "type": "scatter"
           }
          ],
          "scatter3d": [
           {
            "line": {
             "colorbar": {
              "outlinewidth": 0,
              "ticks": ""
             }
            },
            "marker": {
             "colorbar": {
              "outlinewidth": 0,
              "ticks": ""
             }
            },
            "type": "scatter3d"
           }
          ],
          "scattercarpet": [
           {
            "marker": {
             "colorbar": {
              "outlinewidth": 0,
              "ticks": ""
             }
            },
            "type": "scattercarpet"
           }
          ],
          "scattergeo": [
           {
            "marker": {
             "colorbar": {
              "outlinewidth": 0,
              "ticks": ""
             }
            },
            "type": "scattergeo"
           }
          ],
          "scattergl": [
           {
            "marker": {
             "colorbar": {
              "outlinewidth": 0,
              "ticks": ""
             }
            },
            "type": "scattergl"
           }
          ],
          "scattermapbox": [
           {
            "marker": {
             "colorbar": {
              "outlinewidth": 0,
              "ticks": ""
             }
            },
            "type": "scattermapbox"
           }
          ],
          "scatterpolar": [
           {
            "marker": {
             "colorbar": {
              "outlinewidth": 0,
              "ticks": ""
             }
            },
            "type": "scatterpolar"
           }
          ],
          "scatterpolargl": [
           {
            "marker": {
             "colorbar": {
              "outlinewidth": 0,
              "ticks": ""
             }
            },
            "type": "scatterpolargl"
           }
          ],
          "scatterternary": [
           {
            "marker": {
             "colorbar": {
              "outlinewidth": 0,
              "ticks": ""
             }
            },
            "type": "scatterternary"
           }
          ],
          "surface": [
           {
            "colorbar": {
             "outlinewidth": 0,
             "ticks": ""
            },
            "colorscale": [
             [
              0,
              "#0d0887"
             ],
             [
              0.1111111111111111,
              "#46039f"
             ],
             [
              0.2222222222222222,
              "#7201a8"
             ],
             [
              0.3333333333333333,
              "#9c179e"
             ],
             [
              0.4444444444444444,
              "#bd3786"
             ],
             [
              0.5555555555555556,
              "#d8576b"
             ],
             [
              0.6666666666666666,
              "#ed7953"
             ],
             [
              0.7777777777777778,
              "#fb9f3a"
             ],
             [
              0.8888888888888888,
              "#fdca26"
             ],
             [
              1,
              "#f0f921"
             ]
            ],
            "type": "surface"
           }
          ],
          "table": [
           {
            "cells": {
             "fill": {
              "color": "#EBF0F8"
             },
             "line": {
              "color": "white"
             }
            },
            "header": {
             "fill": {
              "color": "#C8D4E3"
             },
             "line": {
              "color": "white"
             }
            },
            "type": "table"
           }
          ]
         },
         "layout": {
          "annotationdefaults": {
           "arrowcolor": "#2a3f5f",
           "arrowhead": 0,
           "arrowwidth": 1
          },
          "autotypenumbers": "strict",
          "coloraxis": {
           "colorbar": {
            "outlinewidth": 0,
            "ticks": ""
           }
          },
          "colorscale": {
           "diverging": [
            [
             0,
             "#8e0152"
            ],
            [
             0.1,
             "#c51b7d"
            ],
            [
             0.2,
             "#de77ae"
            ],
            [
             0.3,
             "#f1b6da"
            ],
            [
             0.4,
             "#fde0ef"
            ],
            [
             0.5,
             "#f7f7f7"
            ],
            [
             0.6,
             "#e6f5d0"
            ],
            [
             0.7,
             "#b8e186"
            ],
            [
             0.8,
             "#7fbc41"
            ],
            [
             0.9,
             "#4d9221"
            ],
            [
             1,
             "#276419"
            ]
           ],
           "sequential": [
            [
             0,
             "#0d0887"
            ],
            [
             0.1111111111111111,
             "#46039f"
            ],
            [
             0.2222222222222222,
             "#7201a8"
            ],
            [
             0.3333333333333333,
             "#9c179e"
            ],
            [
             0.4444444444444444,
             "#bd3786"
            ],
            [
             0.5555555555555556,
             "#d8576b"
            ],
            [
             0.6666666666666666,
             "#ed7953"
            ],
            [
             0.7777777777777778,
             "#fb9f3a"
            ],
            [
             0.8888888888888888,
             "#fdca26"
            ],
            [
             1,
             "#f0f921"
            ]
           ],
           "sequentialminus": [
            [
             0,
             "#0d0887"
            ],
            [
             0.1111111111111111,
             "#46039f"
            ],
            [
             0.2222222222222222,
             "#7201a8"
            ],
            [
             0.3333333333333333,
             "#9c179e"
            ],
            [
             0.4444444444444444,
             "#bd3786"
            ],
            [
             0.5555555555555556,
             "#d8576b"
            ],
            [
             0.6666666666666666,
             "#ed7953"
            ],
            [
             0.7777777777777778,
             "#fb9f3a"
            ],
            [
             0.8888888888888888,
             "#fdca26"
            ],
            [
             1,
             "#f0f921"
            ]
           ]
          },
          "colorway": [
           "#636efa",
           "#EF553B",
           "#00cc96",
           "#ab63fa",
           "#FFA15A",
           "#19d3f3",
           "#FF6692",
           "#B6E880",
           "#FF97FF",
           "#FECB52"
          ],
          "font": {
           "color": "#2a3f5f"
          },
          "geo": {
           "bgcolor": "white",
           "lakecolor": "white",
           "landcolor": "#E5ECF6",
           "showlakes": true,
           "showland": true,
           "subunitcolor": "white"
          },
          "hoverlabel": {
           "align": "left"
          },
          "hovermode": "closest",
          "mapbox": {
           "style": "light"
          },
          "paper_bgcolor": "white",
          "plot_bgcolor": "#E5ECF6",
          "polar": {
           "angularaxis": {
            "gridcolor": "white",
            "linecolor": "white",
            "ticks": ""
           },
           "bgcolor": "#E5ECF6",
           "radialaxis": {
            "gridcolor": "white",
            "linecolor": "white",
            "ticks": ""
           }
          },
          "scene": {
           "xaxis": {
            "backgroundcolor": "#E5ECF6",
            "gridcolor": "white",
            "gridwidth": 2,
            "linecolor": "white",
            "showbackground": true,
            "ticks": "",
            "zerolinecolor": "white"
           },
           "yaxis": {
            "backgroundcolor": "#E5ECF6",
            "gridcolor": "white",
            "gridwidth": 2,
            "linecolor": "white",
            "showbackground": true,
            "ticks": "",
            "zerolinecolor": "white"
           },
           "zaxis": {
            "backgroundcolor": "#E5ECF6",
            "gridcolor": "white",
            "gridwidth": 2,
            "linecolor": "white",
            "showbackground": true,
            "ticks": "",
            "zerolinecolor": "white"
           }
          },
          "shapedefaults": {
           "line": {
            "color": "#2a3f5f"
           }
          },
          "ternary": {
           "aaxis": {
            "gridcolor": "white",
            "linecolor": "white",
            "ticks": ""
           },
           "baxis": {
            "gridcolor": "white",
            "linecolor": "white",
            "ticks": ""
           },
           "bgcolor": "#E5ECF6",
           "caxis": {
            "gridcolor": "white",
            "linecolor": "white",
            "ticks": ""
           }
          },
          "title": {
           "x": 0.05
          },
          "xaxis": {
           "automargin": true,
           "gridcolor": "white",
           "linecolor": "white",
           "ticks": "",
           "title": {
            "standoff": 15
           },
           "zerolinecolor": "white",
           "zerolinewidth": 2
          },
          "yaxis": {
           "automargin": true,
           "gridcolor": "white",
           "linecolor": "white",
           "ticks": "",
           "title": {
            "standoff": 15
           },
           "zerolinecolor": "white",
           "zerolinewidth": 2
          }
         }
        },
        "title": {
         "text": "ROC Curve (AUC=0.8131)"
        },
        "width": 700,
        "xaxis": {
         "anchor": "y",
         "autorange": true,
         "constrain": "domain",
         "domain": [
          0.21759259259259273,
          0.7824074074074073
         ],
         "range": [
          -0.0033003300330033004,
          1.0033003300330032
         ],
         "title": {
          "text": "False Positive Rate"
         },
         "type": "linear"
        },
        "yaxis": {
         "anchor": "x",
         "autorange": true,
         "domain": [
          0,
          1
         ],
         "range": [
          -0.0033003300330033004,
          1.0528052805280528
         ],
         "scaleanchor": "x",
         "scaleratio": 1,
         "title": {
          "text": "True Positive Rate"
         },
         "type": "linear"
        }
       }
      },
      "image/png": "[encoded data removed]",
      "text/html": [
       "<div>                            <div id=\"57332912-2132-4c34-83d0-7249be1e9d4f\" class=\"plotly-graph-div\" style=\"height:500px; width:700px;\"></div>            <script type=\"text/javascript\">                require([\"plotly\"], function(Plotly) {                    window.PLOTLYENV=window.PLOTLYENV || {};                                    if (document.getElementById(\"57332912-2132-4c34-83d0-7249be1e9d4f\")) {                    Plotly.newPlot(                        \"57332912-2132-4c34-83d0-7249be1e9d4f\",                        [{\"hovertemplate\":\"False Positive Rate=%{x}<br>True Positive Rate=%{y}<extra></extra>\",\"legendgroup\":\"\",\"line\":{\"color\":\"#636efa\"},\"marker\":{\"symbol\":\"circle\"},\"mode\":\"lines\",\"name\":\"\",\"orientation\":\"v\",\"showlegend\":false,\"stackgroup\":\"1\",\"type\":\"scatter\",\"x\":[0.0,0.0011389521640091116,0.0011389521640091116,0.0011389521640091116,0.0011389521640091116,0.0011389521640091116,0.0011389521640091116,0.0011389521640091116,0.002277904328018223,0.002277904328018223,0.003416856492027335,0.003416856492027335,0.003416856492027335,0.003416856492027335,0.003416856492027335,0.003416856492027335,0.004555808656036446,0.004555808656036446,0.004555808656036446,0.004555808656036446,0.0056947608200455585,0.0056947608200455585,0.00683371298405467,0.00683371298405467,0.007972665148063782,0.007972665148063782,0.010250569476082005,0.010250569476082005,0.011389521640091117,0.011389521640091117,0.012528473804100227,0.012528473804100227,0.012528473804100227,0.012528473804100227,0.014806378132118452,0.014806378132118452,0.014806378132118452,0.014806378132118452,0.015945330296127564,0.015945330296127564,0.017084282460136675,0.017084282460136675,0.018223234624145785,0.018223234624145785,0.0193621867881549,0.02050113895216401,0.02164009111617312,0.02164009111617312,0.022779043280182234,0.022779043280182234,0.023917995444191344,0.023917995444191344,0.02619589977220957,0.02619589977220957,0.02733485193621868,0.02733485193621868,0.029612756264236904,0.029612756264236904,0.029612756264236904,0.029612756264236904,0.03189066059225513,0.03189066059225513,0.03302961275626424,0.03302961275626424,0.03416856492027335,0.03416856492027335,0.03530751708428246,0.03530751708428246,0.03644646924829157,0.03644646924829157,0.0387243735763098,0.03986332574031891,0.03986332574031891,0.04100227790432802,0.04100227790432802,0.04214123006833713,0.04214123006833713,0.04328018223234624,0.04328018223234624,0.04441913439635535,0.04441913439635535,0.04669703872437358,0.04669703872437358,0.04783599088838269,0.04783599088838269,0.05011389521640091,0.05011389521640091,0.05011389521640091,0.05353075170842825,0.05353075170842825,0.05353075170842825,0.05353075170842825,0.05353075170842825,0.05353075170842825,0.05466970387243736,0.05466970387243736,0.05580865603644647,0.05580865603644647,0.05808656036446469,0.05808656036446469,0.05922551252847381,0.05922551252847381,0.06036446469248292,0.06036446469248292,0.06150341685649203,0.06150341685649203,0.06264236902050115,0.06378132118451026,0.06378132118451026,0.06492027334851937,0.06492027334851937,0.06605922551252848,0.06605922551252848,0.06605922551252848,0.06719817767653759,0.0683371298405467,0.0683371298405467,0.0683371298405467,0.0683371298405467,0.06947608200455581,0.06947608200455581,0.07061503416856492,0.07061503416856492,0.07061503416856492,0.07175398633257403,0.07289293849658314,0.07289293849658314,0.07403189066059225,0.07403189066059225,0.07517084282460136,0.07517084282460136,0.07630979498861047,0.07630979498861047,0.0774487471526196,0.0774487471526196,0.0785876993166287,0.0785876993166287,0.08200455580865604,0.08200455580865604,0.08428246013667426,0.08428246013667426,0.08542141230068337,0.08542141230068337,0.08656036446469248,0.08656036446469248,0.0888382687927107,0.0888382687927107,0.0888382687927107,0.08997722095671981,0.08997722095671981,0.09225512528473805,0.09225512528473805,0.09225512528473805,0.09339407744874716,0.09453302961275627,0.09567198177676538,0.09567198177676538,0.09567198177676538,0.09567198177676538,0.09681093394077449,0.09681093394077449,0.0979498861047836,0.0979498861047836,0.09908883826879271,0.09908883826879271,0.10250569476082004,0.10250569476082004,0.10592255125284739,0.10592255125284739,0.1070615034168565,0.1082004555808656,0.1082004555808656,0.10933940774487472,0.10933940774487472,0.10933940774487472,0.11047835990888383,0.11047835990888383,0.11161731207289294,0.11161731207289294,0.11161731207289294,0.11161731207289294,0.11275626423690205,0.11275626423690205,0.11389521640091116,0.11389521640091116,0.11503416856492027,0.11503416856492027,0.11731207289293849,0.11731207289293849,0.11845102505694761,0.11845102505694761,0.11958997722095673,0.12072892938496584,0.12072892938496584,0.12186788154897495,0.12186788154897495,0.12300683371298406,0.12300683371298406,0.12414578587699317,0.1252847380410023,0.1264236902050114,0.1275626423690205,0.12870159453302962,0.12870159453302962,0.12984054669703873,0.13097949886104784,0.13097949886104784,0.13211845102505695,0.13211845102505695,0.13325740318906606,0.13325740318906606,0.13553530751708429,0.13553530751708429,0.13553530751708429,0.13895216400911162,0.13895216400911162,0.14009111617312073,0.14009111617312073,0.14123006833712984,0.14123006833712984,0.14236902050113895,0.14236902050113895,0.14350797266514806,0.14464692482915717,0.14464692482915717,0.1492027334851936,0.1492027334851936,0.15148063781321183,0.15148063781321183,0.15261958997722094,0.15261958997722094,0.1548974943052392,0.1571753986332574,0.15831435079726652,0.15831435079726652,0.15945330296127563,0.15945330296127563,0.15945330296127563,0.16059225512528474,0.16059225512528474,0.16514806378132119,0.1662870159453303,0.1674259681093394,0.1674259681093394,0.16970387243735763,0.16970387243735763,0.17084282460136674,0.17084282460136674,0.17198177676537585,0.17198177676537585,0.17312072892938496,0.17312072892938496,0.17425968109339407,0.17425968109339407,0.17539863325740318,0.17539863325740318,0.1765375854214123,0.1765375854214123,0.1788154897494305,0.1788154897494305,0.17995444191343962,0.17995444191343962,0.18109339407744876,0.18109339407744876,0.1845102505694761,0.1845102505694761,0.1856492027334852,0.1867881548974943,0.1867881548974943,0.18792710706150342,0.18792710706150342,0.18906605922551253,0.19362186788154898,0.19362186788154898,0.19362186788154898,0.1958997722095672,0.20045558086560364,0.20159453302961275,0.20159453302961275,0.20273348519362186,0.20387243735763097,0.20501138952164008,0.20501138952164008,0.2072892938496583,0.20842824601366744,0.21070615034168566,0.21184510250569477,0.21184510250569477,0.214123006833713,0.21753986332574032,0.21753986332574032,0.21753986332574032,0.21753986332574032,0.21981776765375854,0.22095671981776766,0.22095671981776766,0.224373576309795,0.224373576309795,0.2255125284738041,0.2266514806378132,0.2266514806378132,0.22892938496583143,0.23006833712984054,0.23120728929384965,0.23120728929384965,0.23234624145785876,0.23234624145785876,0.23462414578587698,0.23690205011389523,0.23804100227790434,0.23804100227790434,0.24031890660592256,0.24031890660592256,0.24145785876993167,0.24259681093394078,0.24259681093394078,0.2437357630979499,0.244874715261959,0.2460136674259681,0.24829157175398633,0.24829157175398633,0.2505694760820046,0.255125284738041,0.25626423690205014,0.25854214123006836,0.25854214123006836,0.25968109339407747,0.2619589977220957,0.2619589977220957,0.2619589977220957,0.2630979498861048,0.2630979498861048,0.2642369020501139,0.2642369020501139,0.265375854214123,0.265375854214123,0.26651480637813213,0.26651480637813213,0.26993166287015946,0.2733485193621868,0.2744874715261959,0.2744874715261959,0.27904328018223234,0.28018223234624146,0.28018223234624146,0.2824601366742597,0.2824601366742597,0.2835990888382688,0.2835990888382688,0.2847380410022779,0.2847380410022779,0.285876993166287,0.28815489749430523,0.28815489749430523,0.28929384965831434,0.28929384965831434,0.29043280182232345,0.29043280182232345,0.2949886104783599,0.2972665148063781,0.29954441913439633,0.29954441913439633,0.30182232346241455,0.30182232346241455,0.30751708428246016,0.3086560364464693,0.3109339407744875,0.3109339407744875,0.31548974943052394,0.31548974943052394,0.31662870159453305,0.31890660592255127,0.31890660592255127,0.3200455580865604,0.3223234624145786,0.3223234624145786,0.3234624145785877,0.3234624145785877,0.3246013667425968,0.3246013667425968,0.32801822323462415,0.32801822323462415,0.33029612756264237,0.3337129840546697,0.3348519362186788,0.3348519362186788,0.33712984054669703,0.33826879271070615,0.33826879271070615,0.33940774487471526,0.33940774487471526,0.34054669703872437,0.34054669703872437,0.3462414578587699,0.3462414578587699,0.34738041002277903,0.34738041002277903,0.35079726651480636,0.35079726651480636,0.35193621867881547,0.35193621867881547,0.3542141230068337,0.3564920273348519,0.357630979498861,0.357630979498861,0.35876993166287013,0.35876993166287013,0.36332574031890663,0.36332574031890663,0.36446469248291574,0.36674259681093396,0.3690205011389522,0.3690205011389522,0.3701594533029613,0.3701594533029613,0.3712984054669704,0.37471526195899774,0.37813211845102507,0.37813211845102507,0.3815489749430524,0.3815489749430524,0.3838268792710706,0.3838268792710706,0.3838268792710706,0.38496583143507973,0.38496583143507973,0.38610478359908884,0.38610478359908884,0.3917995444191344,0.3917995444191344,0.3929384965831435,0.3929384965831435,0.3940774487471526,0.3940774487471526,0.3952164009111617,0.3952164009111617,0.39635535307517084,0.39749430523917995,0.39977220956719817,0.4020501138952164,0.4043280182232346,0.40660592255125283,0.41002277904328016,0.4123006833712984,0.4145785876993166,0.4145785876993166,0.4157175398633257,0.4168564920273349,0.4168564920273349,0.4191343963553531,0.4191343963553531,0.42255125284738043,0.42482915717539865,0.42596810933940776,0.428246013667426,0.4305239179954442,0.4316628701594533,0.4316628701594533,0.43621867881548976,0.43621867881548976,0.4407744874715262,0.4407744874715262,0.4407744874715262,0.44533029612756264,0.44533029612756264,0.44874715261959,0.4510250569476082,0.45899772209567197,0.45899772209567197,0.4601366742596811,0.4601366742596811,0.4612756264236902,0.4624145785876993,0.4646924829157175,0.46583143507972663,0.46583143507972663,0.46697038724373574,0.46810933940774485,0.47038724373576307,0.47266514806378135,0.47380410022779046,0.47380410022779046,0.47494305239179957,0.4783599088838269,0.48177676537585423,0.48291571753986334,0.48519362186788156,0.489749430523918,0.49316628701594534,0.4977220956719818,0.5,0.5011389521640092,0.5011389521640092,0.5034168564920274,0.5034168564920274,0.5056947608200456,0.5056947608200456,0.5068337129840547,0.5079726651480638,0.510250569476082,0.5125284738041003,0.5148063781321185,0.5170842824601367,0.5193621867881549,0.5216400911161732,0.5216400911161732,0.5239179954441914,0.5261958997722096,0.5273348519362187,0.5341685649202733,0.5353075170842825,0.5353075170842825,0.5387243735763098,0.541002277904328,0.5421412300683371,0.5421412300683371,0.5444191343963554,0.5444191343963554,0.5455580865603644,0.5501138952164009,0.5569476082004556,0.5580865603644647,0.5580865603644647,0.5592255125284739,0.5592255125284739,0.5603644646924829,0.5615034168564921,0.5626423690205011,0.5637813211845103,0.5660592255125285,0.5694760820045558,0.571753986332574,0.5740318906605922,0.5763097949886105,0.5808656036446469,0.5820045558086561,0.5820045558086561,0.5842824601366743,0.5842824601366743,0.5865603644646925,0.5888382687927107,0.5888382687927107,0.591116173120729,0.5933940774487472,0.5945330296127562,0.5968109339407744,0.5979498861047836,0.5979498861047836,0.6002277904328018,0.6013667425968109,0.60250569476082,0.6070615034168565,0.6082004555808656,0.6093394077448747,0.6116173120728929,0.6127562642369021,0.6127562642369021,0.6150341685649203,0.6161731207289294,0.6173120728929385,0.6195899772209568,0.6275626423690205,0.6275626423690205,0.6298405466970387,0.6309794988610479,0.6309794988610479,0.6321184510250569,0.6332574031890661,0.6366742596810934,0.6378132118451025,0.6412300683371298,0.6412300683371298,0.643507972665148,0.6469248291571754,0.6514806378132119,0.6514806378132119,0.6560364464692483,0.6605922551252847,0.662870159453303,0.664009111617312,0.6697038724373576,0.6719817767653758,0.6742596810933941,0.6753986332574032,0.6788154897494305,0.6822323462414579,0.6822323462414579,0.6902050113895216,0.6902050113895216,0.6913439635535308,0.693621867881549,0.6970387243735763,0.6981776765375854,0.6993166287015945,0.7015945330296127,0.7015945330296127,0.7027334851936219,0.7050113895216401,0.7061503416856492,0.7061503416856492,0.7072892938496583,0.7107061503416856,0.714123006833713,0.7164009111617312,0.7186788154897494,0.7209567198177677,0.7220956719817767,0.724373576309795,0.7255125284738041,0.7277904328018223,0.7312072892938497,0.7323462414578588,0.7334851936218679,0.7357630979498861,0.7403189066059226,0.7471526195899773,0.7471526195899773,0.7505694760820045,0.7505694760820045,0.7517084282460137,0.7562642369020501,0.7608200455580866,0.7619589977220956,0.7630979498861048,0.7699316628701595,0.7710706150341685,0.7733485193621867,0.775626423690205,0.7790432801822323,0.7801822323462415,0.784738041002278,0.785876993166287,0.7892938496583144,0.7927107061503417,0.7927107061503417,0.7995444191343963,0.8006833712984055,0.8075170842824602,0.8075170842824602,0.8109339407744874,0.8120728929384966,0.8143507972665148,0.8246013667425968,0.8257403189066059,0.8280182232346242,0.8302961275626424,0.8337129840546698,0.835990888382688,0.837129840546697,0.8428246013667426,0.8451025056947609,0.8462414578587699,0.8485193621867881,0.857630979498861,0.8599088838268792,0.8667425968109339,0.8678815489749431,0.8690205011389521,0.8712984054669703,0.8724373576309795,0.8747152619589977,0.8815489749430524,0.8826879271070615,0.8872437357630979,0.8883826879271071,0.8917995444191344,0.8986332574031891,0.8997722095671982,0.9020501138952164,0.9031890660592256,0.9054669703872438,0.907744874715262,0.9100227790432802,0.9134396355353075,0.9168564920273349,0.9179954441913439,0.9225512528473804,0.9259681093394078,0.928246013667426,0.9316628701594533,0.9339407744874715,0.9350797266514806,0.9384965831435079,0.9441913439635535,0.9464692482915718,0.9521640091116174,0.9544419134396356,0.958997722095672,0.9601366742596811,0.9624145785876993,0.9646924829157175,0.9658314350797267,0.9681093394077449,1.0],\"xaxis\":\"x\",\"y\":[0.0,0.05073649754500818,0.05237315875613748,0.06546644844517185,0.07037643207855974,0.07201309328968904,0.088379705400982,0.09819967266775777,0.09819967266775777,0.09983633387888707,0.10147299509001637,0.11129296235679215,0.11456628477905073,0.11947626841243862,0.12274959083469722,0.1342062193126023,0.13584288052373159,0.13747954173486088,0.1407528641571195,0.14893617021276595,0.14893617021276595,0.15220949263502456,0.15220949263502456,0.16693944353518822,0.1685761047463175,0.1702127659574468,0.1734860883797054,0.18330605564648117,0.18330605564648117,0.18657937806873978,0.18657937806873978,0.19148936170212766,0.19476268412438624,0.19967266775777415,0.19967266775777415,0.20458265139116202,0.2078559738134206,0.20949263502454993,0.20949263502454993,0.2127659574468085,0.2127659574468085,0.2225859247135843,0.2225859247135843,0.23895253682487724,0.23895253682487724,0.24222585924713586,0.24222585924713586,0.24386252045826515,0.24386252045826515,0.24877250409165302,0.24877250409165302,0.2520458265139116,0.2520458265139116,0.2569558101472995,0.2569558101472995,0.25859247135842883,0.25859247135842883,0.2602291325695581,0.2635024549918167,0.2684124386252046,0.2684124386252046,0.2700490998363339,0.27168576104746317,0.2733224222585925,0.2733224222585925,0.281505728314239,0.281505728314239,0.2896890343698854,0.2896890343698854,0.29132569558101473,0.29132569558101473,0.29296235679214405,0.2945990180032733,0.2945990180032733,0.29623567921440264,0.2995090016366612,0.3011456628477905,0.3011456628477905,0.3027823240589198,0.3027823240589198,0.3044189852700491,0.3044189852700491,0.3060556464811784,0.3076923076923077,0.3109656301145663,0.3109656301145663,0.3142389525368249,0.3158756137479542,0.3158756137479542,0.32078559738134205,0.32405891980360063,0.32569558101472995,0.32896890343698854,0.33060556464811786,0.33060556464811786,0.3322422258592471,0.3322422258592471,0.33387888707037644,0.33387888707037644,0.337152209492635,0.337152209492635,0.3404255319148936,0.3404255319148936,0.34206219312602293,0.34206219312602293,0.3453355155482815,0.3453355155482815,0.3469721767594108,0.3486088379705401,0.3486088379705401,0.3502454991816694,0.3502454991816694,0.353518821603928,0.35842880523731585,0.36006546644844517,0.36006546644844517,0.36661211129296234,0.3698854337152209,0.37152209492635024,0.37152209492635024,0.3780687397708674,0.3780687397708674,0.37970540098199673,0.3829787234042553,0.38461538461538464,0.38461538461538464,0.3862520458265139,0.3862520458265139,0.3895253682487725,0.3895253682487725,0.39279869067103107,0.39279869067103107,0.3944353518821604,0.3960720130932897,0.40425531914893614,0.40425531914893614,0.4075286415711948,0.4075286415711948,0.41243862520458263,0.41243862520458263,0.41407528641571195,0.41407528641571195,0.4157119476268412,0.4157119476268412,0.41898527004909986,0.41898527004909986,0.425531914893617,0.4288052373158756,0.4288052373158756,0.43044189852700493,0.43044189852700493,0.4320785597381342,0.4353518821603928,0.4369885433715221,0.4369885433715221,0.4386252045826514,0.4451718494271686,0.44844517184942717,0.4500818330605565,0.4500818330605565,0.45171849427168576,0.45171849427168576,0.45499181669394434,0.45499181669394434,0.45662847790507366,0.45662847790507366,0.46153846153846156,0.46153846153846156,0.4713584288052373,0.4713584288052373,0.47299509001636664,0.4762684124386252,0.4779050736497545,0.48117839607201307,0.4828150572831424,0.4828150572831424,0.4877250409165303,0.4877250409165303,0.48936170212765956,0.49263502454991814,0.4959083469721768,0.4959083469721768,0.49754500818330605,0.49754500818330605,0.502454991816694,0.5040916530278232,0.5090016366612111,0.5090016366612111,0.5106382978723404,0.5106382978723404,0.5122749590834698,0.5122749590834698,0.513911620294599,0.5155482815057283,0.5155482815057283,0.5188216039279869,0.5188216039279869,0.5286415711947627,0.5286415711947627,0.530278232405892,0.530278232405892,0.5319148936170213,0.5319148936170213,0.5368248772504092,0.5368248772504092,0.5384615384615384,0.5417348608837971,0.5433715220949263,0.5450081833060556,0.5450081833060556,0.546644844517185,0.546644844517185,0.5482815057283142,0.5515548281505729,0.5515548281505729,0.5531914893617021,0.5531914893617021,0.5548281505728314,0.5548281505728314,0.5564648117839607,0.5564648117839607,0.55810147299509,0.55810147299509,0.5597381342062193,0.5662847790507365,0.5662847790507365,0.5695581014729951,0.5695581014729951,0.5711947626841244,0.5711947626841244,0.574468085106383,0.574468085106383,0.574468085106383,0.5761047463175123,0.5793780687397708,0.5793780687397708,0.5826513911620295,0.5842880523731587,0.5842880523731587,0.5859247135842881,0.5859247135842881,0.5875613747954174,0.5875613747954174,0.5891980360065466,0.5891980360065466,0.5908346972176759,0.5908346972176759,0.5941080196399345,0.5941080196399345,0.5990180032733224,0.5990180032733224,0.6039279869067103,0.6055646481178396,0.6088379705400983,0.6088379705400983,0.6153846153846154,0.6153846153846154,0.6170212765957447,0.6170212765957447,0.6219312602291326,0.6219312602291326,0.6252045826513911,0.6268412438625205,0.630114566284779,0.630114566284779,0.6317512274959084,0.6350245499181669,0.6350245499181669,0.6432078559738135,0.6432078559738135,0.6448445171849427,0.6448445171849427,0.6448445171849427,0.6481178396072013,0.6513911620294599,0.6513911620294599,0.6513911620294599,0.6513911620294599,0.6530278232405892,0.6530278232405892,0.6546644844517185,0.6546644844517185,0.6579378068739771,0.6579378068739771,0.6595744680851063,0.6595744680851063,0.6612111292962357,0.662847790507365,0.662847790507365,0.6644844517184942,0.6661211129296236,0.6693944353518821,0.679214402618658,0.6808510638297872,0.6808510638297872,0.6841243862520459,0.6841243862520459,0.6857610474631751,0.6873977086743044,0.6873977086743044,0.6890343698854338,0.6890343698854338,0.690671031096563,0.690671031096563,0.6923076923076923,0.6955810147299509,0.7037643207855974,0.7037643207855974,0.7054009819967266,0.7054009819967266,0.707037643207856,0.7103109656301145,0.7119476268412439,0.7119476268412439,0.7135842880523732,0.7152209492635024,0.7152209492635024,0.7168576104746317,0.7168576104746317,0.7168576104746317,0.7201309328968903,0.7201309328968903,0.7201309328968903,0.7217675941080196,0.7217675941080196,0.723404255319149,0.723404255319149,0.723404255319149,0.7250409165302782,0.7283142389525368,0.7283142389525368,0.7299509001636661,0.7299509001636661,0.7315875613747954,0.7315875613747954,0.7332242225859247,0.734860883797054,0.7381342062193126,0.7381342062193126,0.7381342062193126,0.7381342062193126,0.7397708674304418,0.7397708674304418,0.7414075286415712,0.7430441898527005,0.7430441898527005,0.7446808510638298,0.7446808510638298,0.7479541734860884,0.7479541734860884,0.7495908346972177,0.7495908346972177,0.7512274959083469,0.7561374795417348,0.7561374795417348,0.7610474631751227,0.7610474631751227,0.7643207855973814,0.7643207855973814,0.7659574468085106,0.7659574468085106,0.7675941080196399,0.7675941080196399,0.7708674304418985,0.7708674304418985,0.7725040916530278,0.7725040916530278,0.7741407528641571,0.7741407528641571,0.7757774140752864,0.7757774140752864,0.7757774140752864,0.7774140752864157,0.779050736497545,0.779050736497545,0.7823240589198036,0.7823240589198036,0.7839607201309329,0.7839607201309329,0.7855973813420621,0.7855973813420621,0.7872340425531915,0.7888707037643208,0.7888707037643208,0.79050736497545,0.7921440261865794,0.7921440261865794,0.7921440261865794,0.7937806873977087,0.7937806873977087,0.795417348608838,0.795417348608838,0.7986906710310966,0.7986906710310966,0.8019639934533551,0.8036006546644845,0.8052373158756138,0.8052373158756138,0.806873977086743,0.806873977086743,0.8085106382978723,0.8101472995090017,0.8101472995090017,0.8117839607201309,0.8150572831423896,0.8166939443535188,0.8183306055646481,0.8183306055646481,0.8199672667757774,0.8199672667757774,0.8199672667757774,0.8199672667757774,0.823240589198036,0.823240589198036,0.8248772504091653,0.8265139116202946,0.8265139116202946,0.8265139116202946,0.8281505728314239,0.8281505728314239,0.8297872340425532,0.8297872340425532,0.8363338788870703,0.839607201309329,0.839607201309329,0.8412438625204582,0.8412438625204582,0.8445171849427169,0.8445171849427169,0.8461538461538461,0.8461538461538461,0.8477905073649754,0.8477905073649754,0.8494271685761048,0.8494271685761048,0.851063829787234,0.851063829787234,0.8527004909983633,0.8527004909983633,0.8527004909983633,0.8527004909983633,0.8527004909983633,0.8527004909983633,0.8527004909983633,0.8527004909983633,0.8576104746317512,0.8576104746317512,0.8592471358428805,0.8608837970540099,0.8608837970540099,0.8625204582651391,0.8625204582651391,0.8625204582651391,0.8625204582651391,0.8625204582651391,0.8625204582651391,0.8641571194762684,0.8657937806873978,0.8657937806873978,0.867430441898527,0.867430441898527,0.8707037643207856,0.8723404255319149,0.8723404255319149,0.8739770867430442,0.8739770867430442,0.8739770867430442,0.8739770867430442,0.8756137479541735,0.8756137479541735,0.8772504091653028,0.8788870703764321,0.8788870703764321,0.8821603927986906,0.8821603927986906,0.88379705400982,0.88379705400982,0.8854337152209493,0.8854337152209493,0.8887070376432079,0.8887070376432079,0.8903436988543372,0.8936170212765957,0.8936170212765957,0.8936170212765957,0.8936170212765957,0.8952536824877251,0.8952536824877251,0.8952536824877251,0.8952536824877251,0.8952536824877251,0.8952536824877251,0.8968903436988543,0.8968903436988543,0.8985270049099836,0.8985270049099836,0.9018003273322422,0.9018003273322422,0.9034369885433715,0.9034369885433715,0.9050736497545008,0.9050736497545008,0.9067103109656302,0.9067103109656302,0.9067103109656302,0.9099836333878887,0.9099836333878887,0.9099836333878887,0.9099836333878887,0.9099836333878887,0.9099836333878887,0.9165302782324058,0.9165302782324058,0.9181669394435352,0.9181669394435352,0.9198036006546645,0.9198036006546645,0.9214402618657938,0.9214402618657938,0.9214402618657938,0.9214402618657938,0.9230769230769231,0.9247135842880524,0.9247135842880524,0.9263502454991817,0.9263502454991817,0.9296235679214403,0.9296235679214403,0.9312602291325696,0.9312602291325696,0.9312602291325696,0.9312602291325696,0.9312602291325696,0.9328968903436988,0.9328968903436988,0.9328968903436988,0.9345335515548282,0.9345335515548282,0.9361702127659575,0.9378068739770867,0.9378068739770867,0.939443535188216,0.939443535188216,0.939443535188216,0.9410801963993454,0.9427168576104746,0.9427168576104746,0.9459901800327333,0.9459901800327333,0.9459901800327333,0.9476268412438625,0.9476268412438625,0.9492635024549918,0.9492635024549918,0.9492635024549918,0.9509001636661211,0.9525368248772504,0.9525368248772504,0.9541734860883797,0.9541734860883797,0.9541734860883797,0.9541734860883797,0.955810147299509,0.955810147299509,0.955810147299509,0.9574468085106383,0.9574468085106383,0.9590834697217676,0.9607201309328969,0.9607201309328969,0.9607201309328969,0.9623567921440261,0.9623567921440261,0.9623567921440261,0.9623567921440261,0.9656301145662848,0.9656301145662848,0.9656301145662848,0.9656301145662848,0.9656301145662848,0.9656301145662848,0.9656301145662848,0.9656301145662848,0.967266775777414,0.967266775777414,0.967266775777414,0.9689034369885434,0.9689034369885434,0.9705400981996727,0.9705400981996727,0.9705400981996727,0.9705400981996727,0.972176759410802,0.972176759410802,0.972176759410802,0.9738134206219312,0.9738134206219312,0.9738134206219312,0.9738134206219312,0.9754500818330606,0.9770867430441899,0.9770867430441899,0.9770867430441899,0.9787234042553191,0.9787234042553191,0.9803600654664485,0.9803600654664485,0.9803600654664485,0.9803600654664485,0.9803600654664485,0.9803600654664485,0.9819967266775778,0.9819967266775778,0.9819967266775778,0.9819967266775778,0.9819967266775778,0.983633387888707,0.983633387888707,0.9852700490998363,0.9852700490998363,0.9852700490998363,0.9852700490998363,0.9852700490998363,0.9869067103109657,0.9869067103109657,0.9869067103109657,0.9869067103109657,0.9869067103109657,0.9869067103109657,0.9869067103109657,0.9869067103109657,0.9885433715220949,0.9885433715220949,0.9885433715220949,0.9901800327332242,0.9901800327332242,0.9901800327332242,0.9901800327332242,0.9918166939443536,0.9918166939443536,0.9918166939443536,0.9918166939443536,0.9918166939443536,0.9918166939443536,0.9934533551554828,0.9934533551554828,0.9934533551554828,0.9934533551554828,0.9950900163666121,0.9950900163666121,0.9950900163666121,0.9950900163666121,0.9950900163666121,0.9950900163666121,0.9950900163666121,0.9950900163666121,0.9967266775777414,0.9967266775777414,0.9967266775777414,0.9967266775777414,0.9967266775777414,0.9967266775777414,0.9983633387888707,0.9983633387888707,0.9983633387888707,0.9983633387888707,0.9983633387888707,0.9983633387888707,0.9983633387888707,0.9983633387888707,0.9983633387888707,0.9983633387888707,0.9983633387888707,0.9983633387888707,0.9983633387888707,0.9983633387888707,0.9983633387888707,0.9983633387888707,0.9983633387888707,0.9983633387888707,0.9983633387888707,0.9983633387888707,0.9983633387888707,0.9983633387888707,0.9983633387888707,0.9983633387888707,0.9983633387888707,0.9983633387888707,1.0,1.0,1.0,1.0,1.0,1.0],\"yaxis\":\"y\"}],                        {\"height\":500,\"legend\":{\"tracegroupgap\":0},\"shapes\":[{\"line\":{\"dash\":\"dash\"},\"type\":\"line\",\"x0\":0,\"x1\":1,\"y0\":0,\"y1\":1}],\"template\":{\"data\":{\"bar\":[{\"error_x\":{\"color\":\"#2a3f5f\"},\"error_y\":{\"color\":\"#2a3f5f\"},\"marker\":{\"line\":{\"color\":\"#E5ECF6\",\"width\":0.5},\"pattern\":{\"fillmode\":\"overlay\",\"size\":10,\"solidity\":0.2}},\"type\":\"bar\"}],\"barpolar\":[{\"marker\":{\"line\":{\"color\":\"#E5ECF6\",\"width\":0.5},\"pattern\":{\"fillmode\":\"overlay\",\"size\":10,\"solidity\":0.2}},\"type\":\"barpolar\"}],\"carpet\":[{\"aaxis\":{\"endlinecolor\":\"#2a3f5f\",\"gridcolor\":\"white\",\"linecolor\":\"white\",\"minorgridcolor\":\"white\",\"startlinecolor\":\"#2a3f5f\"},\"baxis\":{\"endlinecolor\":\"#2a3f5f\",\"gridcolor\":\"white\",\"linecolor\":\"white\",\"minorgridcolor\":\"white\",\"startlinecolor\":\"#2a3f5f\"},\"type\":\"carpet\"}],\"choropleth\":[{\"colorbar\":{\"outlinewidth\":0,\"ticks\":\"\"},\"type\":\"choropleth\"}],\"contour\":[{\"colorbar\":{\"outlinewidth\":0,\"ticks\":\"\"},\"colorscale\":[[0.0,\"#0d0887\"],[0.1111111111111111,\"#46039f\"],[0.2222222222222222,\"#7201a8\"],[0.3333333333333333,\"#9c179e\"],[0.4444444444444444,\"#bd3786\"],[0.5555555555555556,\"#d8576b\"],[0.6666666666666666,\"#ed7953\"],[0.7777777777777778,\"#fb9f3a\"],[0.8888888888888888,\"#fdca26\"],[1.0,\"#f0f921\"]],\"type\":\"contour\"}],\"contourcarpet\":[{\"colorbar\":{\"outlinewidth\":0,\"ticks\":\"\"},\"type\":\"contourcarpet\"}],\"heatmap\":[{\"colorbar\":{\"outlinewidth\":0,\"ticks\":\"\"},\"colorscale\":[[0.0,\"#0d0887\"],[0.1111111111111111,\"#46039f\"],[0.2222222222222222,\"#7201a8\"],[0.3333333333333333,\"#9c179e\"],[0.4444444444444444,\"#bd3786\"],[0.5555555555555556,\"#d8576b\"],[0.6666666666666666,\"#ed7953\"],[0.7777777777777778,\"#fb9f3a\"],[0.8888888888888888,\"#fdca26\"],[1.0,\"#f0f921\"]],\"type\":\"heatmap\"}],\"heatmapgl\":[{\"colorbar\":{\"outlinewidth\":0,\"ticks\":\"\"},\"colorscale\":[[0.0,\"#0d0887\"],[0.1111111111111111,\"#46039f\"],[0.2222222222222222,\"#7201a8\"],[0.3333333333333333,\"#9c179e\"],[0.4444444444444444,\"#bd3786\"],[0.5555555555555556,\"#d8576b\"],[0.6666666666666666,\"#ed7953\"],[0.7777777777777778,\"#fb9f3a\"],[0.8888888888888888,\"#fdca26\"],[1.0,\"#f0f921\"]],\"type\":\"heatmapgl\"}],\"histogram\":[{\"marker\":{\"pattern\":{\"fillmode\":\"overlay\",\"size\":10,\"solidity\":0.2}},\"type\":\"histogram\"}],\"histogram2d\":[{\"colorbar\":{\"outlinewidth\":0,\"ticks\":\"\"},\"colorscale\":[[0.0,\"#0d0887\"],[0.1111111111111111,\"#46039f\"],[0.2222222222222222,\"#7201a8\"],[0.3333333333333333,\"#9c179e\"],[0.4444444444444444,\"#bd3786\"],[0.5555555555555556,\"#d8576b\"],[0.6666666666666666,\"#ed7953\"],[0.7777777777777778,\"#fb9f3a\"],[0.8888888888888888,\"#fdca26\"],[1.0,\"#f0f921\"]],\"type\":\"histogram2d\"}],\"histogram2dcontour\":[{\"colorbar\":{\"outlinewidth\":0,\"ticks\":\"\"},\"colorscale\":[[0.0,\"#0d0887\"],[0.1111111111111111,\"#46039f\"],[0.2222222222222222,\"#7201a8\"],[0.3333333333333333,\"#9c179e\"],[0.4444444444444444,\"#bd3786\"],[0.5555555555555556,\"#d8576b\"],[0.6666666666666666,\"#ed7953\"],[0.7777777777777778,\"#fb9f3a\"],[0.8888888888888888,\"#fdca26\"],[1.0,\"#f0f921\"]],\"type\":\"histogram2dcontour\"}],\"mesh3d\":[{\"colorbar\":{\"outlinewidth\":0,\"ticks\":\"\"},\"type\":\"mesh3d\"}],\"parcoords\":[{\"line\":{\"colorbar\":{\"outlinewidth\":0,\"ticks\":\"\"}},\"type\":\"parcoords\"}],\"pie\":[{\"automargin\":true,\"type\":\"pie\"}],\"scatter\":[{\"marker\":{\"colorbar\":{\"outlinewidth\":0,\"ticks\":\"\"}},\"type\":\"scatter\"}],\"scatter3d\":[{\"line\":{\"colorbar\":{\"outlinewidth\":0,\"ticks\":\"\"}},\"marker\":{\"colorbar\":{\"outlinewidth\":0,\"ticks\":\"\"}},\"type\":\"scatter3d\"}],\"scattercarpet\":[{\"marker\":{\"colorbar\":{\"outlinewidth\":0,\"ticks\":\"\"}},\"type\":\"scattercarpet\"}],\"scattergeo\":[{\"marker\":{\"colorbar\":{\"outlinewidth\":0,\"ticks\":\"\"}},\"type\":\"scattergeo\"}],\"scattergl\":[{\"marker\":{\"colorbar\":{\"outlinewidth\":0,\"ticks\":\"\"}},\"type\":\"scattergl\"}],\"scattermapbox\":[{\"marker\":{\"colorbar\":{\"outlinewidth\":0,\"ticks\":\"\"}},\"type\":\"scattermapbox\"}],\"scatterpolar\":[{\"marker\":{\"colorbar\":{\"outlinewidth\":0,\"ticks\":\"\"}},\"type\":\"scatterpolar\"}],\"scatterpolargl\":[{\"marker\":{\"colorbar\":{\"outlinewidth\":0,\"ticks\":\"\"}},\"type\":\"scatterpolargl\"}],\"scatterternary\":[{\"marker\":{\"colorbar\":{\"outlinewidth\":0,\"ticks\":\"\"}},\"type\":\"scatterternary\"}],\"surface\":[{\"colorbar\":{\"outlinewidth\":0,\"ticks\":\"\"},\"colorscale\":[[0.0,\"#0d0887\"],[0.1111111111111111,\"#46039f\"],[0.2222222222222222,\"#7201a8\"],[0.3333333333333333,\"#9c179e\"],[0.4444444444444444,\"#bd3786\"],[0.5555555555555556,\"#d8576b\"],[0.6666666666666666,\"#ed7953\"],[0.7777777777777778,\"#fb9f3a\"],[0.8888888888888888,\"#fdca26\"],[1.0,\"#f0f921\"]],\"type\":\"surface\"}],\"table\":[{\"cells\":{\"fill\":{\"color\":\"#EBF0F8\"},\"line\":{\"color\":\"white\"}},\"header\":{\"fill\":{\"color\":\"#C8D4E3\"},\"line\":{\"color\":\"white\"}},\"type\":\"table\"}]},\"layout\":{\"annotationdefaults\":{\"arrowcolor\":\"#2a3f5f\",\"arrowhead\":0,\"arrowwidth\":1},\"autotypenumbers\":\"strict\",\"coloraxis\":{\"colorbar\":{\"outlinewidth\":0,\"ticks\":\"\"}},\"colorscale\":{\"diverging\":[[0,\"#8e0152\"],[0.1,\"#c51b7d\"],[0.2,\"#de77ae\"],[0.3,\"#f1b6da\"],[0.4,\"#fde0ef\"],[0.5,\"#f7f7f7\"],[0.6,\"#e6f5d0\"],[0.7,\"#b8e186\"],[0.8,\"#7fbc41\"],[0.9,\"#4d9221\"],[1,\"#276419\"]],\"sequential\":[[0.0,\"#0d0887\"],[0.1111111111111111,\"#46039f\"],[0.2222222222222222,\"#7201a8\"],[0.3333333333333333,\"#9c179e\"],[0.4444444444444444,\"#bd3786\"],[0.5555555555555556,\"#d8576b\"],[0.6666666666666666,\"#ed7953\"],[0.7777777777777778,\"#fb9f3a\"],[0.8888888888888888,\"#fdca26\"],[1.0,\"#f0f921\"]],\"sequentialminus\":[[0.0,\"#0d0887\"],[0.1111111111111111,\"#46039f\"],[0.2222222222222222,\"#7201a8\"],[0.3333333333333333,\"#9c179e\"],[0.4444444444444444,\"#bd3786\"],[0.5555555555555556,\"#d8576b\"],[0.6666666666666666,\"#ed7953\"],[0.7777777777777778,\"#fb9f3a\"],[0.8888888888888888,\"#fdca26\"],[1.0,\"#f0f921\"]]},\"colorway\":[\"#636efa\",\"#EF553B\",\"#00cc96\",\"#ab63fa\",\"#FFA15A\",\"#19d3f3\",\"#FF6692\",\"#B6E880\",\"#FF97FF\",\"#FECB52\"],\"font\":{\"color\":\"#2a3f5f\"},\"geo\":{\"bgcolor\":\"white\",\"lakecolor\":\"white\",\"landcolor\":\"#E5ECF6\",\"showlakes\":true,\"showland\":true,\"subunitcolor\":\"white\"},\"hoverlabel\":{\"align\":\"left\"},\"hovermode\":\"closest\",\"mapbox\":{\"style\":\"light\"},\"paper_bgcolor\":\"white\",\"plot_bgcolor\":\"#E5ECF6\",\"polar\":{\"angularaxis\":{\"gridcolor\":\"white\",\"linecolor\":\"white\",\"ticks\":\"\"},\"bgcolor\":\"#E5ECF6\",\"radialaxis\":{\"gridcolor\":\"white\",\"linecolor\":\"white\",\"ticks\":\"\"}},\"scene\":{\"xaxis\":{\"backgroundcolor\":\"#E5ECF6\",\"gridcolor\":\"white\",\"gridwidth\":2,\"linecolor\":\"white\",\"showbackground\":true,\"ticks\":\"\",\"zerolinecolor\":\"white\"},\"yaxis\":{\"backgroundcolor\":\"#E5ECF6\",\"gridcolor\":\"white\",\"gridwidth\":2,\"linecolor\":\"white\",\"showbackground\":true,\"ticks\":\"\",\"zerolinecolor\":\"white\"},\"zaxis\":{\"backgroundcolor\":\"#E5ECF6\",\"gridcolor\":\"white\",\"gridwidth\":2,\"linecolor\":\"white\",\"showbackground\":true,\"ticks\":\"\",\"zerolinecolor\":\"white\"}},\"shapedefaults\":{\"line\":{\"color\":\"#2a3f5f\"}},\"ternary\":{\"aaxis\":{\"gridcolor\":\"white\",\"linecolor\":\"white\",\"ticks\":\"\"},\"baxis\":{\"gridcolor\":\"white\",\"linecolor\":\"white\",\"ticks\":\"\"},\"bgcolor\":\"#E5ECF6\",\"caxis\":{\"gridcolor\":\"white\",\"linecolor\":\"white\",\"ticks\":\"\"}},\"title\":{\"x\":0.05},\"xaxis\":{\"automargin\":true,\"gridcolor\":\"white\",\"linecolor\":\"white\",\"ticks\":\"\",\"title\":{\"standoff\":15},\"zerolinecolor\":\"white\",\"zerolinewidth\":2},\"yaxis\":{\"automargin\":true,\"gridcolor\":\"white\",\"linecolor\":\"white\",\"ticks\":\"\",\"title\":{\"standoff\":15},\"zerolinecolor\":\"white\",\"zerolinewidth\":2}}},\"title\":{\"text\":\"ROC Curve (AUC=0.8131)\"},\"width\":700,\"xaxis\":{\"anchor\":\"y\",\"constrain\":\"domain\",\"domain\":[0.0,1.0],\"title\":{\"text\":\"False Positive Rate\"}},\"yaxis\":{\"anchor\":\"x\",\"domain\":[0.0,1.0],\"scaleanchor\":\"x\",\"scaleratio\":1,\"title\":{\"text\":\"True Positive Rate\"}}},                        {\"responsive\": true}                    ).then(function(){\n",
       "                            \n",
       "var gd = document.getElementById('57332912-2132-4c34-83d0-7249be1e9d4f');\n",
       "var x = new MutationObserver(function (mutations, observer) {{\n",
       "        var display = window.getComputedStyle(gd).display;\n",
       "        if (!display || display === 'none') {{\n",
       "            console.log([gd, 'removed!']);\n",
       "            Plotly.purge(gd);\n",
       "            observer.disconnect();\n",
       "        }}\n",
       "}});\n",
       "\n",
       "// Listen for the removal of the full notebook cells\n",
       "var notebookContainer = gd.closest('#notebook-container');\n",
       "if (notebookContainer) {{\n",
       "    x.observe(notebookContainer, {childList: true});\n",
       "}}\n",
       "\n",
       "// Listen for the clearing of the current output cell\n",
       "var outputEl = gd.closest('.output');\n",
       "if (outputEl) {{\n",
       "    x.observe(outputEl, {childList: true});\n",
       "}}\n",
       "\n",
       "                        })                };                });            </script>        </div>"
      ]
     },
     "metadata": {},
     "output_type": "display_data"
    }
   ],
   "source": [
    "from sklearn.metrics import roc_curve, auc\n",
    "fpr, tpr, thresholds = roc_curve(dfTest_res['is_pass_failed'], dfTest_res['pred'])\n",
    "fig = px.area(\n",
    "    x=fpr, y=tpr,\n",
    "    title=f'ROC Curve (AUC={auc(fpr, tpr):.4f})',\n",
    "    labels=dict(x='False Positive Rate', y='True Positive Rate'),\n",
    "    width=700, height=500\n",
    ")\n",
    "fig.add_shape(\n",
    "    type='line', line=dict(dash='dash'),\n",
    "    x0=0, x1=1, y0=0, y1=1\n",
    ")\n",
    "fig.update_yaxes(scaleanchor=\"x\", scaleratio=1)\n",
    "fig.update_xaxes(constrain='domain')\n",
    "fig.show()"
   ]
  },
  {
   "cell_type": "code",
   "execution_count": 222,
   "metadata": {},
   "outputs": [],
   "source": [
    "dfTrain_res.to_csv('dfTrain_res.csv', index=False)\n",
    "dfTest_res.to_csv('dfTest_res.csv', index=False)"
   ]
  },
  {
   "cell_type": "code",
   "execution_count": 223,
   "metadata": {},
   "outputs": [
    {
     "data": {
      "text/plain": [
       "<seaborn.axisgrid.FacetGrid at 0x7f8540b27e80>"
      ]
     },
     "execution_count": 223,
     "metadata": {},
     "output_type": "execute_result"
    },
    {
     "data": {
      "image/png": "[encoded data removed]",
      "text/plain": [
       "<Figure size 437x144 with 1 Axes>"
      ]
     },
     "metadata": {
      "needs_background": "light"
     },
     "output_type": "display_data"
    }
   ],
   "source": [
    "sns.displot(data=dfTrain_res,\n",
    "            x='pred',\n",
    "            kind='kde',\n",
    "            hue='is_pass_failed',\n",
    "            fill=True,\n",
    "            alpha=0.1,\n",
    "            height=2,\n",
    "            aspect=2.5,\n",
    "            bw_method=0.05\n",
    ")"
   ]
  },
  {
   "cell_type": "code",
   "execution_count": 224,
   "metadata": {},
   "outputs": [
    {
     "data": {
      "text/plain": [
       "<seaborn.axisgrid.FacetGrid at 0x7f848e116b20>"
      ]
     },
     "execution_count": 224,
     "metadata": {},
     "output_type": "execute_result"
    },
    {
     "data": {
      "image/png": "[encoded data removed]",
      "text/plain": [
       "<Figure size 437x144 with 1 Axes>"
      ]
     },
     "metadata": {
      "needs_background": "light"
     },
     "output_type": "display_data"
    }
   ],
   "source": [
    "sns.displot(data=dfTest_res,\n",
    "            x='pred',\n",
    "            kind='kde',\n",
    "            hue='is_pass_failed',\n",
    "            fill=True,\n",
    "            alpha=0.1,\n",
    "            height=2,\n",
    "            aspect=2.5,\n",
    "            bw_method=0.05\n",
    ")"
   ]
  },
  {
   "cell_type": "code",
   "execution_count": 225,
   "metadata": {},
   "outputs": [
    {
     "name": "stdout",
     "output_type": "stream",
     "text": [
      "5955 1489 7444\n"
     ]
    }
   ],
   "source": [
    "print(\n",
    "    len(dfTrain),\n",
    "    len(dfTest),\n",
    "    len(dfTrain) + len(dfTest)\n",
    ")\n",
    "summary = pm.summary(model_trace).reset_index()\n"
   ]
  },
  {
   "cell_type": "markdown",
   "metadata": {},
   "source": [
    "# ラッシャーの能力評価モデル"
   ]
  },
  {
   "cell_type": "code",
   "execution_count": 6,
   "metadata": {},
   "outputs": [],
   "source": [
    "import pickle\n",
    "\n",
    "with open('model_v6_for_animation.pkl', 'rb') as f:\n",
    "#     pickle.dump(model, f)\n",
    "    model = pickle.load(f)\n",
    "with open('model_trace_v6_for_animation.pkl', 'rb') as f:\n",
    "#     pickle.dump(model_trace, f)\n",
    "    model_trace = pickle.load(f)\n",
    "\n",
    "summary = pm.summary(model_trace).reset_index()\n",
    "coef_rusher = summary[summary['index'].str.contains('coef_rusher')]['mean'].values[0]\n",
    "coef_blckr = summary[summary['index'].str.contains('coef_blckr')]['mean'].values[0]\n"
   ]
  },
  {
   "cell_type": "code",
   "execution_count": 7,
   "metadata": {},
   "outputs": [
    {
     "data": {
      "text/html": [
       "<div>\n",
       "<style scoped>\n",
       "    .dataframe tbody tr th:only-of-type {\n",
       "        vertical-align: middle;\n",
       "    }\n",
       "\n",
       "    .dataframe tbody tr th {\n",
       "        vertical-align: top;\n",
       "    }\n",
       "\n",
       "    .dataframe thead th {\n",
       "        text-align: right;\n",
       "    }\n",
       "</style>\n",
       "<table border=\"1\" class=\"dataframe\">\n",
       "  <thead>\n",
       "    <tr style=\"text-align: right;\">\n",
       "      <th></th>\n",
       "      <th>gameId</th>\n",
       "      <th>playId</th>\n",
       "      <th>is_pass_failed</th>\n",
       "      <th>passResult</th>\n",
       "      <th>playResult</th>\n",
       "      <th>playDescription</th>\n",
       "      <th>PassReceiver_nflId</th>\n",
       "      <th>PassReceiver_pff_role_num</th>\n",
       "      <th>PassReceiver_displayName</th>\n",
       "      <th>PassReceiver_short_name</th>\n",
       "      <th>...</th>\n",
       "      <th>Pass Rush_#5_threat</th>\n",
       "      <th>Pass Rush_#6_threat</th>\n",
       "      <th>Pass Rush_#7_threat</th>\n",
       "      <th>Pass Rush_#1_dist_blckr_avg</th>\n",
       "      <th>Pass Rush_#2_dist_blckr_avg</th>\n",
       "      <th>Pass Rush_#3_dist_blckr_avg</th>\n",
       "      <th>Pass Rush_#4_dist_blckr_avg</th>\n",
       "      <th>Pass Rush_#5_dist_blckr_avg</th>\n",
       "      <th>Pass Rush_#6_dist_blckr_avg</th>\n",
       "      <th>Pass Rush_#7_dist_blckr_avg</th>\n",
       "    </tr>\n",
       "  </thead>\n",
       "  <tbody>\n",
       "    <tr>\n",
       "      <th>0</th>\n",
       "      <td>2021090900</td>\n",
       "      <td>97</td>\n",
       "      <td>1</td>\n",
       "      <td>I</td>\n",
       "      <td>0</td>\n",
       "      <td>(13:33) (Shotgun) T.Brady pass incomplete deep...</td>\n",
       "      <td>44896</td>\n",
       "      <td>Pass Route_#5</td>\n",
       "      <td>Chris Godwin</td>\n",
       "      <td>C.Godwin</td>\n",
       "      <td>...</td>\n",
       "      <td>0.566169</td>\n",
       "      <td>0.0</td>\n",
       "      <td>0.0</td>\n",
       "      <td>0.606859</td>\n",
       "      <td>0.551935</td>\n",
       "      <td>0.484804</td>\n",
       "      <td>0.582329</td>\n",
       "      <td>0.754246</td>\n",
       "      <td>NaN</td>\n",
       "      <td>NaN</td>\n",
       "    </tr>\n",
       "    <tr>\n",
       "      <th>1</th>\n",
       "      <td>2021090900</td>\n",
       "      <td>137</td>\n",
       "      <td>0</td>\n",
       "      <td>C</td>\n",
       "      <td>28</td>\n",
       "      <td>(13:18) (Shotgun) D.Prescott pass deep left to...</td>\n",
       "      <td>42347</td>\n",
       "      <td>Pass Route_#1</td>\n",
       "      <td>Amari Cooper</td>\n",
       "      <td>A.Cooper</td>\n",
       "      <td>...</td>\n",
       "      <td>0.140157</td>\n",
       "      <td>0.0</td>\n",
       "      <td>0.0</td>\n",
       "      <td>0.714959</td>\n",
       "      <td>0.657198</td>\n",
       "      <td>0.493414</td>\n",
       "      <td>0.520459</td>\n",
       "      <td>0.591649</td>\n",
       "      <td>NaN</td>\n",
       "      <td>NaN</td>\n",
       "    </tr>\n",
       "    <tr>\n",
       "      <th>2</th>\n",
       "      <td>2021090900</td>\n",
       "      <td>187</td>\n",
       "      <td>0</td>\n",
       "      <td>C</td>\n",
       "      <td>5</td>\n",
       "      <td>(12:23) (Shotgun) D.Prescott pass short middle...</td>\n",
       "      <td>46206</td>\n",
       "      <td>Pass Route_#4</td>\n",
       "      <td>Dalton Schultz</td>\n",
       "      <td>D.Schultz</td>\n",
       "      <td>...</td>\n",
       "      <td>0.000000</td>\n",
       "      <td>0.0</td>\n",
       "      <td>0.0</td>\n",
       "      <td>0.867357</td>\n",
       "      <td>0.528795</td>\n",
       "      <td>0.879871</td>\n",
       "      <td>0.728345</td>\n",
       "      <td>NaN</td>\n",
       "      <td>NaN</td>\n",
       "      <td>NaN</td>\n",
       "    </tr>\n",
       "  </tbody>\n",
       "</table>\n",
       "<p>3 rows × 147 columns</p>\n",
       "</div>"
      ],
      "text/plain": [
       "       gameId  playId  is_pass_failed passResult  playResult  \\\n",
       "0  2021090900      97               1          I           0   \n",
       "1  2021090900     137               0          C          28   \n",
       "2  2021090900     187               0          C           5   \n",
       "\n",
       "                                     playDescription  PassReceiver_nflId  \\\n",
       "0  (13:33) (Shotgun) T.Brady pass incomplete deep...               44896   \n",
       "1  (13:18) (Shotgun) D.Prescott pass deep left to...               42347   \n",
       "2  (12:23) (Shotgun) D.Prescott pass short middle...               46206   \n",
       "\n",
       "  PassReceiver_pff_role_num PassReceiver_displayName PassReceiver_short_name  \\\n",
       "0             Pass Route_#5             Chris Godwin                C.Godwin   \n",
       "1             Pass Route_#1             Amari Cooper                A.Cooper   \n",
       "2             Pass Route_#4           Dalton Schultz               D.Schultz   \n",
       "\n",
       "   ...  Pass Rush_#5_threat Pass Rush_#6_threat  Pass Rush_#7_threat  \\\n",
       "0  ...             0.566169                 0.0                  0.0   \n",
       "1  ...             0.140157                 0.0                  0.0   \n",
       "2  ...             0.000000                 0.0                  0.0   \n",
       "\n",
       "   Pass Rush_#1_dist_blckr_avg  Pass Rush_#2_dist_blckr_avg  \\\n",
       "0                     0.606859                     0.551935   \n",
       "1                     0.714959                     0.657198   \n",
       "2                     0.867357                     0.528795   \n",
       "\n",
       "   Pass Rush_#3_dist_blckr_avg  Pass Rush_#4_dist_blckr_avg  \\\n",
       "0                     0.484804                     0.582329   \n",
       "1                     0.493414                     0.520459   \n",
       "2                     0.879871                     0.728345   \n",
       "\n",
       "   Pass Rush_#5_dist_blckr_avg  Pass Rush_#6_dist_blckr_avg  \\\n",
       "0                     0.754246                          NaN   \n",
       "1                     0.591649                          NaN   \n",
       "2                          NaN                          NaN   \n",
       "\n",
       "   Pass Rush_#7_dist_blckr_avg  \n",
       "0                          NaN  \n",
       "1                          NaN  \n",
       "2                          NaN  \n",
       "\n",
       "[3 rows x 147 columns]"
      ]
     },
     "execution_count": 7,
     "metadata": {},
     "output_type": "execute_result"
    }
   ],
   "source": [
    "rusher_list = [\n",
    "    'Pass Rush_#1_dist_blckr_avg','Pass Rush_#2_dist_blckr_avg',\n",
    "    'Pass Rush_#3_dist_blckr_avg','Pass Rush_#4_dist_blckr_avg',\n",
    "    'Pass Rush_#5_dist_blckr_avg','Pass Rush_#6_dist_blckr_avg',\n",
    "    'Pass Rush_#7_dist_blckr_avg'\n",
    "]\n",
    "rusher_box_list = []\n",
    "for i in range(1, 8+1):\n",
    "    tmp = pd.read_csv('../generated_data/rshr_to_blckr_week{}_v6.csv'.format(i))\n",
    "    \n",
    "    \n",
    "    tmp = tmp.groupby(['gameId','playId'])[rusher_list].mean().reset_index()\n",
    "    rusher_box_list.append(tmp)\n",
    "rusher_box = pd.concat(rusher_box_list)\n",
    "rusher_box.head(3)\n",
    "\n",
    "impct_list = [\n",
    "    'Pass Rush_#1_impact','Pass Rush_#2_impact',\n",
    "    'Pass Rush_#3_impact','Pass Rush_#4_impact',\n",
    "    'Pass Rush_#5_impact','Pass Rush_#6_impact',\n",
    "    'Pass Rush_#7_impact'\n",
    "]\n",
    "\n",
    "play_result['gameId'] = play_result['gameId'].astype(int)\n",
    "play_result['playId'] = play_result['playId'].astype(int)\n",
    "rusher_box['gameId'] = rusher_box['gameId'].astype(int)\n",
    "rusher_box['playId'] = rusher_box['playId'].astype(int)\n",
    "\n",
    "for col in impct_list:\n",
    "    new_col = col.split('_impact')[0]\n",
    "    play_result[new_col + '_threat'] = play_result[col] * coef_rusher\n",
    "play_result2 = pd.merge(\n",
    "    play_result,\n",
    "    rusher_box,\n",
    "    on=['gameId','playId'],\n",
    "    how='left'\n",
    ")\n",
    "play_result2.head(3)"
   ]
  },
  {
   "cell_type": "code",
   "execution_count": 228,
   "metadata": {},
   "outputs": [
    {
     "name": "stdout",
     "output_type": "stream",
     "text": [
      "52108\n",
      "52108\n",
      "31637\n",
      "25969\n"
     ]
    }
   ],
   "source": [
    "\n",
    "rusher_box_agg_list = []\n",
    "for i in range(1, 8+1):\n",
    "    rusher_box_agg_list.append(\n",
    "#         pd.read_csv('../generated_data/blckr_impct_to_rshr{}_v6.csv'.format(i))\n",
    "        pd.read_csv('../generated_data/blckr_impct_to_rshr{}_firstHalf_v6.csv'.format(i))\n",
    "    )\n",
    "# rusher_box_agg = pd.read_csv('../generated_data/blckr_impct_to_rshr1_v6.csv')\n",
    "rusher_box_agg = pd.concat(rusher_box_agg_list)\n",
    "rusher_box_agg.head(3)\n",
    "\n",
    "rusher_skill_df_list = []\n",
    "for i in range(1, 7 + 1):\n",
    "    col = [\n",
    "        'gameId',\n",
    "        'playId',\n",
    "        'is_pass_failed',\n",
    "        'Pass Rush_#{}_nflId'.format(i), \n",
    "        'Pass Rush_#{}_threat'.format(i)\n",
    "    ]\n",
    "    tmp = play_result2[col].rename(columns={\n",
    "        'Pass Rush_#{}_nflId'.format(i): 'Pass Rush_nflId',\n",
    "        'Pass Rush_#{}_threat'.format(i): 'Pass Rush_threat'\n",
    "    })\n",
    "    rusher_skill_df_list.append(tmp)\n",
    "rusher_skill_df = pd.concat(rusher_skill_df_list)\n",
    "rusher_skill_df.head()\n",
    "print(len(rusher_skill_df))\n",
    "rusher_skill_df.head()\n",
    "rusher_skill_df = pd.merge(\n",
    "    rusher_skill_df,\n",
    "    rusher_box_agg,\n",
    "    on=['gameId','playId','Pass Rush_nflId'],\n",
    "    how='left'\n",
    ")\n",
    "# Null除去\n",
    "rusher_skill_df = rusher_skill_df.dropna()\n",
    "print(len(rusher_skill_df))\n",
    "# イレギュラーの除去\n",
    "rusher_skill_df=rusher_skill_df[rusher_skill_df['Pass Rush_nflId'] > 0]\n",
    "print(len(rusher_skill_df))\n",
    "\n",
    "# Nプレー以上のプレイヤーのみで抽出\n",
    "plycnt = rusher_skill_df.groupby('Pass Rush_nflId')[['playId']].count().reset_index().rename(columns={'playId': 'plycnt'})\n",
    "plycnt = plycnt[plycnt['plycnt'] >= 50]\n",
    "rusher_skill_df = rusher_skill_df[rusher_skill_df['Pass Rush_nflId'].isin(plycnt['Pass Rush_nflId'])]\n",
    "print(len(rusher_skill_df))\n",
    "\n",
    "rusher_skill_df.to_csv('./rshr2blckr_dist.csv', index=False)"
   ]
  },
  {
   "cell_type": "code",
   "execution_count": 229,
   "metadata": {},
   "outputs": [
    {
     "name": "stderr",
     "output_type": "stream",
     "text": [
      "Auto-assigning NUTS sampler...\n",
      "Initializing NUTS using jitter+adapt_diag...\n",
      "Multiprocess sampling (4 chains in 4 jobs)\n",
      "NUTS: [σ_rusher_threat, Δ_rusher, σ_rusher_avg_ability, µ_rusher_avg_ability, coef_blckr_threat]\n"
     ]
    },
    {
     "data": {
      "text/html": [
       "\n",
       "    <div>\n",
       "        <style>\n",
       "            /* Turns off some styling */\n",
       "            progress {\n",
       "                /* gets rid of default border in Firefox and Opera. */\n",
       "                border: none;\n",
       "                /* Needs to be in here for Safari polyfill so background images work as expected. */\n",
       "                background-size: auto;\n",
       "            }\n",
       "            .progress-bar-interrupted, .progress-bar-interrupted::-webkit-progress-bar {\n",
       "                background: #F44336;\n",
       "            }\n",
       "        </style>\n",
       "      <progress value='4400' class='' max='4400' style='width:300px; height:20px; vertical-align: middle;'></progress>\n",
       "      100.00% [4400/4400 14:07<00:00 Sampling 4 chains, 0 divergences]\n",
       "    </div>\n",
       "    "
      ],
      "text/plain": [
       "<IPython.core.display.HTML object>"
      ]
     },
     "metadata": {},
     "output_type": "display_data"
    },
    {
     "name": "stderr",
     "output_type": "stream",
     "text": [
      "Sampling 4 chains for 100 tune and 1_000 draw iterations (400 + 4_000 draws total) took 867 seconds.\n",
      "The chain reached the maximum tree depth. Increase max_treedepth, increase target_accept or reparameterize.\n",
      "The chain reached the maximum tree depth. Increase max_treedepth, increase target_accept or reparameterize.\n",
      "The number of effective samples is smaller than 25% for some parameters.\n"
     ]
    }
   ],
   "source": [
    "rusher_skill_df['Pass Rush_nflId_idx'], rusher_nflId = pd.factorize(rusher_skill_df['Pass Rush_nflId'], sort=True)\n",
    "coords = {'rusher_nflId': rusher_nflId}\n",
    "\n",
    "with pm.Model(coords=coords) as model_rusher_ability:\n",
    "    rusher_nflId_idx = pm.Data('rusher_nflId_idx', rusher_skill_df['Pass Rush_nflId_idx'])\n",
    "    blckr_threat = pm.Data('blckr_threat',rusher_skill_df['blockers_ttl_impact_to_rusher_mean'])\n",
    "    coef_blckr_threat = pm.HalfCauchy('coef_blckr_threat', 2)\n",
    "    µ_rusher_avg_ability = pm.Normal('µ_rusher_avg_ability', mu=0, sigma=3)\n",
    "    σ_rusher_avg_ability = pm.HalfCauchy(\"σ_rusher_avg_ability\", 1)\n",
    "    Δ_rusher = pm.Normal('Δ_rusher', 0.0, 3, dims='rusher_nflId')\n",
    "    rusher_ability = pm.Deterministic(\n",
    "        'rusher_ability', \n",
    "        µ_rusher_avg_ability +  \\\n",
    "        σ_rusher_avg_ability * Δ_rusher,\n",
    "        dims='rusher_nflId'\n",
    "    )\n",
    "    σ_rusher_threat = pm.HalfCauchy(\"σ_rusher_threat\", 1)\n",
    "    rusher_threat = pm.Normal(\n",
    "        'rusher_threat',\n",
    "        mu=rusher_ability[rusher_nflId_idx] - (coef_blckr_threat * blckr_threat),\n",
    "        sigma=σ_rusher_threat,\n",
    "        observed=rusher_skill_df['Pass Rush_threat'].values,\n",
    "    )\n",
    "with model_rusher_ability:\n",
    "#     model_rusher_ability_trace = pm.sample(500, tune=50, return_inferencedata=True, target_accept=.95)\n",
    "    model_rusher_ability_trace = pm.sample(1000, tune=100, return_inferencedata=True, target_accept=.95)\n"
   ]
  },
  {
   "cell_type": "code",
   "execution_count": 230,
   "metadata": {},
   "outputs": [],
   "source": [
    "import pickle\n",
    "\n",
    "with open('model_rusher_ability_v6.pkl', 'wb') as f:\n",
    "    pickle.dump(model_rusher_ability, f)\n",
    "with open('model_rusher_ability_trace_v6.pkl', 'wb') as f:\n",
    "    pickle.dump(model_rusher_ability_trace, f)"
   ]
  },
  {
   "cell_type": "code",
   "execution_count": 231,
   "metadata": {},
   "outputs": [
    {
     "data": {
      "text/plain": [
       "array([[<AxesSubplot:title={'center':'rusher_ability'}>,\n",
       "        <AxesSubplot:title={'center':'rusher_ability'}>]], dtype=object)"
      ]
     },
     "execution_count": 231,
     "metadata": {},
     "output_type": "execute_result"
    },
    {
     "data": {
      "image/png": "[encoded data removed]",
      "text/plain": [
       "<Figure size 864x144 with 2 Axes>"
      ]
     },
     "metadata": {
      "needs_background": "light"
     },
     "output_type": "display_data"
    }
   ],
   "source": [
    "# pm.traceplot(model_rusher_skill_trace)\n",
    "pm.plot_trace(model_rusher_ability_trace, var_names='rusher_ability')"
   ]
  },
  {
   "cell_type": "markdown",
   "metadata": {},
   "source": [
    "# ラッシャー能力値と実績の相関分析"
   ]
  },
  {
   "cell_type": "code",
   "execution_count": 232,
   "metadata": {},
   "outputs": [],
   "source": [
    "rush_pff_scouting = pd.read_csv('../data/pffScoutingData_with_name.csv')\n",
    "rush_pff_scouting = rush_pff_scouting[rush_pff_scouting['pff_role']=='Pass Rush']\n",
    "rush_pff_scouting = rush_pff_scouting.groupby('nflId')[['pff_hit','pff_hurry','pff_sack']].sum().reset_index().rename(columns={\n",
    "    'pff_hit': 'sum_pff_hit',\n",
    "    'pff_hurry': 'sum_pff_hurry',\n",
    "    'pff_sack': 'sum_pff_sack'\n",
    "})\n",
    "rush_players = pd.read_csv('../generated_data/rush_players_v6.csv')\n",
    "rusher_ability_summary = pm.summary(model_rusher_ability_trace).reset_index()"
   ]
  },
  {
   "cell_type": "code",
   "execution_count": 233,
   "metadata": {},
   "outputs": [
    {
     "data": {
      "text/html": [
       "<div>\n",
       "<style scoped>\n",
       "    .dataframe tbody tr th:only-of-type {\n",
       "        vertical-align: middle;\n",
       "    }\n",
       "\n",
       "    .dataframe tbody tr th {\n",
       "        vertical-align: top;\n",
       "    }\n",
       "\n",
       "    .dataframe thead th {\n",
       "        text-align: right;\n",
       "    }\n",
       "</style>\n",
       "<table border=\"1\" class=\"dataframe\">\n",
       "  <thead>\n",
       "    <tr style=\"text-align: right;\">\n",
       "      <th></th>\n",
       "      <th>nflId</th>\n",
       "      <th>rusher_ability</th>\n",
       "      <th>height</th>\n",
       "      <th>weight</th>\n",
       "      <th>birthDate</th>\n",
       "      <th>collegeName</th>\n",
       "      <th>officialPosition</th>\n",
       "      <th>displayName</th>\n",
       "      <th>play_cnt</th>\n",
       "      <th>sum_pff_hit</th>\n",
       "      <th>sum_pff_hurry</th>\n",
       "      <th>sum_pff_sack</th>\n",
       "      <th>blockers_avg_impact</th>\n",
       "      <th>pass_failure_prob</th>\n",
       "    </tr>\n",
       "  </thead>\n",
       "  <tbody>\n",
       "    <tr>\n",
       "      <th>0</th>\n",
       "      <td>44813</td>\n",
       "      <td>0.464</td>\n",
       "      <td>6-4</td>\n",
       "      <td>0.548077</td>\n",
       "      <td>1995-12-29</td>\n",
       "      <td>Texas A&amp;amp;M</td>\n",
       "      <td>DE</td>\n",
       "      <td>Myles Garrett</td>\n",
       "      <td>208</td>\n",
       "      <td>9.0</td>\n",
       "      <td>29.0</td>\n",
       "      <td>12.0</td>\n",
       "      <td>0.299861</td>\n",
       "      <td>0.502959</td>\n",
       "    </tr>\n",
       "    <tr>\n",
       "      <th>1</th>\n",
       "      <td>43326</td>\n",
       "      <td>0.446</td>\n",
       "      <td>6-6</td>\n",
       "      <td>0.721154</td>\n",
       "      <td>1994-07-03</td>\n",
       "      <td>Mississippi State</td>\n",
       "      <td>DT</td>\n",
       "      <td>Chris Jones</td>\n",
       "      <td>151</td>\n",
       "      <td>3.0</td>\n",
       "      <td>18.0</td>\n",
       "      <td>3.0</td>\n",
       "      <td>0.600194</td>\n",
       "      <td>0.540881</td>\n",
       "    </tr>\n",
       "    <tr>\n",
       "      <th>2</th>\n",
       "      <td>43378</td>\n",
       "      <td>0.425</td>\n",
       "      <td>6-2</td>\n",
       "      <td>0.706731</td>\n",
       "      <td>1993-02-07</td>\n",
       "      <td>South Carolina State</td>\n",
       "      <td>DT</td>\n",
       "      <td>Javon Hargrave</td>\n",
       "      <td>172</td>\n",
       "      <td>6.0</td>\n",
       "      <td>15.0</td>\n",
       "      <td>5.0</td>\n",
       "      <td>0.952536</td>\n",
       "      <td>0.407643</td>\n",
       "    </tr>\n",
       "    <tr>\n",
       "      <th>3</th>\n",
       "      <td>35539</td>\n",
       "      <td>0.368</td>\n",
       "      <td>6-3</td>\n",
       "      <td>0.552885</td>\n",
       "      <td>1987-12-22</td>\n",
       "      <td>Southern California</td>\n",
       "      <td>DE</td>\n",
       "      <td>Everson Griffen</td>\n",
       "      <td>168</td>\n",
       "      <td>5.0</td>\n",
       "      <td>16.0</td>\n",
       "      <td>5.0</td>\n",
       "      <td>0.331763</td>\n",
       "      <td>0.533333</td>\n",
       "    </tr>\n",
       "    <tr>\n",
       "      <th>4</th>\n",
       "      <td>47889</td>\n",
       "      <td>0.366</td>\n",
       "      <td>6-5</td>\n",
       "      <td>0.466346</td>\n",
       "      <td>1997-08-22</td>\n",
       "      <td>Eastern Michigan</td>\n",
       "      <td>DE</td>\n",
       "      <td>Maxx Crosby</td>\n",
       "      <td>218</td>\n",
       "      <td>12.0</td>\n",
       "      <td>30.0</td>\n",
       "      <td>7.0</td>\n",
       "      <td>0.306165</td>\n",
       "      <td>0.427027</td>\n",
       "    </tr>\n",
       "  </tbody>\n",
       "</table>\n",
       "</div>"
      ],
      "text/plain": [
       "   nflId  rusher_ability height    weight   birthDate           collegeName  \\\n",
       "0  44813           0.464    6-4  0.548077  1995-12-29         Texas A&amp;M   \n",
       "1  43326           0.446    6-6  0.721154  1994-07-03     Mississippi State   \n",
       "2  43378           0.425    6-2  0.706731  1993-02-07  South Carolina State   \n",
       "3  35539           0.368    6-3  0.552885  1987-12-22   Southern California   \n",
       "4  47889           0.366    6-5  0.466346  1997-08-22      Eastern Michigan   \n",
       "\n",
       "  officialPosition      displayName  play_cnt  sum_pff_hit  sum_pff_hurry  \\\n",
       "0               DE    Myles Garrett       208          9.0           29.0   \n",
       "1               DT      Chris Jones       151          3.0           18.0   \n",
       "2               DT   Javon Hargrave       172          6.0           15.0   \n",
       "3               DE  Everson Griffen       168          5.0           16.0   \n",
       "4               DE      Maxx Crosby       218         12.0           30.0   \n",
       "\n",
       "   sum_pff_sack  blockers_avg_impact  pass_failure_prob  \n",
       "0          12.0             0.299861           0.502959  \n",
       "1           3.0             0.600194           0.540881  \n",
       "2           5.0             0.952536           0.407643  \n",
       "3           5.0             0.331763           0.533333  \n",
       "4           7.0             0.306165           0.427027  "
      ]
     },
     "execution_count": 233,
     "metadata": {},
     "output_type": "execute_result"
    }
   ],
   "source": [
    "rushers = rusher_ability_summary[rusher_ability_summary['index'].str.contains('rusher_ability')].sort_values(by='mean', ascending=False)\n",
    "rushers['nflId'] = rushers['index'].str.split('[', expand=True)[1].str.split(']', expand=True)[0]\n",
    "rushers['nflId'] = rushers['nflId'].astype(int)\n",
    "rushers['rusher_ability'] = rushers['mean']\n",
    "rushers = pd.merge(\n",
    "    rushers[['nflId','rusher_ability']],\n",
    "    rush_players[['nflId','height','weight','birthDate',\n",
    "                  'collegeName','officialPosition','displayName',\n",
    "                  'play_cnt']],\n",
    "    on='nflId',\n",
    "    how='left'\n",
    ")\n",
    "rushers = pd.merge(\n",
    "    rushers,\n",
    "    rush_pff_scouting,\n",
    "    on='nflId',\n",
    "    how='left'\n",
    ")\n",
    "rushers = pd.merge(\n",
    "    rushers,\n",
    "    rusher_skill_df.groupby('Pass Rush_nflId')[['blockers_ttl_impact_to_rusher_mean','is_pass_failed']].mean().reset_index().rename(\n",
    "        columns={'Pass Rush_nflId': 'nflId', \n",
    "                 'blockers_ttl_impact_to_rusher_mean': 'blockers_avg_impact',\n",
    "                 'is_pass_failed': 'pass_failure_prob'}\n",
    "    ),\n",
    "    on='nflId',\n",
    "    how='left'\n",
    ")\n",
    "rushers.head()"
   ]
  },
  {
   "cell_type": "code",
   "execution_count": 234,
   "metadata": {},
   "outputs": [
    {
     "data": {
      "application/vnd.plotly.v1+json": {
       "config": {
        "plotlyServerURL": "https://plot.ly"
       },
       "data": [
        {
         "hovertemplate": "officialPosition=DE<br>rusher_ability=%{x}<br>ratio_achivements=%{y}<extra></extra>",
         "legendgroup": "DE",
         "marker": {
          "color": "#636efa",
          "symbol": "circle"
         },
         "mode": "markers",
         "name": "DE",
         "orientation": "v",
         "showlegend": true,
         "type": "scatter",
         "x": [
          0.464,
          0.368,
          0.366,
          0.361,
          0.361,
          0.342,
          0.338,
          0.32,
          0.316,
          0.313,
          0.306,
          0.305,
          0.303,
          0.301,
          0.3,
          0.293,
          0.293,
          0.293,
          0.291,
          0.29,
          0.288,
          0.287,
          0.286,
          0.282,
          0.278,
          0.277,
          0.275,
          0.274,
          0.271,
          0.271,
          0.27,
          0.269,
          0.267,
          0.265,
          0.264,
          0.263,
          0.262,
          0.262,
          0.261,
          0.261,
          0.259,
          0.253,
          0.252,
          0.252,
          0.251,
          0.251,
          0.244,
          0.244,
          0.242,
          0.24,
          0.239,
          0.238,
          0.236,
          0.236,
          0.233,
          0.233,
          0.233,
          0.231,
          0.227,
          0.225,
          0.224,
          0.224,
          0.223,
          0.223,
          0.222,
          0.221,
          0.214,
          0.214,
          0.213,
          0.213,
          0.212,
          0.207,
          0.207,
          0.205,
          0.203,
          0.199,
          0.198,
          0.197,
          0.197,
          0.184,
          0.183,
          0.18,
          0.168,
          0.136
         ],
         "xaxis": "x",
         "y": [
          0.2403846153846154,
          0.15476190476190477,
          0.22477064220183487,
          0.15151515151515152,
          0.20833333333333334,
          0.18452380952380953,
          0.21232876712328766,
          0.10362694300518134,
          0.1259259259259259,
          0.125,
          0.09259259259259259,
          0.16470588235294117,
          0.16981132075471697,
          0.16483516483516483,
          0.208955223880597,
          0.12,
          0.12643678160919541,
          0.20689655172413793,
          0.14772727272727273,
          0.12121212121212122,
          0.1,
          0.175,
          0.14361702127659576,
          0.1437125748502994,
          0.17475728155339806,
          0.11904761904761904,
          0.13392857142857142,
          0.07777777777777778,
          0.10067114093959731,
          0.14772727272727273,
          0.16279069767441862,
          0.13855421686746988,
          0.11764705882352941,
          0.09803921568627451,
          0.0945945945945946,
          0.10256410256410256,
          0.12280701754385964,
          0.1485148514851485,
          0.11392405063291139,
          0.14838709677419354,
          0.11290322580645161,
          0.16,
          0.10119047619047619,
          0.09302325581395349,
          0.1277533039647577,
          0.04878048780487805,
          0.15178571428571427,
          0.10982658959537572,
          0.06086956521739131,
          0.18421052631578946,
          0.09523809523809523,
          0.08860759493670886,
          0.12209302325581395,
          0.027777777777777776,
          0.10112359550561797,
          0.07964601769911504,
          0.0963855421686747,
          0.07407407407407407,
          0.12631578947368421,
          0.1111111111111111,
          0.09090909090909091,
          0.09923664122137404,
          0.07352941176470588,
          0.09004739336492891,
          0.0916030534351145,
          0.12053571428571429,
          0.10606060606060606,
          0.03759398496240601,
          0.09027777777777778,
          0.06349206349206349,
          0.07926829268292683,
          0.10362694300518134,
          0.09411764705882353,
          0.06382978723404255,
          0.05056179775280899,
          0.04411764705882353,
          0.05223880597014925,
          0.10309278350515463,
          0.06832298136645963,
          0.07650273224043716,
          0.03529411764705882,
          0.06217616580310881,
          0.03007518796992481,
          0.08870967741935484
         ],
         "yaxis": "y"
        },
        {
         "hovertemplate": "<b>OLS trendline</b><br>ratio_achivements = 0.674653 * rusher_ability + -0.0582758<br>R<sup>2</sup>=0.566109<br><br>officialPosition=DE<br>rusher_ability=%{x}<br>ratio_achivements=%{y} <b>(trend)</b><extra></extra>",
         "legendgroup": "DE",
         "marker": {
          "color": "#636efa",
          "symbol": "circle"
         },
         "mode": "lines",
         "name": "DE",
         "showlegend": false,
         "type": "scatter",
         "x": [
          0.136,
          0.168,
          0.18,
          0.183,
          0.184,
          0.197,
          0.197,
          0.198,
          0.199,
          0.203,
          0.205,
          0.207,
          0.207,
          0.212,
          0.213,
          0.213,
          0.214,
          0.214,
          0.221,
          0.222,
          0.223,
          0.223,
          0.224,
          0.224,
          0.225,
          0.227,
          0.231,
          0.233,
          0.233,
          0.233,
          0.236,
          0.236,
          0.238,
          0.239,
          0.24,
          0.242,
          0.244,
          0.244,
          0.251,
          0.251,
          0.252,
          0.252,
          0.253,
          0.259,
          0.261,
          0.261,
          0.262,
          0.262,
          0.263,
          0.264,
          0.265,
          0.267,
          0.269,
          0.27,
          0.271,
          0.271,
          0.274,
          0.275,
          0.277,
          0.278,
          0.282,
          0.286,
          0.287,
          0.288,
          0.29,
          0.291,
          0.293,
          0.293,
          0.293,
          0.3,
          0.301,
          0.303,
          0.305,
          0.306,
          0.313,
          0.316,
          0.32,
          0.338,
          0.342,
          0.361,
          0.361,
          0.366,
          0.368,
          0.464
         ],
         "xaxis": "x",
         "y": [
          0.03347699364039321,
          0.055065876376134526,
          0.0631617074020375,
          0.06518566515851325,
          0.06586031774400516,
          0.0746308013554001,
          0.0746308013554001,
          0.075305453940892,
          0.07598010652638393,
          0.0786787168683516,
          0.0800280220393354,
          0.08137732721031923,
          0.08137732721031923,
          0.08475059013777883,
          0.08542524272327073,
          0.08542524272327073,
          0.08609989530876266,
          0.08609989530876266,
          0.09082246340720607,
          0.091497115992698,
          0.0921717685781899,
          0.0921717685781899,
          0.09284642116368183,
          0.09284642116368183,
          0.09352107374917373,
          0.09487037892015757,
          0.09756898926212523,
          0.09891829443310907,
          0.09891829443310907,
          0.09891829443310907,
          0.1009422521895848,
          0.1009422521895848,
          0.10229155736056864,
          0.10296620994606054,
          0.10364086253155247,
          0.1049901677025363,
          0.10633947287352014,
          0.10633947287352014,
          0.11106204097196357,
          0.11106204097196357,
          0.11173669355745547,
          0.11173669355745547,
          0.1124113461429474,
          0.1164592616558989,
          0.11780856682688273,
          0.11780856682688273,
          0.11848321941237464,
          0.11848321941237464,
          0.11915787199786657,
          0.11983252458335847,
          0.1205071771688504,
          0.12185648233983423,
          0.12320578751081807,
          0.12388044009630997,
          0.1245550926818019,
          0.1245550926818019,
          0.12657905043827763,
          0.12725370302376957,
          0.1286030081947534,
          0.1292776607802453,
          0.13197627112221294,
          0.1346748814641806,
          0.1353495340496725,
          0.13602418663516444,
          0.13737349180614827,
          0.13804814439164018,
          0.139397449562624,
          0.139397449562624,
          0.139397449562624,
          0.14412001766106744,
          0.14479467024655934,
          0.14614397541754318,
          0.147493280588527,
          0.14816793317401894,
          0.15289050127246234,
          0.1549144590289381,
          0.15761306937090577,
          0.16975681590976027,
          0.17245542625172794,
          0.1852738253760743,
          0.1852738253760743,
          0.18864708830353388,
          0.18999639347451772,
          0.2547630416817417
         ],
         "yaxis": "y"
        },
        {
         "hovertemplate": "officialPosition=DT<br>rusher_ability=%{x}<br>ratio_achivements=%{y}<extra></extra>",
         "legendgroup": "DT",
         "marker": {
          "color": "#EF553B",
          "symbol": "circle"
         },
         "mode": "markers",
         "name": "DT",
         "orientation": "v",
         "showlegend": true,
         "type": "scatter",
         "x": [
          0.446,
          0.425,
          0.359,
          0.324,
          0.316,
          0.306,
          0.305,
          0.297,
          0.287,
          0.287,
          0.286,
          0.283,
          0.281,
          0.279,
          0.277,
          0.276,
          0.275,
          0.269,
          0.268,
          0.264,
          0.262,
          0.262,
          0.262,
          0.261,
          0.258,
          0.258,
          0.257,
          0.257,
          0.255,
          0.252,
          0.252,
          0.25,
          0.247,
          0.244,
          0.244,
          0.242,
          0.242,
          0.239,
          0.235,
          0.234,
          0.234,
          0.231,
          0.231,
          0.229,
          0.229,
          0.229,
          0.229,
          0.222,
          0.222,
          0.221,
          0.219,
          0.213,
          0.213,
          0.205,
          0.204,
          0.202,
          0.199,
          0.199,
          0.196,
          0.194,
          0.192,
          0.19,
          0.189,
          0.187,
          0.186,
          0.184,
          0.177,
          0.173,
          0.16
         ],
         "xaxis": "x",
         "y": [
          0.15894039735099338,
          0.1511627906976744,
          0.16055045871559634,
          0.10559006211180125,
          0.14615384615384616,
          0.0743801652892562,
          0.11235955056179775,
          0.10204081632653061,
          0.135678391959799,
          0.09795918367346938,
          0.0880503144654088,
          0.09523809523809523,
          0.11926605504587157,
          0.09389671361502347,
          0.10884353741496598,
          0.16535433070866143,
          0.14492753623188406,
          0.10666666666666667,
          0.06818181818181818,
          0.07741935483870968,
          0.12686567164179105,
          0.08176100628930817,
          0.07352941176470588,
          0.1134020618556701,
          0.10526315789473684,
          0.08450704225352113,
          0.08928571428571429,
          0.11351351351351352,
          0.09022556390977443,
          0.13636363636363635,
          0.11724137931034483,
          0.06153846153846154,
          0.09195402298850575,
          0.05555555555555555,
          0.0967741935483871,
          0.12432432432432433,
          0.07317073170731707,
          0.12142857142857143,
          0.028985507246376812,
          0.0703125,
          0.043478260869565216,
          0.08,
          0.11926605504587157,
          0.06722689075630252,
          0.1,
          0.05714285714285714,
          0.08461538461538462,
          0.046875,
          0.11811023622047244,
          0.09411764705882353,
          0.08441558441558442,
          0.10638297872340426,
          0.07407407407407407,
          0.023529411764705882,
          0.07,
          0.06956521739130435,
          0.1072961373390558,
          0.08823529411764706,
          0.015151515151515152,
          0.072992700729927,
          0.054945054945054944,
          0.04838709677419355,
          0.06172839506172839,
          0.043478260869565216,
          0.028985507246376812,
          0.010526315789473684,
          0.058823529411764705,
          0.08196721311475409,
          0.03409090909090909
         ],
         "yaxis": "y"
        },
        {
         "hovertemplate": "<b>OLS trendline</b><br>ratio_achivements = 0.463797 * rusher_ability + -0.0262104<br>R<sup>2</sup>=0.454422<br><br>officialPosition=DT<br>rusher_ability=%{x}<br>ratio_achivements=%{y} <b>(trend)</b><extra></extra>",
         "legendgroup": "DT",
         "marker": {
          "color": "#EF553B",
          "symbol": "circle"
         },
         "mode": "lines",
         "name": "DT",
         "showlegend": false,
         "type": "scatter",
         "x": [
          0.16,
          0.173,
          0.177,
          0.184,
          0.186,
          0.187,
          0.189,
          0.19,
          0.192,
          0.194,
          0.196,
          0.199,
          0.199,
          0.202,
          0.204,
          0.205,
          0.213,
          0.213,
          0.219,
          0.221,
          0.222,
          0.222,
          0.229,
          0.229,
          0.229,
          0.229,
          0.231,
          0.231,
          0.234,
          0.234,
          0.235,
          0.239,
          0.242,
          0.242,
          0.244,
          0.244,
          0.247,
          0.25,
          0.252,
          0.252,
          0.255,
          0.257,
          0.257,
          0.258,
          0.258,
          0.261,
          0.262,
          0.262,
          0.262,
          0.264,
          0.268,
          0.269,
          0.275,
          0.276,
          0.277,
          0.279,
          0.281,
          0.283,
          0.286,
          0.287,
          0.287,
          0.297,
          0.305,
          0.306,
          0.316,
          0.324,
          0.359,
          0.425,
          0.446
         ],
         "xaxis": "x",
         "y": [
          0.04799719443822129,
          0.054026559203855955,
          0.055881748362512786,
          0.05912832939016222,
          0.06005592396949063,
          0.06051972125915484,
          0.06144731583848325,
          0.06191111312814746,
          0.06283870770747588,
          0.06376630228680427,
          0.0646938968661327,
          0.06608528873512531,
          0.06608528873512531,
          0.06747668060411793,
          0.06840427518344633,
          0.06886807247311053,
          0.07257845079042419,
          0.07257845079042419,
          0.0753612345284094,
          0.07628882910773782,
          0.07675262639740202,
          0.07675262639740202,
          0.07999920742505146,
          0.07999920742505146,
          0.07999920742505146,
          0.07999920742505146,
          0.08092680200437988,
          0.08092680200437988,
          0.0823181938733725,
          0.0823181938733725,
          0.0827819911630367,
          0.08463718032169351,
          0.08602857219068613,
          0.08602857219068613,
          0.08695616677001453,
          0.08695616677001453,
          0.08834755863900715,
          0.08973895050799977,
          0.09066654508732819,
          0.09066654508732819,
          0.09205793695632081,
          0.0929855315356492,
          0.0929855315356492,
          0.09344932882531343,
          0.09344932882531343,
          0.09484072069430605,
          0.09530451798397024,
          0.09530451798397024,
          0.09530451798397024,
          0.09623211256329864,
          0.09808730172195548,
          0.09855109901161968,
          0.10133388274960492,
          0.10179768003926912,
          0.10226147732893331,
          0.10318907190826174,
          0.10411666648759013,
          0.10504426106691853,
          0.10643565293591115,
          0.10689945022557534,
          0.10689945022557534,
          0.1115374231222174,
          0.11524780143953106,
          0.11571159872919526,
          0.12034957162583731,
          0.12405994994315095,
          0.14029285508139813,
          0.17090347619923568,
          0.18064321928218402
         ],
         "yaxis": "y"
        },
        {
         "hovertemplate": "officialPosition=OLB<br>rusher_ability=%{x}<br>ratio_achivements=%{y}<extra></extra>",
         "legendgroup": "OLB",
         "marker": {
          "color": "#00cc96",
          "symbol": "circle"
         },
         "mode": "markers",
         "name": "OLB",
         "orientation": "v",
         "showlegend": true,
         "type": "scatter",
         "x": [
          0.338,
          0.333,
          0.329,
          0.326,
          0.326,
          0.316,
          0.315,
          0.306,
          0.305,
          0.298,
          0.298,
          0.294,
          0.294,
          0.293,
          0.292,
          0.291,
          0.289,
          0.283,
          0.283,
          0.277,
          0.273,
          0.272,
          0.272,
          0.272,
          0.27,
          0.269,
          0.269,
          0.268,
          0.267,
          0.265,
          0.264,
          0.263,
          0.26,
          0.258,
          0.251,
          0.251,
          0.25,
          0.238,
          0.237,
          0.236,
          0.233,
          0.232,
          0.228,
          0.226,
          0.225,
          0.224,
          0.217,
          0.216,
          0.214,
          0.194,
          0.189,
          0.178,
          0.168
         ],
         "xaxis": "x",
         "y": [
          0.19444444444444445,
          0.20408163265306123,
          0.1891891891891892,
          0.1875,
          0.1348314606741573,
          0.14492753623188406,
          0.175,
          0.1340782122905028,
          0.13793103448275862,
          0.1566265060240964,
          0.1619718309859155,
          0.2222222222222222,
          0.15492957746478872,
          0.1935483870967742,
          0.1506849315068493,
          0.16201117318435754,
          0.12790697674418605,
          0.10526315789473684,
          0.18461538461538463,
          0.1388888888888889,
          0.06862745098039216,
          0.14838709677419354,
          0.1165644171779141,
          0.18699186991869918,
          0.21428571428571427,
          0.14893617021276595,
          0.09558823529411764,
          0.10294117647058823,
          0.18222222222222223,
          0.1111111111111111,
          0.10576923076923077,
          0.12121212121212122,
          0.11702127659574468,
          0.125,
          0.09740259740259741,
          0.05128205128205128,
          0.10483870967741936,
          0.10909090909090909,
          0.10619469026548672,
          0.078125,
          0.12650602409638553,
          0.043478260869565216,
          0.11538461538461539,
          0.08771929824561403,
          0.06741573033707865,
          0.072,
          0.0875,
          0.060240963855421686,
          0.09090909090909091,
          0.07971014492753623,
          0.0975609756097561,
          0.0873015873015873,
          0.1111111111111111
         ],
         "yaxis": "y"
        },
        {
         "hovertemplate": "<b>OLS trendline</b><br>ratio_achivements = 0.763224 * rusher_ability + -0.0742032<br>R<sup>2</sup>=0.480778<br><br>officialPosition=OLB<br>rusher_ability=%{x}<br>ratio_achivements=%{y} <b>(trend)</b><extra></extra>",
         "legendgroup": "OLB",
         "marker": {
          "color": "#00cc96",
          "symbol": "circle"
         },
         "mode": "lines",
         "name": "OLB",
         "showlegend": false,
         "type": "scatter",
         "x": [
          0.168,
          0.178,
          0.189,
          0.194,
          0.214,
          0.216,
          0.217,
          0.224,
          0.225,
          0.226,
          0.228,
          0.232,
          0.233,
          0.236,
          0.237,
          0.238,
          0.25,
          0.251,
          0.251,
          0.258,
          0.26,
          0.263,
          0.264,
          0.265,
          0.267,
          0.268,
          0.269,
          0.269,
          0.27,
          0.272,
          0.272,
          0.272,
          0.273,
          0.277,
          0.283,
          0.283,
          0.289,
          0.291,
          0.292,
          0.293,
          0.294,
          0.294,
          0.298,
          0.298,
          0.305,
          0.306,
          0.315,
          0.316,
          0.326,
          0.326,
          0.329,
          0.333,
          0.338
         ],
         "xaxis": "x",
         "y": [
          0.05401847148499715,
          0.06165071356506026,
          0.0700461798531297,
          0.07386230089316127,
          0.08912678505328751,
          0.09065323346930014,
          0.09141645767730645,
          0.09675902713335065,
          0.09752225134135696,
          0.09828547554936327,
          0.0998119239653759,
          0.10286482079740115,
          0.10362804500540747,
          0.10591771762942638,
          0.1066809418374327,
          0.10744416604543901,
          0.11660285654151477,
          0.11736608074952108,
          0.11736608074952108,
          0.12270865020556528,
          0.1242350986215779,
          0.12652477124559686,
          0.12728799545360314,
          0.12805121966160948,
          0.1295776680776221,
          0.1303408922856284,
          0.13110411649363474,
          0.13110411649363474,
          0.13186734070164102,
          0.13339378911765365,
          0.13339378911765365,
          0.13339378911765365,
          0.13415701332566,
          0.13720991015768524,
          0.14178925540572307,
          0.14178925540572307,
          0.14636860065376095,
          0.14789504906977358,
          0.14865827327777986,
          0.1494214974857862,
          0.1501847216937925,
          0.1501847216937925,
          0.15323761852581774,
          0.15323761852581774,
          0.15858018798186196,
          0.15934341218986825,
          0.1662124300619251,
          0.16697565426993138,
          0.17460789634999452,
          0.17460789634999452,
          0.17689756897401343,
          0.17995046580603868,
          0.18376658684607028
         ],
         "yaxis": "y"
        },
        {
         "hovertemplate": "officialPosition=NT<br>rusher_ability=%{x}<br>ratio_achivements=%{y}<extra></extra>",
         "legendgroup": "NT",
         "marker": {
          "color": "#ab63fa",
          "symbol": "circle"
         },
         "mode": "markers",
         "name": "NT",
         "orientation": "v",
         "showlegend": true,
         "type": "scatter",
         "x": [
          0.313,
          0.3,
          0.297,
          0.281,
          0.276,
          0.275,
          0.252,
          0.251,
          0.236,
          0.226,
          0.222,
          0.216,
          0.214,
          0.211,
          0.199,
          0.197,
          0.197,
          0.197,
          0.186
         ],
         "xaxis": "x",
         "y": [
          0.13157894736842105,
          0.09693877551020408,
          0.14166666666666666,
          0.14705882352941177,
          0.1111111111111111,
          0.09815950920245399,
          0.07777777777777778,
          0.1,
          0.07920792079207921,
          0.05660377358490566,
          0.07567567567567568,
          0.04032258064516129,
          0.08074534161490683,
          0.07446808510638298,
          0.05970149253731343,
          0.04838709677419355,
          0.041666666666666664,
          0.04225352112676056,
          0.05
         ],
         "yaxis": "y"
        },
        {
         "hovertemplate": "<b>OLS trendline</b><br>ratio_achivements = 0.73465 * rusher_ability + -0.0940208<br>R<sup>2</sup>=0.783052<br><br>officialPosition=NT<br>rusher_ability=%{x}<br>ratio_achivements=%{y} <b>(trend)</b><extra></extra>",
         "legendgroup": "NT",
         "marker": {
          "color": "#ab63fa",
          "symbol": "circle"
         },
         "mode": "lines",
         "name": "NT",
         "showlegend": false,
         "type": "scatter",
         "x": [
          0.186,
          0.197,
          0.197,
          0.197,
          0.199,
          0.211,
          0.214,
          0.216,
          0.222,
          0.226,
          0.236,
          0.251,
          0.252,
          0.275,
          0.276,
          0.281,
          0.297,
          0.3,
          0.313
         ],
         "xaxis": "x",
         "y": [
          0.042624102795340235,
          0.05070525293206446,
          0.05070525293206446,
          0.05070525293206446,
          0.052174552956923415,
          0.06099035310607709,
          0.06319430314336552,
          0.06466360316822448,
          0.06907150324280131,
          0.07201010329251922,
          0.07935660341681394,
          0.09037635360325608,
          0.09111100361568555,
          0.10800795390156348,
          0.10874260391399296,
          0.11241585397614032,
          0.12417025417501187,
          0.1263742042123003,
          0.13592465437388349
         ],
         "yaxis": "y"
        },
        {
         "hovertemplate": "officialPosition=ILB<br>rusher_ability=%{x}<br>ratio_achivements=%{y}<extra></extra>",
         "legendgroup": "ILB",
         "marker": {
          "color": "#FFA15A",
          "symbol": "circle"
         },
         "mode": "markers",
         "name": "ILB",
         "orientation": "v",
         "showlegend": true,
         "type": "scatter",
         "x": [
          0.308,
          0.288,
          0.271
         ],
         "xaxis": "x",
         "y": [
          0.2571428571428571,
          0.18461538461538463,
          0.1724137931034483
         ],
         "yaxis": "y"
        },
        {
         "hovertemplate": "<b>OLS trendline</b><br>ratio_achivements = 2.32894 * rusher_ability + -0.468339<br>R<sup>2</sup>=0.886747<br><br>officialPosition=ILB<br>rusher_ability=%{x}<br>ratio_achivements=%{y} <b>(trend)</b><extra></extra>",
         "legendgroup": "ILB",
         "marker": {
          "color": "#FFA15A",
          "symbol": "circle"
         },
         "mode": "lines",
         "name": "ILB",
         "showlegend": false,
         "type": "scatter",
         "x": [
          0.271,
          0.288,
          0.308
         ],
         "xaxis": "x",
         "y": [
          0.16280314973388266,
          0.20239507484908092,
          0.24897381027872612
         ],
         "yaxis": "y"
        }
       ],
       "layout": {
        "autosize": true,
        "legend": {
         "title": {
          "text": "officialPosition"
         },
         "tracegroupgap": 0
        },
        "margin": {
         "t": 60
        },
        "template": {
         "data": {
          "bar": [
           {
            "error_x": {
             "color": "#2a3f5f"
            },
            "error_y": {
             "color": "#2a3f5f"
            },
            "marker": {
             "line": {
              "color": "#E5ECF6",
              "width": 0.5
             },
             "pattern": {
              "fillmode": "overlay",
              "size": 10,
              "solidity": 0.2
             }
            },
            "type": "bar"
           }
          ],
          "barpolar": [
           {
            "marker": {
             "line": {
              "color": "#E5ECF6",
              "width": 0.5
             },
             "pattern": {
              "fillmode": "overlay",
              "size": 10,
              "solidity": 0.2
             }
            },
            "type": "barpolar"
           }
          ],
          "carpet": [
           {
            "aaxis": {
             "endlinecolor": "#2a3f5f",
             "gridcolor": "white",
             "linecolor": "white",
             "minorgridcolor": "white",
             "startlinecolor": "#2a3f5f"
            },
            "baxis": {
             "endlinecolor": "#2a3f5f",
             "gridcolor": "white",
             "linecolor": "white",
             "minorgridcolor": "white",
             "startlinecolor": "#2a3f5f"
            },
            "type": "carpet"
           }
          ],
          "choropleth": [
           {
            "colorbar": {
             "outlinewidth": 0,
             "ticks": ""
            },
            "type": "choropleth"
           }
          ],
          "contour": [
           {
            "colorbar": {
             "outlinewidth": 0,
             "ticks": ""
            },
            "colorscale": [
             [
              0,
              "#0d0887"
             ],
             [
              0.1111111111111111,
              "#46039f"
             ],
             [
              0.2222222222222222,
              "#7201a8"
             ],
             [
              0.3333333333333333,
              "#9c179e"
             ],
             [
              0.4444444444444444,
              "#bd3786"
             ],
             [
              0.5555555555555556,
              "#d8576b"
             ],
             [
              0.6666666666666666,
              "#ed7953"
             ],
             [
              0.7777777777777778,
              "#fb9f3a"
             ],
             [
              0.8888888888888888,
              "#fdca26"
             ],
             [
              1,
              "#f0f921"
             ]
            ],
            "type": "contour"
           }
          ],
          "contourcarpet": [
           {
            "colorbar": {
             "outlinewidth": 0,
             "ticks": ""
            },
            "type": "contourcarpet"
           }
          ],
          "heatmap": [
           {
            "colorbar": {
             "outlinewidth": 0,
             "ticks": ""
            },
            "colorscale": [
             [
              0,
              "#0d0887"
             ],
             [
              0.1111111111111111,
              "#46039f"
             ],
             [
              0.2222222222222222,
              "#7201a8"
             ],
             [
              0.3333333333333333,
              "#9c179e"
             ],
             [
              0.4444444444444444,
              "#bd3786"
             ],
             [
              0.5555555555555556,
              "#d8576b"
             ],
             [
              0.6666666666666666,
              "#ed7953"
             ],
             [
              0.7777777777777778,
              "#fb9f3a"
             ],
             [
              0.8888888888888888,
              "#fdca26"
             ],
             [
              1,
              "#f0f921"
             ]
            ],
            "type": "heatmap"
           }
          ],
          "heatmapgl": [
           {
            "colorbar": {
             "outlinewidth": 0,
             "ticks": ""
            },
            "colorscale": [
             [
              0,
              "#0d0887"
             ],
             [
              0.1111111111111111,
              "#46039f"
             ],
             [
              0.2222222222222222,
              "#7201a8"
             ],
             [
              0.3333333333333333,
              "#9c179e"
             ],
             [
              0.4444444444444444,
              "#bd3786"
             ],
             [
              0.5555555555555556,
              "#d8576b"
             ],
             [
              0.6666666666666666,
              "#ed7953"
             ],
             [
              0.7777777777777778,
              "#fb9f3a"
             ],
             [
              0.8888888888888888,
              "#fdca26"
             ],
             [
              1,
              "#f0f921"
             ]
            ],
            "type": "heatmapgl"
           }
          ],
          "histogram": [
           {
            "marker": {
             "pattern": {
              "fillmode": "overlay",
              "size": 10,
              "solidity": 0.2
             }
            },
            "type": "histogram"
           }
          ],
          "histogram2d": [
           {
            "colorbar": {
             "outlinewidth": 0,
             "ticks": ""
            },
            "colorscale": [
             [
              0,
              "#0d0887"
             ],
             [
              0.1111111111111111,
              "#46039f"
             ],
             [
              0.2222222222222222,
              "#7201a8"
             ],
             [
              0.3333333333333333,
              "#9c179e"
             ],
             [
              0.4444444444444444,
              "#bd3786"
             ],
             [
              0.5555555555555556,
              "#d8576b"
             ],
             [
              0.6666666666666666,
              "#ed7953"
             ],
             [
              0.7777777777777778,
              "#fb9f3a"
             ],
             [
              0.8888888888888888,
              "#fdca26"
             ],
             [
              1,
              "#f0f921"
             ]
            ],
            "type": "histogram2d"
           }
          ],
          "histogram2dcontour": [
           {
            "colorbar": {
             "outlinewidth": 0,
             "ticks": ""
            },
            "colorscale": [
             [
              0,
              "#0d0887"
             ],
             [
              0.1111111111111111,
              "#46039f"
             ],
             [
              0.2222222222222222,
              "#7201a8"
             ],
             [
              0.3333333333333333,
              "#9c179e"
             ],
             [
              0.4444444444444444,
              "#bd3786"
             ],
             [
              0.5555555555555556,
              "#d8576b"
             ],
             [
              0.6666666666666666,
              "#ed7953"
             ],
             [
              0.7777777777777778,
              "#fb9f3a"
             ],
             [
              0.8888888888888888,
              "#fdca26"
             ],
             [
              1,
              "#f0f921"
             ]
            ],
            "type": "histogram2dcontour"
           }
          ],
          "mesh3d": [
           {
            "colorbar": {
             "outlinewidth": 0,
             "ticks": ""
            },
            "type": "mesh3d"
           }
          ],
          "parcoords": [
           {
            "line": {
             "colorbar": {
              "outlinewidth": 0,
              "ticks": ""
             }
            },
            "type": "parcoords"
           }
          ],
          "pie": [
           {
            "automargin": true,
            "type": "pie"
           }
          ],
          "scatter": [
           {
            "marker": {
             "colorbar": {
              "outlinewidth": 0,
              "ticks": ""
             }
            },
            "type": "scatter"
           }
          ],
          "scatter3d": [
           {
            "line": {
             "colorbar": {
              "outlinewidth": 0,
              "ticks": ""
             }
            },
            "marker": {
             "colorbar": {
              "outlinewidth": 0,
              "ticks": ""
             }
            },
            "type": "scatter3d"
           }
          ],
          "scattercarpet": [
           {
            "marker": {
             "colorbar": {
              "outlinewidth": 0,
              "ticks": ""
             }
            },
            "type": "scattercarpet"
           }
          ],
          "scattergeo": [
           {
            "marker": {
             "colorbar": {
              "outlinewidth": 0,
              "ticks": ""
             }
            },
            "type": "scattergeo"
           }
          ],
          "scattergl": [
           {
            "marker": {
             "colorbar": {
              "outlinewidth": 0,
              "ticks": ""
             }
            },
            "type": "scattergl"
           }
          ],
          "scattermapbox": [
           {
            "marker": {
             "colorbar": {
              "outlinewidth": 0,
              "ticks": ""
             }
            },
            "type": "scattermapbox"
           }
          ],
          "scatterpolar": [
           {
            "marker": {
             "colorbar": {
              "outlinewidth": 0,
              "ticks": ""
             }
            },
            "type": "scatterpolar"
           }
          ],
          "scatterpolargl": [
           {
            "marker": {
             "colorbar": {
              "outlinewidth": 0,
              "ticks": ""
             }
            },
            "type": "scatterpolargl"
           }
          ],
          "scatterternary": [
           {
            "marker": {
             "colorbar": {
              "outlinewidth": 0,
              "ticks": ""
             }
            },
            "type": "scatterternary"
           }
          ],
          "surface": [
           {
            "colorbar": {
             "outlinewidth": 0,
             "ticks": ""
            },
            "colorscale": [
             [
              0,
              "#0d0887"
             ],
             [
              0.1111111111111111,
              "#46039f"
             ],
             [
              0.2222222222222222,
              "#7201a8"
             ],
             [
              0.3333333333333333,
              "#9c179e"
             ],
             [
              0.4444444444444444,
              "#bd3786"
             ],
             [
              0.5555555555555556,
              "#d8576b"
             ],
             [
              0.6666666666666666,
              "#ed7953"
             ],
             [
              0.7777777777777778,
              "#fb9f3a"
             ],
             [
              0.8888888888888888,
              "#fdca26"
             ],
             [
              1,
              "#f0f921"
             ]
            ],
            "type": "surface"
           }
          ],
          "table": [
           {
            "cells": {
             "fill": {
              "color": "#EBF0F8"
             },
             "line": {
              "color": "white"
             }
            },
            "header": {
             "fill": {
              "color": "#C8D4E3"
             },
             "line": {
              "color": "white"
             }
            },
            "type": "table"
           }
          ]
         },
         "layout": {
          "annotationdefaults": {
           "arrowcolor": "#2a3f5f",
           "arrowhead": 0,
           "arrowwidth": 1
          },
          "autotypenumbers": "strict",
          "coloraxis": {
           "colorbar": {
            "outlinewidth": 0,
            "ticks": ""
           }
          },
          "colorscale": {
           "diverging": [
            [
             0,
             "#8e0152"
            ],
            [
             0.1,
             "#c51b7d"
            ],
            [
             0.2,
             "#de77ae"
            ],
            [
             0.3,
             "#f1b6da"
            ],
            [
             0.4,
             "#fde0ef"
            ],
            [
             0.5,
             "#f7f7f7"
            ],
            [
             0.6,
             "#e6f5d0"
            ],
            [
             0.7,
             "#b8e186"
            ],
            [
             0.8,
             "#7fbc41"
            ],
            [
             0.9,
             "#4d9221"
            ],
            [
             1,
             "#276419"
            ]
           ],
           "sequential": [
            [
             0,
             "#0d0887"
            ],
            [
             0.1111111111111111,
             "#46039f"
            ],
            [
             0.2222222222222222,
             "#7201a8"
            ],
            [
             0.3333333333333333,
             "#9c179e"
            ],
            [
             0.4444444444444444,
             "#bd3786"
            ],
            [
             0.5555555555555556,
             "#d8576b"
            ],
            [
             0.6666666666666666,
             "#ed7953"
            ],
            [
             0.7777777777777778,
             "#fb9f3a"
            ],
            [
             0.8888888888888888,
             "#fdca26"
            ],
            [
             1,
             "#f0f921"
            ]
           ],
           "sequentialminus": [
            [
             0,
             "#0d0887"
            ],
            [
             0.1111111111111111,
             "#46039f"
            ],
            [
             0.2222222222222222,
             "#7201a8"
            ],
            [
             0.3333333333333333,
             "#9c179e"
            ],
            [
             0.4444444444444444,
             "#bd3786"
            ],
            [
             0.5555555555555556,
             "#d8576b"
            ],
            [
             0.6666666666666666,
             "#ed7953"
            ],
            [
             0.7777777777777778,
             "#fb9f3a"
            ],
            [
             0.8888888888888888,
             "#fdca26"
            ],
            [
             1,
             "#f0f921"
            ]
           ]
          },
          "colorway": [
           "#636efa",
           "#EF553B",
           "#00cc96",
           "#ab63fa",
           "#FFA15A",
           "#19d3f3",
           "#FF6692",
           "#B6E880",
           "#FF97FF",
           "#FECB52"
          ],
          "font": {
           "color": "#2a3f5f"
          },
          "geo": {
           "bgcolor": "white",
           "lakecolor": "white",
           "landcolor": "#E5ECF6",
           "showlakes": true,
           "showland": true,
           "subunitcolor": "white"
          },
          "hoverlabel": {
           "align": "left"
          },
          "hovermode": "closest",
          "mapbox": {
           "style": "light"
          },
          "paper_bgcolor": "white",
          "plot_bgcolor": "#E5ECF6",
          "polar": {
           "angularaxis": {
            "gridcolor": "white",
            "linecolor": "white",
            "ticks": ""
           },
           "bgcolor": "#E5ECF6",
           "radialaxis": {
            "gridcolor": "white",
            "linecolor": "white",
            "ticks": ""
           }
          },
          "scene": {
           "xaxis": {
            "backgroundcolor": "#E5ECF6",
            "gridcolor": "white",
            "gridwidth": 2,
            "linecolor": "white",
            "showbackground": true,
            "ticks": "",
            "zerolinecolor": "white"
           },
           "yaxis": {
            "backgroundcolor": "#E5ECF6",
            "gridcolor": "white",
            "gridwidth": 2,
            "linecolor": "white",
            "showbackground": true,
            "ticks": "",
            "zerolinecolor": "white"
           },
           "zaxis": {
            "backgroundcolor": "#E5ECF6",
            "gridcolor": "white",
            "gridwidth": 2,
            "linecolor": "white",
            "showbackground": true,
            "ticks": "",
            "zerolinecolor": "white"
           }
          },
          "shapedefaults": {
           "line": {
            "color": "#2a3f5f"
           }
          },
          "ternary": {
           "aaxis": {
            "gridcolor": "white",
            "linecolor": "white",
            "ticks": ""
           },
           "baxis": {
            "gridcolor": "white",
            "linecolor": "white",
            "ticks": ""
           },
           "bgcolor": "#E5ECF6",
           "caxis": {
            "gridcolor": "white",
            "linecolor": "white",
            "ticks": ""
           }
          },
          "title": {
           "x": 0.05
          },
          "xaxis": {
           "automargin": true,
           "gridcolor": "white",
           "linecolor": "white",
           "ticks": "",
           "title": {
            "standoff": 15
           },
           "zerolinecolor": "white",
           "zerolinewidth": 2
          },
          "yaxis": {
           "automargin": true,
           "gridcolor": "white",
           "linecolor": "white",
           "ticks": "",
           "title": {
            "standoff": 15
           },
           "zerolinecolor": "white",
           "zerolinewidth": 2
          }
         }
        },
        "xaxis": {
         "anchor": "y",
         "autorange": true,
         "domain": [
          0,
          1
         ],
         "range": [
          0.11652968036529682,
          0.4834703196347032
         ],
         "title": {
          "text": "rusher_ability"
         },
         "type": "linear"
        },
        "yaxis": {
         "anchor": "x",
         "autorange": true,
         "domain": [
          0,
          1
         ],
         "range": [
          -0.0085686657588854,
          0.2762378386912162
         ],
         "title": {
          "text": "ratio_achivements"
         },
         "type": "linear"
        }
       }
      },
      "image/png": "[encoded data removed]",
      "text/html": [
       "<div>                            <div id=\"e873351f-82e6-4343-bca7-ec7c19835ebd\" class=\"plotly-graph-div\" style=\"height:525px; width:100%;\"></div>            <script type=\"text/javascript\">                require([\"plotly\"], function(Plotly) {                    window.PLOTLYENV=window.PLOTLYENV || {};                                    if (document.getElementById(\"e873351f-82e6-4343-bca7-ec7c19835ebd\")) {                    Plotly.newPlot(                        \"e873351f-82e6-4343-bca7-ec7c19835ebd\",                        [{\"hovertemplate\":\"officialPosition=DE<br>rusher_ability=%{x}<br>ratio_achivements=%{y}<extra></extra>\",\"legendgroup\":\"DE\",\"marker\":{\"color\":\"#636efa\",\"symbol\":\"circle\"},\"mode\":\"markers\",\"name\":\"DE\",\"orientation\":\"v\",\"showlegend\":true,\"type\":\"scatter\",\"x\":[0.464,0.368,0.366,0.361,0.361,0.342,0.338,0.32,0.316,0.313,0.306,0.305,0.303,0.301,0.3,0.293,0.293,0.293,0.291,0.29,0.288,0.287,0.286,0.282,0.278,0.277,0.275,0.274,0.271,0.271,0.27,0.269,0.267,0.265,0.264,0.263,0.262,0.262,0.261,0.261,0.259,0.253,0.252,0.252,0.251,0.251,0.244,0.244,0.242,0.24,0.239,0.238,0.236,0.236,0.233,0.233,0.233,0.231,0.227,0.225,0.224,0.224,0.223,0.223,0.222,0.221,0.214,0.214,0.213,0.213,0.212,0.207,0.207,0.205,0.203,0.199,0.198,0.197,0.197,0.184,0.183,0.18,0.168,0.136],\"xaxis\":\"x\",\"y\":[0.2403846153846154,0.15476190476190477,0.22477064220183487,0.15151515151515152,0.20833333333333334,0.18452380952380953,0.21232876712328766,0.10362694300518134,0.1259259259259259,0.125,0.09259259259259259,0.16470588235294117,0.16981132075471697,0.16483516483516483,0.208955223880597,0.12,0.12643678160919541,0.20689655172413793,0.14772727272727273,0.12121212121212122,0.1,0.175,0.14361702127659576,0.1437125748502994,0.17475728155339806,0.11904761904761904,0.13392857142857142,0.07777777777777778,0.10067114093959731,0.14772727272727273,0.16279069767441862,0.13855421686746988,0.11764705882352941,0.09803921568627451,0.0945945945945946,0.10256410256410256,0.12280701754385964,0.1485148514851485,0.11392405063291139,0.14838709677419354,0.11290322580645161,0.16,0.10119047619047619,0.09302325581395349,0.1277533039647577,0.04878048780487805,0.15178571428571427,0.10982658959537572,0.06086956521739131,0.18421052631578946,0.09523809523809523,0.08860759493670886,0.12209302325581395,0.027777777777777776,0.10112359550561797,0.07964601769911504,0.0963855421686747,0.07407407407407407,0.12631578947368421,0.1111111111111111,0.09090909090909091,0.09923664122137404,0.07352941176470588,0.09004739336492891,0.0916030534351145,0.12053571428571429,0.10606060606060606,0.03759398496240601,0.09027777777777778,0.06349206349206349,0.07926829268292683,0.10362694300518134,0.09411764705882353,0.06382978723404255,0.05056179775280899,0.04411764705882353,0.05223880597014925,0.10309278350515463,0.06832298136645963,0.07650273224043716,0.03529411764705882,0.06217616580310881,0.03007518796992481,0.08870967741935484],\"yaxis\":\"y\"},{\"hovertemplate\":\"<b>OLS trendline</b><br>ratio_achivements = 0.674653 * rusher_ability + -0.0582758<br>R<sup>2</sup>=0.566109<br><br>officialPosition=DE<br>rusher_ability=%{x}<br>ratio_achivements=%{y} <b>(trend)</b><extra></extra>\",\"legendgroup\":\"DE\",\"marker\":{\"color\":\"#636efa\",\"symbol\":\"circle\"},\"mode\":\"lines\",\"name\":\"DE\",\"showlegend\":false,\"type\":\"scatter\",\"x\":[0.136,0.168,0.18,0.183,0.184,0.197,0.197,0.198,0.199,0.203,0.205,0.207,0.207,0.212,0.213,0.213,0.214,0.214,0.221,0.222,0.223,0.223,0.224,0.224,0.225,0.227,0.231,0.233,0.233,0.233,0.236,0.236,0.238,0.239,0.24,0.242,0.244,0.244,0.251,0.251,0.252,0.252,0.253,0.259,0.261,0.261,0.262,0.262,0.263,0.264,0.265,0.267,0.269,0.27,0.271,0.271,0.274,0.275,0.277,0.278,0.282,0.286,0.287,0.288,0.29,0.291,0.293,0.293,0.293,0.3,0.301,0.303,0.305,0.306,0.313,0.316,0.32,0.338,0.342,0.361,0.361,0.366,0.368,0.464],\"xaxis\":\"x\",\"y\":[0.03347699364039321,0.055065876376134526,0.0631617074020375,0.06518566515851325,0.06586031774400516,0.0746308013554001,0.0746308013554001,0.075305453940892,0.07598010652638393,0.0786787168683516,0.0800280220393354,0.08137732721031923,0.08137732721031923,0.08475059013777883,0.08542524272327073,0.08542524272327073,0.08609989530876266,0.08609989530876266,0.09082246340720607,0.091497115992698,0.0921717685781899,0.0921717685781899,0.09284642116368183,0.09284642116368183,0.09352107374917373,0.09487037892015757,0.09756898926212523,0.09891829443310907,0.09891829443310907,0.09891829443310907,0.1009422521895848,0.1009422521895848,0.10229155736056864,0.10296620994606054,0.10364086253155247,0.1049901677025363,0.10633947287352014,0.10633947287352014,0.11106204097196357,0.11106204097196357,0.11173669355745547,0.11173669355745547,0.1124113461429474,0.1164592616558989,0.11780856682688273,0.11780856682688273,0.11848321941237464,0.11848321941237464,0.11915787199786657,0.11983252458335847,0.1205071771688504,0.12185648233983423,0.12320578751081807,0.12388044009630997,0.1245550926818019,0.1245550926818019,0.12657905043827763,0.12725370302376957,0.1286030081947534,0.1292776607802453,0.13197627112221294,0.1346748814641806,0.1353495340496725,0.13602418663516444,0.13737349180614827,0.13804814439164018,0.139397449562624,0.139397449562624,0.139397449562624,0.14412001766106744,0.14479467024655934,0.14614397541754318,0.147493280588527,0.14816793317401894,0.15289050127246234,0.1549144590289381,0.15761306937090577,0.16975681590976027,0.17245542625172794,0.1852738253760743,0.1852738253760743,0.18864708830353388,0.18999639347451772,0.2547630416817417],\"yaxis\":\"y\"},{\"hovertemplate\":\"officialPosition=DT<br>rusher_ability=%{x}<br>ratio_achivements=%{y}<extra></extra>\",\"legendgroup\":\"DT\",\"marker\":{\"color\":\"#EF553B\",\"symbol\":\"circle\"},\"mode\":\"markers\",\"name\":\"DT\",\"orientation\":\"v\",\"showlegend\":true,\"type\":\"scatter\",\"x\":[0.446,0.425,0.359,0.324,0.316,0.306,0.305,0.297,0.287,0.287,0.286,0.283,0.281,0.279,0.277,0.276,0.275,0.269,0.268,0.264,0.262,0.262,0.262,0.261,0.258,0.258,0.257,0.257,0.255,0.252,0.252,0.25,0.247,0.244,0.244,0.242,0.242,0.239,0.235,0.234,0.234,0.231,0.231,0.229,0.229,0.229,0.229,0.222,0.222,0.221,0.219,0.213,0.213,0.205,0.204,0.202,0.199,0.199,0.196,0.194,0.192,0.19,0.189,0.187,0.186,0.184,0.177,0.173,0.16],\"xaxis\":\"x\",\"y\":[0.15894039735099338,0.1511627906976744,0.16055045871559634,0.10559006211180125,0.14615384615384616,0.0743801652892562,0.11235955056179775,0.10204081632653061,0.135678391959799,0.09795918367346938,0.0880503144654088,0.09523809523809523,0.11926605504587157,0.09389671361502347,0.10884353741496598,0.16535433070866143,0.14492753623188406,0.10666666666666667,0.06818181818181818,0.07741935483870968,0.12686567164179105,0.08176100628930817,0.07352941176470588,0.1134020618556701,0.10526315789473684,0.08450704225352113,0.08928571428571429,0.11351351351351352,0.09022556390977443,0.13636363636363635,0.11724137931034483,0.06153846153846154,0.09195402298850575,0.05555555555555555,0.0967741935483871,0.12432432432432433,0.07317073170731707,0.12142857142857143,0.028985507246376812,0.0703125,0.043478260869565216,0.08,0.11926605504587157,0.06722689075630252,0.1,0.05714285714285714,0.08461538461538462,0.046875,0.11811023622047244,0.09411764705882353,0.08441558441558442,0.10638297872340426,0.07407407407407407,0.023529411764705882,0.07,0.06956521739130435,0.1072961373390558,0.08823529411764706,0.015151515151515152,0.072992700729927,0.054945054945054944,0.04838709677419355,0.06172839506172839,0.043478260869565216,0.028985507246376812,0.010526315789473684,0.058823529411764705,0.08196721311475409,0.03409090909090909],\"yaxis\":\"y\"},{\"hovertemplate\":\"<b>OLS trendline</b><br>ratio_achivements = 0.463797 * rusher_ability + -0.0262104<br>R<sup>2</sup>=0.454422<br><br>officialPosition=DT<br>rusher_ability=%{x}<br>ratio_achivements=%{y} <b>(trend)</b><extra></extra>\",\"legendgroup\":\"DT\",\"marker\":{\"color\":\"#EF553B\",\"symbol\":\"circle\"},\"mode\":\"lines\",\"name\":\"DT\",\"showlegend\":false,\"type\":\"scatter\",\"x\":[0.16,0.173,0.177,0.184,0.186,0.187,0.189,0.19,0.192,0.194,0.196,0.199,0.199,0.202,0.204,0.205,0.213,0.213,0.219,0.221,0.222,0.222,0.229,0.229,0.229,0.229,0.231,0.231,0.234,0.234,0.235,0.239,0.242,0.242,0.244,0.244,0.247,0.25,0.252,0.252,0.255,0.257,0.257,0.258,0.258,0.261,0.262,0.262,0.262,0.264,0.268,0.269,0.275,0.276,0.277,0.279,0.281,0.283,0.286,0.287,0.287,0.297,0.305,0.306,0.316,0.324,0.359,0.425,0.446],\"xaxis\":\"x\",\"y\":[0.04799719443822129,0.054026559203855955,0.055881748362512786,0.05912832939016222,0.06005592396949063,0.06051972125915484,0.06144731583848325,0.06191111312814746,0.06283870770747588,0.06376630228680427,0.0646938968661327,0.06608528873512531,0.06608528873512531,0.06747668060411793,0.06840427518344633,0.06886807247311053,0.07257845079042419,0.07257845079042419,0.0753612345284094,0.07628882910773782,0.07675262639740202,0.07675262639740202,0.07999920742505146,0.07999920742505146,0.07999920742505146,0.07999920742505146,0.08092680200437988,0.08092680200437988,0.0823181938733725,0.0823181938733725,0.0827819911630367,0.08463718032169351,0.08602857219068613,0.08602857219068613,0.08695616677001453,0.08695616677001453,0.08834755863900715,0.08973895050799977,0.09066654508732819,0.09066654508732819,0.09205793695632081,0.0929855315356492,0.0929855315356492,0.09344932882531343,0.09344932882531343,0.09484072069430605,0.09530451798397024,0.09530451798397024,0.09530451798397024,0.09623211256329864,0.09808730172195548,0.09855109901161968,0.10133388274960492,0.10179768003926912,0.10226147732893331,0.10318907190826174,0.10411666648759013,0.10504426106691853,0.10643565293591115,0.10689945022557534,0.10689945022557534,0.1115374231222174,0.11524780143953106,0.11571159872919526,0.12034957162583731,0.12405994994315095,0.14029285508139813,0.17090347619923568,0.18064321928218402],\"yaxis\":\"y\"},{\"hovertemplate\":\"officialPosition=OLB<br>rusher_ability=%{x}<br>ratio_achivements=%{y}<extra></extra>\",\"legendgroup\":\"OLB\",\"marker\":{\"color\":\"#00cc96\",\"symbol\":\"circle\"},\"mode\":\"markers\",\"name\":\"OLB\",\"orientation\":\"v\",\"showlegend\":true,\"type\":\"scatter\",\"x\":[0.338,0.333,0.329,0.326,0.326,0.316,0.315,0.306,0.305,0.298,0.298,0.294,0.294,0.293,0.292,0.291,0.289,0.283,0.283,0.277,0.273,0.272,0.272,0.272,0.27,0.269,0.269,0.268,0.267,0.265,0.264,0.263,0.26,0.258,0.251,0.251,0.25,0.238,0.237,0.236,0.233,0.232,0.228,0.226,0.225,0.224,0.217,0.216,0.214,0.194,0.189,0.178,0.168],\"xaxis\":\"x\",\"y\":[0.19444444444444445,0.20408163265306123,0.1891891891891892,0.1875,0.1348314606741573,0.14492753623188406,0.175,0.1340782122905028,0.13793103448275862,0.1566265060240964,0.1619718309859155,0.2222222222222222,0.15492957746478872,0.1935483870967742,0.1506849315068493,0.16201117318435754,0.12790697674418605,0.10526315789473684,0.18461538461538463,0.1388888888888889,0.06862745098039216,0.14838709677419354,0.1165644171779141,0.18699186991869918,0.21428571428571427,0.14893617021276595,0.09558823529411764,0.10294117647058823,0.18222222222222223,0.1111111111111111,0.10576923076923077,0.12121212121212122,0.11702127659574468,0.125,0.09740259740259741,0.05128205128205128,0.10483870967741936,0.10909090909090909,0.10619469026548672,0.078125,0.12650602409638553,0.043478260869565216,0.11538461538461539,0.08771929824561403,0.06741573033707865,0.072,0.0875,0.060240963855421686,0.09090909090909091,0.07971014492753623,0.0975609756097561,0.0873015873015873,0.1111111111111111],\"yaxis\":\"y\"},{\"hovertemplate\":\"<b>OLS trendline</b><br>ratio_achivements = 0.763224 * rusher_ability + -0.0742032<br>R<sup>2</sup>=0.480778<br><br>officialPosition=OLB<br>rusher_ability=%{x}<br>ratio_achivements=%{y} <b>(trend)</b><extra></extra>\",\"legendgroup\":\"OLB\",\"marker\":{\"color\":\"#00cc96\",\"symbol\":\"circle\"},\"mode\":\"lines\",\"name\":\"OLB\",\"showlegend\":false,\"type\":\"scatter\",\"x\":[0.168,0.178,0.189,0.194,0.214,0.216,0.217,0.224,0.225,0.226,0.228,0.232,0.233,0.236,0.237,0.238,0.25,0.251,0.251,0.258,0.26,0.263,0.264,0.265,0.267,0.268,0.269,0.269,0.27,0.272,0.272,0.272,0.273,0.277,0.283,0.283,0.289,0.291,0.292,0.293,0.294,0.294,0.298,0.298,0.305,0.306,0.315,0.316,0.326,0.326,0.329,0.333,0.338],\"xaxis\":\"x\",\"y\":[0.05401847148499715,0.06165071356506026,0.0700461798531297,0.07386230089316127,0.08912678505328751,0.09065323346930014,0.09141645767730645,0.09675902713335065,0.09752225134135696,0.09828547554936327,0.0998119239653759,0.10286482079740115,0.10362804500540747,0.10591771762942638,0.1066809418374327,0.10744416604543901,0.11660285654151477,0.11736608074952108,0.11736608074952108,0.12270865020556528,0.1242350986215779,0.12652477124559686,0.12728799545360314,0.12805121966160948,0.1295776680776221,0.1303408922856284,0.13110411649363474,0.13110411649363474,0.13186734070164102,0.13339378911765365,0.13339378911765365,0.13339378911765365,0.13415701332566,0.13720991015768524,0.14178925540572307,0.14178925540572307,0.14636860065376095,0.14789504906977358,0.14865827327777986,0.1494214974857862,0.1501847216937925,0.1501847216937925,0.15323761852581774,0.15323761852581774,0.15858018798186196,0.15934341218986825,0.1662124300619251,0.16697565426993138,0.17460789634999452,0.17460789634999452,0.17689756897401343,0.17995046580603868,0.18376658684607028],\"yaxis\":\"y\"},{\"hovertemplate\":\"officialPosition=NT<br>rusher_ability=%{x}<br>ratio_achivements=%{y}<extra></extra>\",\"legendgroup\":\"NT\",\"marker\":{\"color\":\"#ab63fa\",\"symbol\":\"circle\"},\"mode\":\"markers\",\"name\":\"NT\",\"orientation\":\"v\",\"showlegend\":true,\"type\":\"scatter\",\"x\":[0.313,0.3,0.297,0.281,0.276,0.275,0.252,0.251,0.236,0.226,0.222,0.216,0.214,0.211,0.199,0.197,0.197,0.197,0.186],\"xaxis\":\"x\",\"y\":[0.13157894736842105,0.09693877551020408,0.14166666666666666,0.14705882352941177,0.1111111111111111,0.09815950920245399,0.07777777777777778,0.1,0.07920792079207921,0.05660377358490566,0.07567567567567568,0.04032258064516129,0.08074534161490683,0.07446808510638298,0.05970149253731343,0.04838709677419355,0.041666666666666664,0.04225352112676056,0.05],\"yaxis\":\"y\"},{\"hovertemplate\":\"<b>OLS trendline</b><br>ratio_achivements = 0.73465 * rusher_ability + -0.0940208<br>R<sup>2</sup>=0.783052<br><br>officialPosition=NT<br>rusher_ability=%{x}<br>ratio_achivements=%{y} <b>(trend)</b><extra></extra>\",\"legendgroup\":\"NT\",\"marker\":{\"color\":\"#ab63fa\",\"symbol\":\"circle\"},\"mode\":\"lines\",\"name\":\"NT\",\"showlegend\":false,\"type\":\"scatter\",\"x\":[0.186,0.197,0.197,0.197,0.199,0.211,0.214,0.216,0.222,0.226,0.236,0.251,0.252,0.275,0.276,0.281,0.297,0.3,0.313],\"xaxis\":\"x\",\"y\":[0.042624102795340235,0.05070525293206446,0.05070525293206446,0.05070525293206446,0.052174552956923415,0.06099035310607709,0.06319430314336552,0.06466360316822448,0.06907150324280131,0.07201010329251922,0.07935660341681394,0.09037635360325608,0.09111100361568555,0.10800795390156348,0.10874260391399296,0.11241585397614032,0.12417025417501187,0.1263742042123003,0.13592465437388349],\"yaxis\":\"y\"},{\"hovertemplate\":\"officialPosition=ILB<br>rusher_ability=%{x}<br>ratio_achivements=%{y}<extra></extra>\",\"legendgroup\":\"ILB\",\"marker\":{\"color\":\"#FFA15A\",\"symbol\":\"circle\"},\"mode\":\"markers\",\"name\":\"ILB\",\"orientation\":\"v\",\"showlegend\":true,\"type\":\"scatter\",\"x\":[0.308,0.288,0.271],\"xaxis\":\"x\",\"y\":[0.2571428571428571,0.18461538461538463,0.1724137931034483],\"yaxis\":\"y\"},{\"hovertemplate\":\"<b>OLS trendline</b><br>ratio_achivements = 2.32894 * rusher_ability + -0.468339<br>R<sup>2</sup>=0.886747<br><br>officialPosition=ILB<br>rusher_ability=%{x}<br>ratio_achivements=%{y} <b>(trend)</b><extra></extra>\",\"legendgroup\":\"ILB\",\"marker\":{\"color\":\"#FFA15A\",\"symbol\":\"circle\"},\"mode\":\"lines\",\"name\":\"ILB\",\"showlegend\":false,\"type\":\"scatter\",\"x\":[0.271,0.288,0.308],\"xaxis\":\"x\",\"y\":[0.16280314973388266,0.20239507484908092,0.24897381027872612],\"yaxis\":\"y\"}],                        {\"legend\":{\"title\":{\"text\":\"officialPosition\"},\"tracegroupgap\":0},\"margin\":{\"t\":60},\"template\":{\"data\":{\"bar\":[{\"error_x\":{\"color\":\"#2a3f5f\"},\"error_y\":{\"color\":\"#2a3f5f\"},\"marker\":{\"line\":{\"color\":\"#E5ECF6\",\"width\":0.5},\"pattern\":{\"fillmode\":\"overlay\",\"size\":10,\"solidity\":0.2}},\"type\":\"bar\"}],\"barpolar\":[{\"marker\":{\"line\":{\"color\":\"#E5ECF6\",\"width\":0.5},\"pattern\":{\"fillmode\":\"overlay\",\"size\":10,\"solidity\":0.2}},\"type\":\"barpolar\"}],\"carpet\":[{\"aaxis\":{\"endlinecolor\":\"#2a3f5f\",\"gridcolor\":\"white\",\"linecolor\":\"white\",\"minorgridcolor\":\"white\",\"startlinecolor\":\"#2a3f5f\"},\"baxis\":{\"endlinecolor\":\"#2a3f5f\",\"gridcolor\":\"white\",\"linecolor\":\"white\",\"minorgridcolor\":\"white\",\"startlinecolor\":\"#2a3f5f\"},\"type\":\"carpet\"}],\"choropleth\":[{\"colorbar\":{\"outlinewidth\":0,\"ticks\":\"\"},\"type\":\"choropleth\"}],\"contour\":[{\"colorbar\":{\"outlinewidth\":0,\"ticks\":\"\"},\"colorscale\":[[0.0,\"#0d0887\"],[0.1111111111111111,\"#46039f\"],[0.2222222222222222,\"#7201a8\"],[0.3333333333333333,\"#9c179e\"],[0.4444444444444444,\"#bd3786\"],[0.5555555555555556,\"#d8576b\"],[0.6666666666666666,\"#ed7953\"],[0.7777777777777778,\"#fb9f3a\"],[0.8888888888888888,\"#fdca26\"],[1.0,\"#f0f921\"]],\"type\":\"contour\"}],\"contourcarpet\":[{\"colorbar\":{\"outlinewidth\":0,\"ticks\":\"\"},\"type\":\"contourcarpet\"}],\"heatmap\":[{\"colorbar\":{\"outlinewidth\":0,\"ticks\":\"\"},\"colorscale\":[[0.0,\"#0d0887\"],[0.1111111111111111,\"#46039f\"],[0.2222222222222222,\"#7201a8\"],[0.3333333333333333,\"#9c179e\"],[0.4444444444444444,\"#bd3786\"],[0.5555555555555556,\"#d8576b\"],[0.6666666666666666,\"#ed7953\"],[0.7777777777777778,\"#fb9f3a\"],[0.8888888888888888,\"#fdca26\"],[1.0,\"#f0f921\"]],\"type\":\"heatmap\"}],\"heatmapgl\":[{\"colorbar\":{\"outlinewidth\":0,\"ticks\":\"\"},\"colorscale\":[[0.0,\"#0d0887\"],[0.1111111111111111,\"#46039f\"],[0.2222222222222222,\"#7201a8\"],[0.3333333333333333,\"#9c179e\"],[0.4444444444444444,\"#bd3786\"],[0.5555555555555556,\"#d8576b\"],[0.6666666666666666,\"#ed7953\"],[0.7777777777777778,\"#fb9f3a\"],[0.8888888888888888,\"#fdca26\"],[1.0,\"#f0f921\"]],\"type\":\"heatmapgl\"}],\"histogram\":[{\"marker\":{\"pattern\":{\"fillmode\":\"overlay\",\"size\":10,\"solidity\":0.2}},\"type\":\"histogram\"}],\"histogram2d\":[{\"colorbar\":{\"outlinewidth\":0,\"ticks\":\"\"},\"colorscale\":[[0.0,\"#0d0887\"],[0.1111111111111111,\"#46039f\"],[0.2222222222222222,\"#7201a8\"],[0.3333333333333333,\"#9c179e\"],[0.4444444444444444,\"#bd3786\"],[0.5555555555555556,\"#d8576b\"],[0.6666666666666666,\"#ed7953\"],[0.7777777777777778,\"#fb9f3a\"],[0.8888888888888888,\"#fdca26\"],[1.0,\"#f0f921\"]],\"type\":\"histogram2d\"}],\"histogram2dcontour\":[{\"colorbar\":{\"outlinewidth\":0,\"ticks\":\"\"},\"colorscale\":[[0.0,\"#0d0887\"],[0.1111111111111111,\"#46039f\"],[0.2222222222222222,\"#7201a8\"],[0.3333333333333333,\"#9c179e\"],[0.4444444444444444,\"#bd3786\"],[0.5555555555555556,\"#d8576b\"],[0.6666666666666666,\"#ed7953\"],[0.7777777777777778,\"#fb9f3a\"],[0.8888888888888888,\"#fdca26\"],[1.0,\"#f0f921\"]],\"type\":\"histogram2dcontour\"}],\"mesh3d\":[{\"colorbar\":{\"outlinewidth\":0,\"ticks\":\"\"},\"type\":\"mesh3d\"}],\"parcoords\":[{\"line\":{\"colorbar\":{\"outlinewidth\":0,\"ticks\":\"\"}},\"type\":\"parcoords\"}],\"pie\":[{\"automargin\":true,\"type\":\"pie\"}],\"scatter\":[{\"marker\":{\"colorbar\":{\"outlinewidth\":0,\"ticks\":\"\"}},\"type\":\"scatter\"}],\"scatter3d\":[{\"line\":{\"colorbar\":{\"outlinewidth\":0,\"ticks\":\"\"}},\"marker\":{\"colorbar\":{\"outlinewidth\":0,\"ticks\":\"\"}},\"type\":\"scatter3d\"}],\"scattercarpet\":[{\"marker\":{\"colorbar\":{\"outlinewidth\":0,\"ticks\":\"\"}},\"type\":\"scattercarpet\"}],\"scattergeo\":[{\"marker\":{\"colorbar\":{\"outlinewidth\":0,\"ticks\":\"\"}},\"type\":\"scattergeo\"}],\"scattergl\":[{\"marker\":{\"colorbar\":{\"outlinewidth\":0,\"ticks\":\"\"}},\"type\":\"scattergl\"}],\"scattermapbox\":[{\"marker\":{\"colorbar\":{\"outlinewidth\":0,\"ticks\":\"\"}},\"type\":\"scattermapbox\"}],\"scatterpolar\":[{\"marker\":{\"colorbar\":{\"outlinewidth\":0,\"ticks\":\"\"}},\"type\":\"scatterpolar\"}],\"scatterpolargl\":[{\"marker\":{\"colorbar\":{\"outlinewidth\":0,\"ticks\":\"\"}},\"type\":\"scatterpolargl\"}],\"scatterternary\":[{\"marker\":{\"colorbar\":{\"outlinewidth\":0,\"ticks\":\"\"}},\"type\":\"scatterternary\"}],\"surface\":[{\"colorbar\":{\"outlinewidth\":0,\"ticks\":\"\"},\"colorscale\":[[0.0,\"#0d0887\"],[0.1111111111111111,\"#46039f\"],[0.2222222222222222,\"#7201a8\"],[0.3333333333333333,\"#9c179e\"],[0.4444444444444444,\"#bd3786\"],[0.5555555555555556,\"#d8576b\"],[0.6666666666666666,\"#ed7953\"],[0.7777777777777778,\"#fb9f3a\"],[0.8888888888888888,\"#fdca26\"],[1.0,\"#f0f921\"]],\"type\":\"surface\"}],\"table\":[{\"cells\":{\"fill\":{\"color\":\"#EBF0F8\"},\"line\":{\"color\":\"white\"}},\"header\":{\"fill\":{\"color\":\"#C8D4E3\"},\"line\":{\"color\":\"white\"}},\"type\":\"table\"}]},\"layout\":{\"annotationdefaults\":{\"arrowcolor\":\"#2a3f5f\",\"arrowhead\":0,\"arrowwidth\":1},\"autotypenumbers\":\"strict\",\"coloraxis\":{\"colorbar\":{\"outlinewidth\":0,\"ticks\":\"\"}},\"colorscale\":{\"diverging\":[[0,\"#8e0152\"],[0.1,\"#c51b7d\"],[0.2,\"#de77ae\"],[0.3,\"#f1b6da\"],[0.4,\"#fde0ef\"],[0.5,\"#f7f7f7\"],[0.6,\"#e6f5d0\"],[0.7,\"#b8e186\"],[0.8,\"#7fbc41\"],[0.9,\"#4d9221\"],[1,\"#276419\"]],\"sequential\":[[0.0,\"#0d0887\"],[0.1111111111111111,\"#46039f\"],[0.2222222222222222,\"#7201a8\"],[0.3333333333333333,\"#9c179e\"],[0.4444444444444444,\"#bd3786\"],[0.5555555555555556,\"#d8576b\"],[0.6666666666666666,\"#ed7953\"],[0.7777777777777778,\"#fb9f3a\"],[0.8888888888888888,\"#fdca26\"],[1.0,\"#f0f921\"]],\"sequentialminus\":[[0.0,\"#0d0887\"],[0.1111111111111111,\"#46039f\"],[0.2222222222222222,\"#7201a8\"],[0.3333333333333333,\"#9c179e\"],[0.4444444444444444,\"#bd3786\"],[0.5555555555555556,\"#d8576b\"],[0.6666666666666666,\"#ed7953\"],[0.7777777777777778,\"#fb9f3a\"],[0.8888888888888888,\"#fdca26\"],[1.0,\"#f0f921\"]]},\"colorway\":[\"#636efa\",\"#EF553B\",\"#00cc96\",\"#ab63fa\",\"#FFA15A\",\"#19d3f3\",\"#FF6692\",\"#B6E880\",\"#FF97FF\",\"#FECB52\"],\"font\":{\"color\":\"#2a3f5f\"},\"geo\":{\"bgcolor\":\"white\",\"lakecolor\":\"white\",\"landcolor\":\"#E5ECF6\",\"showlakes\":true,\"showland\":true,\"subunitcolor\":\"white\"},\"hoverlabel\":{\"align\":\"left\"},\"hovermode\":\"closest\",\"mapbox\":{\"style\":\"light\"},\"paper_bgcolor\":\"white\",\"plot_bgcolor\":\"#E5ECF6\",\"polar\":{\"angularaxis\":{\"gridcolor\":\"white\",\"linecolor\":\"white\",\"ticks\":\"\"},\"bgcolor\":\"#E5ECF6\",\"radialaxis\":{\"gridcolor\":\"white\",\"linecolor\":\"white\",\"ticks\":\"\"}},\"scene\":{\"xaxis\":{\"backgroundcolor\":\"#E5ECF6\",\"gridcolor\":\"white\",\"gridwidth\":2,\"linecolor\":\"white\",\"showbackground\":true,\"ticks\":\"\",\"zerolinecolor\":\"white\"},\"yaxis\":{\"backgroundcolor\":\"#E5ECF6\",\"gridcolor\":\"white\",\"gridwidth\":2,\"linecolor\":\"white\",\"showbackground\":true,\"ticks\":\"\",\"zerolinecolor\":\"white\"},\"zaxis\":{\"backgroundcolor\":\"#E5ECF6\",\"gridcolor\":\"white\",\"gridwidth\":2,\"linecolor\":\"white\",\"showbackground\":true,\"ticks\":\"\",\"zerolinecolor\":\"white\"}},\"shapedefaults\":{\"line\":{\"color\":\"#2a3f5f\"}},\"ternary\":{\"aaxis\":{\"gridcolor\":\"white\",\"linecolor\":\"white\",\"ticks\":\"\"},\"baxis\":{\"gridcolor\":\"white\",\"linecolor\":\"white\",\"ticks\":\"\"},\"bgcolor\":\"#E5ECF6\",\"caxis\":{\"gridcolor\":\"white\",\"linecolor\":\"white\",\"ticks\":\"\"}},\"title\":{\"x\":0.05},\"xaxis\":{\"automargin\":true,\"gridcolor\":\"white\",\"linecolor\":\"white\",\"ticks\":\"\",\"title\":{\"standoff\":15},\"zerolinecolor\":\"white\",\"zerolinewidth\":2},\"yaxis\":{\"automargin\":true,\"gridcolor\":\"white\",\"linecolor\":\"white\",\"ticks\":\"\",\"title\":{\"standoff\":15},\"zerolinecolor\":\"white\",\"zerolinewidth\":2}}},\"xaxis\":{\"anchor\":\"y\",\"domain\":[0.0,1.0],\"title\":{\"text\":\"rusher_ability\"}},\"yaxis\":{\"anchor\":\"x\",\"domain\":[0.0,1.0],\"title\":{\"text\":\"ratio_achivements\"}}},                        {\"responsive\": true}                    ).then(function(){\n",
       "                            \n",
       "var gd = document.getElementById('e873351f-82e6-4343-bca7-ec7c19835ebd');\n",
       "var x = new MutationObserver(function (mutations, observer) {{\n",
       "        var display = window.getComputedStyle(gd).display;\n",
       "        if (!display || display === 'none') {{\n",
       "            console.log([gd, 'removed!']);\n",
       "            Plotly.purge(gd);\n",
       "            observer.disconnect();\n",
       "        }}\n",
       "}});\n",
       "\n",
       "// Listen for the removal of the full notebook cells\n",
       "var notebookContainer = gd.closest('#notebook-container');\n",
       "if (notebookContainer) {{\n",
       "    x.observe(notebookContainer, {childList: true});\n",
       "}}\n",
       "\n",
       "// Listen for the clearing of the current output cell\n",
       "var outputEl = gd.closest('.output');\n",
       "if (outputEl) {{\n",
       "    x.observe(outputEl, {childList: true});\n",
       "}}\n",
       "\n",
       "                        })                };                });            </script>        </div>"
      ]
     },
     "metadata": {},
     "output_type": "display_data"
    }
   ],
   "source": [
    "rushers['sum_achivements'] = rushers[['sum_pff_hit','sum_pff_hurry','sum_pff_sack']].sum(axis=1)\n",
    "rushers['ratio_achivements'] = rushers['sum_achivements'] / rushers['play_cnt']\n",
    "\n",
    "px.scatter(rushers, x='rusher_ability', y='ratio_achivements', color='officialPosition', trendline=\"ols\")"
   ]
  },
  {
   "cell_type": "code",
   "execution_count": 235,
   "metadata": {},
   "outputs": [],
   "source": [
    "rushers.to_csv('hoge.csv', index=False)"
   ]
  },
  {
   "cell_type": "code",
   "execution_count": 236,
   "metadata": {},
   "outputs": [
    {
     "data": {
      "text/html": [
       "<div>\n",
       "<style scoped>\n",
       "    .dataframe tbody tr th:only-of-type {\n",
       "        vertical-align: middle;\n",
       "    }\n",
       "\n",
       "    .dataframe tbody tr th {\n",
       "        vertical-align: top;\n",
       "    }\n",
       "\n",
       "    .dataframe thead th {\n",
       "        text-align: right;\n",
       "    }\n",
       "</style>\n",
       "<table border=\"1\" class=\"dataframe\">\n",
       "  <thead>\n",
       "    <tr style=\"text-align: right;\">\n",
       "      <th></th>\n",
       "      <th>nflId</th>\n",
       "      <th>rusher_ability</th>\n",
       "      <th>height</th>\n",
       "      <th>weight</th>\n",
       "      <th>birthDate</th>\n",
       "      <th>collegeName</th>\n",
       "      <th>officialPosition</th>\n",
       "      <th>displayName</th>\n",
       "      <th>play_cnt</th>\n",
       "      <th>sum_pff_hit</th>\n",
       "      <th>sum_pff_hurry</th>\n",
       "      <th>sum_pff_sack</th>\n",
       "      <th>blockers_avg_impact</th>\n",
       "      <th>pass_failure_prob</th>\n",
       "      <th>sum_achivements</th>\n",
       "      <th>ratio_achivements</th>\n",
       "    </tr>\n",
       "  </thead>\n",
       "  <tbody>\n",
       "    <tr>\n",
       "      <th>7</th>\n",
       "      <td>44829</td>\n",
       "      <td>0.359</td>\n",
       "      <td>6-3</td>\n",
       "      <td>0.682692</td>\n",
       "      <td>1995-01-16</td>\n",
       "      <td>Alabama</td>\n",
       "      <td>DT</td>\n",
       "      <td>Jonathan Allen</td>\n",
       "      <td>218</td>\n",
       "      <td>8.0</td>\n",
       "      <td>21.0</td>\n",
       "      <td>6.0</td>\n",
       "      <td>0.895671</td>\n",
       "      <td>0.402062</td>\n",
       "      <td>35.0</td>\n",
       "      <td>0.160550</td>\n",
       "    </tr>\n",
       "    <tr>\n",
       "      <th>17</th>\n",
       "      <td>41239</td>\n",
       "      <td>0.316</td>\n",
       "      <td>6-1</td>\n",
       "      <td>0.586538</td>\n",
       "      <td>1991-05-23</td>\n",
       "      <td>Pittsburgh</td>\n",
       "      <td>DT</td>\n",
       "      <td>Aaron Donald</td>\n",
       "      <td>260</td>\n",
       "      <td>8.0</td>\n",
       "      <td>24.0</td>\n",
       "      <td>6.0</td>\n",
       "      <td>0.734550</td>\n",
       "      <td>0.418103</td>\n",
       "      <td>38.0</td>\n",
       "      <td>0.146154</td>\n",
       "    </tr>\n",
       "    <tr>\n",
       "      <th>52</th>\n",
       "      <td>37104</td>\n",
       "      <td>0.287</td>\n",
       "      <td>6-5</td>\n",
       "      <td>0.658654</td>\n",
       "      <td>1989-05-06</td>\n",
       "      <td>Ohio State</td>\n",
       "      <td>DT</td>\n",
       "      <td>Cameron Heyward</td>\n",
       "      <td>199</td>\n",
       "      <td>2.0</td>\n",
       "      <td>22.0</td>\n",
       "      <td>3.0</td>\n",
       "      <td>0.736129</td>\n",
       "      <td>0.389831</td>\n",
       "      <td>27.0</td>\n",
       "      <td>0.135678</td>\n",
       "    </tr>\n",
       "    <tr>\n",
       "      <th>53</th>\n",
       "      <td>42349</td>\n",
       "      <td>0.287</td>\n",
       "      <td>6-5</td>\n",
       "      <td>0.692308</td>\n",
       "      <td>1994-06-20</td>\n",
       "      <td>Southern California</td>\n",
       "      <td>DT</td>\n",
       "      <td>Leonard Williams</td>\n",
       "      <td>245</td>\n",
       "      <td>4.0</td>\n",
       "      <td>14.0</td>\n",
       "      <td>6.0</td>\n",
       "      <td>0.750903</td>\n",
       "      <td>0.395238</td>\n",
       "      <td>24.0</td>\n",
       "      <td>0.097959</td>\n",
       "    </tr>\n",
       "    <tr>\n",
       "      <th>60</th>\n",
       "      <td>43296</td>\n",
       "      <td>0.281</td>\n",
       "      <td>6-7</td>\n",
       "      <td>0.682692</td>\n",
       "      <td>1994-03-17</td>\n",
       "      <td>Oregon</td>\n",
       "      <td>DT</td>\n",
       "      <td>DeForest Buckner</td>\n",
       "      <td>218</td>\n",
       "      <td>4.0</td>\n",
       "      <td>18.0</td>\n",
       "      <td>4.0</td>\n",
       "      <td>0.803641</td>\n",
       "      <td>0.350785</td>\n",
       "      <td>26.0</td>\n",
       "      <td>0.119266</td>\n",
       "    </tr>\n",
       "    <tr>\n",
       "      <th>62</th>\n",
       "      <td>44877</td>\n",
       "      <td>0.279</td>\n",
       "      <td>6-3</td>\n",
       "      <td>0.706731</td>\n",
       "      <td>1994-06-03</td>\n",
       "      <td>North Carolina-Charlotte</td>\n",
       "      <td>DT</td>\n",
       "      <td>Larry Ogunjobi</td>\n",
       "      <td>213</td>\n",
       "      <td>2.0</td>\n",
       "      <td>14.0</td>\n",
       "      <td>4.0</td>\n",
       "      <td>0.804367</td>\n",
       "      <td>0.406417</td>\n",
       "      <td>20.0</td>\n",
       "      <td>0.093897</td>\n",
       "    </tr>\n",
       "    <tr>\n",
       "      <th>97</th>\n",
       "      <td>47802</td>\n",
       "      <td>0.262</td>\n",
       "      <td>6-4</td>\n",
       "      <td>0.682692</td>\n",
       "      <td>1997-07-28</td>\n",
       "      <td>Mississippi State</td>\n",
       "      <td>DT</td>\n",
       "      <td>Jeffery Simmons</td>\n",
       "      <td>268</td>\n",
       "      <td>4.0</td>\n",
       "      <td>26.0</td>\n",
       "      <td>4.0</td>\n",
       "      <td>0.821733</td>\n",
       "      <td>0.463203</td>\n",
       "      <td>34.0</td>\n",
       "      <td>0.126866</td>\n",
       "    </tr>\n",
       "    <tr>\n",
       "      <th>104</th>\n",
       "      <td>38667</td>\n",
       "      <td>0.261</td>\n",
       "      <td>6-5</td>\n",
       "      <td>0.634615</td>\n",
       "      <td>1990-01-11</td>\n",
       "      <td>Tennessee</td>\n",
       "      <td>DT</td>\n",
       "      <td>Malik Jackson</td>\n",
       "      <td>194</td>\n",
       "      <td>5.0</td>\n",
       "      <td>16.0</td>\n",
       "      <td>1.0</td>\n",
       "      <td>0.731835</td>\n",
       "      <td>0.477707</td>\n",
       "      <td>22.0</td>\n",
       "      <td>0.113402</td>\n",
       "    </tr>\n",
       "    <tr>\n",
       "      <th>111</th>\n",
       "      <td>42480</td>\n",
       "      <td>0.257</td>\n",
       "      <td>6-0</td>\n",
       "      <td>0.706731</td>\n",
       "      <td>1993-04-28</td>\n",
       "      <td>Clemson</td>\n",
       "      <td>DT</td>\n",
       "      <td>Grady Jarrett</td>\n",
       "      <td>185</td>\n",
       "      <td>2.0</td>\n",
       "      <td>18.0</td>\n",
       "      <td>1.0</td>\n",
       "      <td>0.846665</td>\n",
       "      <td>0.430380</td>\n",
       "      <td>21.0</td>\n",
       "      <td>0.113514</td>\n",
       "    </tr>\n",
       "    <tr>\n",
       "      <th>131</th>\n",
       "      <td>53467</td>\n",
       "      <td>0.242</td>\n",
       "      <td>6-5</td>\n",
       "      <td>0.730769</td>\n",
       "      <td>NaN</td>\n",
       "      <td>NaN</td>\n",
       "      <td>DT</td>\n",
       "      <td>Christian Barmore</td>\n",
       "      <td>185</td>\n",
       "      <td>5.0</td>\n",
       "      <td>17.0</td>\n",
       "      <td>1.0</td>\n",
       "      <td>0.827424</td>\n",
       "      <td>0.418750</td>\n",
       "      <td>23.0</td>\n",
       "      <td>0.124324</td>\n",
       "    </tr>\n",
       "    <tr>\n",
       "      <th>185</th>\n",
       "      <td>47811</td>\n",
       "      <td>0.213</td>\n",
       "      <td>6-6</td>\n",
       "      <td>0.658654</td>\n",
       "      <td>1996-10-08</td>\n",
       "      <td>Notre Dame</td>\n",
       "      <td>DT</td>\n",
       "      <td>Jerry Tillery</td>\n",
       "      <td>189</td>\n",
       "      <td>4.0</td>\n",
       "      <td>7.0</td>\n",
       "      <td>3.0</td>\n",
       "      <td>0.683086</td>\n",
       "      <td>0.445122</td>\n",
       "      <td>14.0</td>\n",
       "      <td>0.074074</td>\n",
       "    </tr>\n",
       "    <tr>\n",
       "      <th>199</th>\n",
       "      <td>46082</td>\n",
       "      <td>0.199</td>\n",
       "      <td>6-3</td>\n",
       "      <td>0.778846</td>\n",
       "      <td>1997-05-27</td>\n",
       "      <td>Alabama</td>\n",
       "      <td>DT</td>\n",
       "      <td>Daron Payne</td>\n",
       "      <td>233</td>\n",
       "      <td>3.0</td>\n",
       "      <td>20.0</td>\n",
       "      <td>2.0</td>\n",
       "      <td>0.859086</td>\n",
       "      <td>0.388889</td>\n",
       "      <td>25.0</td>\n",
       "      <td>0.107296</td>\n",
       "    </tr>\n",
       "  </tbody>\n",
       "</table>\n",
       "</div>"
      ],
      "text/plain": [
       "     nflId  rusher_ability height    weight   birthDate  \\\n",
       "7    44829           0.359    6-3  0.682692  1995-01-16   \n",
       "17   41239           0.316    6-1  0.586538  1991-05-23   \n",
       "52   37104           0.287    6-5  0.658654  1989-05-06   \n",
       "53   42349           0.287    6-5  0.692308  1994-06-20   \n",
       "60   43296           0.281    6-7  0.682692  1994-03-17   \n",
       "62   44877           0.279    6-3  0.706731  1994-06-03   \n",
       "97   47802           0.262    6-4  0.682692  1997-07-28   \n",
       "104  38667           0.261    6-5  0.634615  1990-01-11   \n",
       "111  42480           0.257    6-0  0.706731  1993-04-28   \n",
       "131  53467           0.242    6-5  0.730769         NaN   \n",
       "185  47811           0.213    6-6  0.658654  1996-10-08   \n",
       "199  46082           0.199    6-3  0.778846  1997-05-27   \n",
       "\n",
       "                  collegeName officialPosition        displayName  play_cnt  \\\n",
       "7                     Alabama               DT     Jonathan Allen       218   \n",
       "17                 Pittsburgh               DT       Aaron Donald       260   \n",
       "52                 Ohio State               DT    Cameron Heyward       199   \n",
       "53        Southern California               DT   Leonard Williams       245   \n",
       "60                     Oregon               DT   DeForest Buckner       218   \n",
       "62   North Carolina-Charlotte               DT     Larry Ogunjobi       213   \n",
       "97          Mississippi State               DT    Jeffery Simmons       268   \n",
       "104                 Tennessee               DT      Malik Jackson       194   \n",
       "111                   Clemson               DT      Grady Jarrett       185   \n",
       "131                       NaN               DT  Christian Barmore       185   \n",
       "185                Notre Dame               DT      Jerry Tillery       189   \n",
       "199                   Alabama               DT        Daron Payne       233   \n",
       "\n",
       "     sum_pff_hit  sum_pff_hurry  sum_pff_sack  blockers_avg_impact  \\\n",
       "7            8.0           21.0           6.0             0.895671   \n",
       "17           8.0           24.0           6.0             0.734550   \n",
       "52           2.0           22.0           3.0             0.736129   \n",
       "53           4.0           14.0           6.0             0.750903   \n",
       "60           4.0           18.0           4.0             0.803641   \n",
       "62           2.0           14.0           4.0             0.804367   \n",
       "97           4.0           26.0           4.0             0.821733   \n",
       "104          5.0           16.0           1.0             0.731835   \n",
       "111          2.0           18.0           1.0             0.846665   \n",
       "131          5.0           17.0           1.0             0.827424   \n",
       "185          4.0            7.0           3.0             0.683086   \n",
       "199          3.0           20.0           2.0             0.859086   \n",
       "\n",
       "     pass_failure_prob  sum_achivements  ratio_achivements  \n",
       "7             0.402062             35.0           0.160550  \n",
       "17            0.418103             38.0           0.146154  \n",
       "52            0.389831             27.0           0.135678  \n",
       "53            0.395238             24.0           0.097959  \n",
       "60            0.350785             26.0           0.119266  \n",
       "62            0.406417             20.0           0.093897  \n",
       "97            0.463203             34.0           0.126866  \n",
       "104           0.477707             22.0           0.113402  \n",
       "111           0.430380             21.0           0.113514  \n",
       "131           0.418750             23.0           0.124324  \n",
       "185           0.445122             14.0           0.074074  \n",
       "199           0.388889             25.0           0.107296  "
      ]
     },
     "execution_count": 236,
     "metadata": {},
     "output_type": "execute_result"
    }
   ],
   "source": [
    "rushers[(rushers['officialPosition']=='DT') & (rushers['play_cnt'] >= 180)].sort_values(by='rusher_ability', ascending=False)"
   ]
  },
  {
   "cell_type": "code",
   "execution_count": 237,
   "metadata": {},
   "outputs": [
    {
     "data": {
      "text/html": [
       "<div>\n",
       "<style scoped>\n",
       "    .dataframe tbody tr th:only-of-type {\n",
       "        vertical-align: middle;\n",
       "    }\n",
       "\n",
       "    .dataframe tbody tr th {\n",
       "        vertical-align: top;\n",
       "    }\n",
       "\n",
       "    .dataframe thead th {\n",
       "        text-align: right;\n",
       "    }\n",
       "</style>\n",
       "<table border=\"1\" class=\"dataframe\">\n",
       "  <thead>\n",
       "    <tr style=\"text-align: right;\">\n",
       "      <th></th>\n",
       "      <th>nflId</th>\n",
       "      <th>rusher_ability</th>\n",
       "      <th>height</th>\n",
       "      <th>weight</th>\n",
       "      <th>birthDate</th>\n",
       "      <th>collegeName</th>\n",
       "      <th>officialPosition</th>\n",
       "      <th>displayName</th>\n",
       "      <th>play_cnt</th>\n",
       "      <th>sum_pff_hit</th>\n",
       "      <th>sum_pff_hurry</th>\n",
       "      <th>sum_pff_sack</th>\n",
       "      <th>blockers_avg_impact</th>\n",
       "      <th>pass_failure_prob</th>\n",
       "      <th>sum_achivements</th>\n",
       "      <th>ratio_achivements</th>\n",
       "    </tr>\n",
       "  </thead>\n",
       "  <tbody>\n",
       "    <tr>\n",
       "      <th>0</th>\n",
       "      <td>44813</td>\n",
       "      <td>0.464</td>\n",
       "      <td>6-4</td>\n",
       "      <td>0.548077</td>\n",
       "      <td>1995-12-29</td>\n",
       "      <td>Texas A&amp;amp;M</td>\n",
       "      <td>DE</td>\n",
       "      <td>Myles Garrett</td>\n",
       "      <td>208</td>\n",
       "      <td>9.0</td>\n",
       "      <td>29.0</td>\n",
       "      <td>12.0</td>\n",
       "      <td>0.299861</td>\n",
       "      <td>0.502959</td>\n",
       "      <td>50.0</td>\n",
       "      <td>0.240385</td>\n",
       "    </tr>\n",
       "    <tr>\n",
       "      <th>4</th>\n",
       "      <td>47889</td>\n",
       "      <td>0.366</td>\n",
       "      <td>6-5</td>\n",
       "      <td>0.466346</td>\n",
       "      <td>1997-08-22</td>\n",
       "      <td>Eastern Michigan</td>\n",
       "      <td>DE</td>\n",
       "      <td>Maxx Crosby</td>\n",
       "      <td>218</td>\n",
       "      <td>12.0</td>\n",
       "      <td>30.0</td>\n",
       "      <td>7.0</td>\n",
       "      <td>0.306165</td>\n",
       "      <td>0.427027</td>\n",
       "      <td>49.0</td>\n",
       "      <td>0.224771</td>\n",
       "    </tr>\n",
       "    <tr>\n",
       "      <th>5</th>\n",
       "      <td>43358</td>\n",
       "      <td>0.361</td>\n",
       "      <td>6-2</td>\n",
       "      <td>0.423077</td>\n",
       "      <td>1995-03-31</td>\n",
       "      <td>Maryland</td>\n",
       "      <td>DE</td>\n",
       "      <td>Yannick Ngakoue</td>\n",
       "      <td>198</td>\n",
       "      <td>6.0</td>\n",
       "      <td>20.0</td>\n",
       "      <td>4.0</td>\n",
       "      <td>0.310384</td>\n",
       "      <td>0.402367</td>\n",
       "      <td>30.0</td>\n",
       "      <td>0.151515</td>\n",
       "    </tr>\n",
       "    <tr>\n",
       "      <th>6</th>\n",
       "      <td>44915</td>\n",
       "      <td>0.361</td>\n",
       "      <td>6-4</td>\n",
       "      <td>0.538462</td>\n",
       "      <td>1994-12-05</td>\n",
       "      <td>Florida Atlantic</td>\n",
       "      <td>DE</td>\n",
       "      <td>Trey Hendrickson</td>\n",
       "      <td>216</td>\n",
       "      <td>6.0</td>\n",
       "      <td>29.0</td>\n",
       "      <td>10.0</td>\n",
       "      <td>0.316563</td>\n",
       "      <td>0.422460</td>\n",
       "      <td>45.0</td>\n",
       "      <td>0.208333</td>\n",
       "    </tr>\n",
       "    <tr>\n",
       "      <th>16</th>\n",
       "      <td>47854</td>\n",
       "      <td>0.320</td>\n",
       "      <td>6-3</td>\n",
       "      <td>0.591346</td>\n",
       "      <td>1997-01-05</td>\n",
       "      <td>Ohio State</td>\n",
       "      <td>DE</td>\n",
       "      <td>Dre'Mont Jones</td>\n",
       "      <td>193</td>\n",
       "      <td>3.0</td>\n",
       "      <td>15.0</td>\n",
       "      <td>2.0</td>\n",
       "      <td>0.778709</td>\n",
       "      <td>0.465517</td>\n",
       "      <td>20.0</td>\n",
       "      <td>0.103627</td>\n",
       "    </tr>\n",
       "    <tr>\n",
       "      <th>30</th>\n",
       "      <td>42031</td>\n",
       "      <td>0.303</td>\n",
       "      <td>6-5</td>\n",
       "      <td>0.610577</td>\n",
       "      <td>1990-07-15</td>\n",
       "      <td>Mississippi State</td>\n",
       "      <td>DE</td>\n",
       "      <td>Denico Autry</td>\n",
       "      <td>212</td>\n",
       "      <td>7.0</td>\n",
       "      <td>24.0</td>\n",
       "      <td>5.0</td>\n",
       "      <td>0.532116</td>\n",
       "      <td>0.472826</td>\n",
       "      <td>36.0</td>\n",
       "      <td>0.169811</td>\n",
       "    </tr>\n",
       "    <tr>\n",
       "      <th>51</th>\n",
       "      <td>42431</td>\n",
       "      <td>0.287</td>\n",
       "      <td>6-5</td>\n",
       "      <td>0.451923</td>\n",
       "      <td>1994-10-29</td>\n",
       "      <td>Louisiana State</td>\n",
       "      <td>DE</td>\n",
       "      <td>Danielle Hunter</td>\n",
       "      <td>200</td>\n",
       "      <td>3.0</td>\n",
       "      <td>26.0</td>\n",
       "      <td>6.0</td>\n",
       "      <td>0.259593</td>\n",
       "      <td>0.483146</td>\n",
       "      <td>35.0</td>\n",
       "      <td>0.175000</td>\n",
       "    </tr>\n",
       "    <tr>\n",
       "      <th>54</th>\n",
       "      <td>37084</td>\n",
       "      <td>0.286</td>\n",
       "      <td>6-5</td>\n",
       "      <td>0.625000</td>\n",
       "      <td>1989-03-22</td>\n",
       "      <td>Wisconsin</td>\n",
       "      <td>DE</td>\n",
       "      <td>J.J. Watt</td>\n",
       "      <td>188</td>\n",
       "      <td>11.0</td>\n",
       "      <td>15.0</td>\n",
       "      <td>1.0</td>\n",
       "      <td>0.704598</td>\n",
       "      <td>0.422360</td>\n",
       "      <td>27.0</td>\n",
       "      <td>0.143617</td>\n",
       "    </tr>\n",
       "    <tr>\n",
       "      <th>89</th>\n",
       "      <td>47809</td>\n",
       "      <td>0.267</td>\n",
       "      <td>6-6</td>\n",
       "      <td>0.500000</td>\n",
       "      <td>1996-09-04</td>\n",
       "      <td>Mississippi State</td>\n",
       "      <td>DE</td>\n",
       "      <td>Montez Sweat</td>\n",
       "      <td>221</td>\n",
       "      <td>7.0</td>\n",
       "      <td>15.0</td>\n",
       "      <td>4.0</td>\n",
       "      <td>0.262150</td>\n",
       "      <td>0.395939</td>\n",
       "      <td>26.0</td>\n",
       "      <td>0.117647</td>\n",
       "    </tr>\n",
       "    <tr>\n",
       "      <th>101</th>\n",
       "      <td>47799</td>\n",
       "      <td>0.262</td>\n",
       "      <td>6-5</td>\n",
       "      <td>0.442308</td>\n",
       "      <td>1998-04-23</td>\n",
       "      <td>Florida State</td>\n",
       "      <td>DE</td>\n",
       "      <td>Brian Burns</td>\n",
       "      <td>202</td>\n",
       "      <td>5.0</td>\n",
       "      <td>20.0</td>\n",
       "      <td>5.0</td>\n",
       "      <td>0.246166</td>\n",
       "      <td>0.469274</td>\n",
       "      <td>30.0</td>\n",
       "      <td>0.148515</td>\n",
       "    </tr>\n",
       "    <tr>\n",
       "      <th>102</th>\n",
       "      <td>46146</td>\n",
       "      <td>0.261</td>\n",
       "      <td>6-5</td>\n",
       "      <td>0.514423</td>\n",
       "      <td>1995-06-29</td>\n",
       "      <td>Ohio State</td>\n",
       "      <td>DE</td>\n",
       "      <td>Sam Hubbard</td>\n",
       "      <td>237</td>\n",
       "      <td>3.0</td>\n",
       "      <td>19.0</td>\n",
       "      <td>5.0</td>\n",
       "      <td>0.276038</td>\n",
       "      <td>0.430622</td>\n",
       "      <td>27.0</td>\n",
       "      <td>0.113924</td>\n",
       "    </tr>\n",
       "    <tr>\n",
       "      <th>121</th>\n",
       "      <td>43321</td>\n",
       "      <td>0.251</td>\n",
       "      <td>6-4</td>\n",
       "      <td>0.562500</td>\n",
       "      <td>1993-11-06</td>\n",
       "      <td>Oklahoma State</td>\n",
       "      <td>DE</td>\n",
       "      <td>Emmanuel Ogbah</td>\n",
       "      <td>227</td>\n",
       "      <td>10.0</td>\n",
       "      <td>16.0</td>\n",
       "      <td>3.0</td>\n",
       "      <td>0.355723</td>\n",
       "      <td>0.395939</td>\n",
       "      <td>29.0</td>\n",
       "      <td>0.127753</td>\n",
       "    </tr>\n",
       "    <tr>\n",
       "      <th>165</th>\n",
       "      <td>46148</td>\n",
       "      <td>0.224</td>\n",
       "      <td>6-4</td>\n",
       "      <td>0.581731</td>\n",
       "      <td>1997-05-15</td>\n",
       "      <td>Southern California</td>\n",
       "      <td>DE</td>\n",
       "      <td>Rasheem Green</td>\n",
       "      <td>198</td>\n",
       "      <td>3.0</td>\n",
       "      <td>12.0</td>\n",
       "      <td>3.0</td>\n",
       "      <td>0.584861</td>\n",
       "      <td>0.402235</td>\n",
       "      <td>18.0</td>\n",
       "      <td>0.090909</td>\n",
       "    </tr>\n",
       "    <tr>\n",
       "      <th>169</th>\n",
       "      <td>35441</td>\n",
       "      <td>0.223</td>\n",
       "      <td>6-4</td>\n",
       "      <td>0.745192</td>\n",
       "      <td>1987-01-06</td>\n",
       "      <td>Nebraska</td>\n",
       "      <td>DE</td>\n",
       "      <td>Ndamukong Suh</td>\n",
       "      <td>211</td>\n",
       "      <td>5.0</td>\n",
       "      <td>12.0</td>\n",
       "      <td>2.0</td>\n",
       "      <td>0.810916</td>\n",
       "      <td>0.409574</td>\n",
       "      <td>19.0</td>\n",
       "      <td>0.090047</td>\n",
       "    </tr>\n",
       "    <tr>\n",
       "      <th>175</th>\n",
       "      <td>37097</td>\n",
       "      <td>0.221</td>\n",
       "      <td>6-4</td>\n",
       "      <td>0.620192</td>\n",
       "      <td>1989-07-10</td>\n",
       "      <td>California</td>\n",
       "      <td>DE</td>\n",
       "      <td>Cameron Jordan</td>\n",
       "      <td>224</td>\n",
       "      <td>7.0</td>\n",
       "      <td>18.0</td>\n",
       "      <td>2.0</td>\n",
       "      <td>0.320681</td>\n",
       "      <td>0.490000</td>\n",
       "      <td>27.0</td>\n",
       "      <td>0.120536</td>\n",
       "    </tr>\n",
       "    <tr>\n",
       "      <th>190</th>\n",
       "      <td>33131</td>\n",
       "      <td>0.207</td>\n",
       "      <td>6-8</td>\n",
       "      <td>0.682692</td>\n",
       "      <td>1986-09-01</td>\n",
       "      <td>Miami</td>\n",
       "      <td>DE</td>\n",
       "      <td>Calais Campbell</td>\n",
       "      <td>193</td>\n",
       "      <td>7.0</td>\n",
       "      <td>13.0</td>\n",
       "      <td>0.0</td>\n",
       "      <td>0.827381</td>\n",
       "      <td>0.433526</td>\n",
       "      <td>20.0</td>\n",
       "      <td>0.103627</td>\n",
       "    </tr>\n",
       "    <tr>\n",
       "      <th>191</th>\n",
       "      <td>52410</td>\n",
       "      <td>0.207</td>\n",
       "      <td>6-5</td>\n",
       "      <td>0.514423</td>\n",
       "      <td>1999-04-14</td>\n",
       "      <td>Ohio State</td>\n",
       "      <td>DE</td>\n",
       "      <td>Chase Young</td>\n",
       "      <td>255</td>\n",
       "      <td>6.0</td>\n",
       "      <td>15.0</td>\n",
       "      <td>3.0</td>\n",
       "      <td>0.287285</td>\n",
       "      <td>0.399123</td>\n",
       "      <td>24.0</td>\n",
       "      <td>0.094118</td>\n",
       "    </tr>\n",
       "    <tr>\n",
       "      <th>217</th>\n",
       "      <td>35454</td>\n",
       "      <td>0.184</td>\n",
       "      <td>6-5</td>\n",
       "      <td>0.562500</td>\n",
       "      <td>1989-01-01</td>\n",
       "      <td>South Florida</td>\n",
       "      <td>DE</td>\n",
       "      <td>Jason Pierre-Paul</td>\n",
       "      <td>183</td>\n",
       "      <td>1.0</td>\n",
       "      <td>11.0</td>\n",
       "      <td>2.0</td>\n",
       "      <td>0.352266</td>\n",
       "      <td>0.426752</td>\n",
       "      <td>14.0</td>\n",
       "      <td>0.076503</td>\n",
       "    </tr>\n",
       "    <tr>\n",
       "      <th>220</th>\n",
       "      <td>45274</td>\n",
       "      <td>0.180</td>\n",
       "      <td>6-5</td>\n",
       "      <td>0.682692</td>\n",
       "      <td>1994-04-12</td>\n",
       "      <td>Vanderbilt</td>\n",
       "      <td>DE</td>\n",
       "      <td>Adam Butler</td>\n",
       "      <td>193</td>\n",
       "      <td>3.0</td>\n",
       "      <td>8.0</td>\n",
       "      <td>1.0</td>\n",
       "      <td>0.880003</td>\n",
       "      <td>0.418605</td>\n",
       "      <td>12.0</td>\n",
       "      <td>0.062176</td>\n",
       "    </tr>\n",
       "  </tbody>\n",
       "</table>\n",
       "</div>"
      ],
      "text/plain": [
       "     nflId  rusher_ability height    weight   birthDate          collegeName  \\\n",
       "0    44813           0.464    6-4  0.548077  1995-12-29        Texas A&amp;M   \n",
       "4    47889           0.366    6-5  0.466346  1997-08-22     Eastern Michigan   \n",
       "5    43358           0.361    6-2  0.423077  1995-03-31             Maryland   \n",
       "6    44915           0.361    6-4  0.538462  1994-12-05     Florida Atlantic   \n",
       "16   47854           0.320    6-3  0.591346  1997-01-05           Ohio State   \n",
       "30   42031           0.303    6-5  0.610577  1990-07-15    Mississippi State   \n",
       "51   42431           0.287    6-5  0.451923  1994-10-29      Louisiana State   \n",
       "54   37084           0.286    6-5  0.625000  1989-03-22            Wisconsin   \n",
       "89   47809           0.267    6-6  0.500000  1996-09-04    Mississippi State   \n",
       "101  47799           0.262    6-5  0.442308  1998-04-23        Florida State   \n",
       "102  46146           0.261    6-5  0.514423  1995-06-29           Ohio State   \n",
       "121  43321           0.251    6-4  0.562500  1993-11-06       Oklahoma State   \n",
       "165  46148           0.224    6-4  0.581731  1997-05-15  Southern California   \n",
       "169  35441           0.223    6-4  0.745192  1987-01-06             Nebraska   \n",
       "175  37097           0.221    6-4  0.620192  1989-07-10           California   \n",
       "190  33131           0.207    6-8  0.682692  1986-09-01                Miami   \n",
       "191  52410           0.207    6-5  0.514423  1999-04-14           Ohio State   \n",
       "217  35454           0.184    6-5  0.562500  1989-01-01        South Florida   \n",
       "220  45274           0.180    6-5  0.682692  1994-04-12           Vanderbilt   \n",
       "\n",
       "    officialPosition        displayName  play_cnt  sum_pff_hit  sum_pff_hurry  \\\n",
       "0                 DE      Myles Garrett       208          9.0           29.0   \n",
       "4                 DE        Maxx Crosby       218         12.0           30.0   \n",
       "5                 DE    Yannick Ngakoue       198          6.0           20.0   \n",
       "6                 DE   Trey Hendrickson       216          6.0           29.0   \n",
       "16                DE     Dre'Mont Jones       193          3.0           15.0   \n",
       "30                DE       Denico Autry       212          7.0           24.0   \n",
       "51                DE    Danielle Hunter       200          3.0           26.0   \n",
       "54                DE          J.J. Watt       188         11.0           15.0   \n",
       "89                DE       Montez Sweat       221          7.0           15.0   \n",
       "101               DE        Brian Burns       202          5.0           20.0   \n",
       "102               DE        Sam Hubbard       237          3.0           19.0   \n",
       "121               DE     Emmanuel Ogbah       227         10.0           16.0   \n",
       "165               DE      Rasheem Green       198          3.0           12.0   \n",
       "169               DE      Ndamukong Suh       211          5.0           12.0   \n",
       "175               DE     Cameron Jordan       224          7.0           18.0   \n",
       "190               DE    Calais Campbell       193          7.0           13.0   \n",
       "191               DE        Chase Young       255          6.0           15.0   \n",
       "217               DE  Jason Pierre-Paul       183          1.0           11.0   \n",
       "220               DE        Adam Butler       193          3.0            8.0   \n",
       "\n",
       "     sum_pff_sack  blockers_avg_impact  pass_failure_prob  sum_achivements  \\\n",
       "0            12.0             0.299861           0.502959             50.0   \n",
       "4             7.0             0.306165           0.427027             49.0   \n",
       "5             4.0             0.310384           0.402367             30.0   \n",
       "6            10.0             0.316563           0.422460             45.0   \n",
       "16            2.0             0.778709           0.465517             20.0   \n",
       "30            5.0             0.532116           0.472826             36.0   \n",
       "51            6.0             0.259593           0.483146             35.0   \n",
       "54            1.0             0.704598           0.422360             27.0   \n",
       "89            4.0             0.262150           0.395939             26.0   \n",
       "101           5.0             0.246166           0.469274             30.0   \n",
       "102           5.0             0.276038           0.430622             27.0   \n",
       "121           3.0             0.355723           0.395939             29.0   \n",
       "165           3.0             0.584861           0.402235             18.0   \n",
       "169           2.0             0.810916           0.409574             19.0   \n",
       "175           2.0             0.320681           0.490000             27.0   \n",
       "190           0.0             0.827381           0.433526             20.0   \n",
       "191           3.0             0.287285           0.399123             24.0   \n",
       "217           2.0             0.352266           0.426752             14.0   \n",
       "220           1.0             0.880003           0.418605             12.0   \n",
       "\n",
       "     ratio_achivements  \n",
       "0             0.240385  \n",
       "4             0.224771  \n",
       "5             0.151515  \n",
       "6             0.208333  \n",
       "16            0.103627  \n",
       "30            0.169811  \n",
       "51            0.175000  \n",
       "54            0.143617  \n",
       "89            0.117647  \n",
       "101           0.148515  \n",
       "102           0.113924  \n",
       "121           0.127753  \n",
       "165           0.090909  \n",
       "169           0.090047  \n",
       "175           0.120536  \n",
       "190           0.103627  \n",
       "191           0.094118  \n",
       "217           0.076503  \n",
       "220           0.062176  "
      ]
     },
     "execution_count": 237,
     "metadata": {},
     "output_type": "execute_result"
    }
   ],
   "source": [
    "rushers[(rushers['officialPosition']=='DE') & (rushers['play_cnt'] >= 180)].sort_values(by='rusher_ability', ascending=False)"
   ]
  },
  {
   "cell_type": "code",
   "execution_count": 238,
   "metadata": {},
   "outputs": [
    {
     "data": {
      "text/html": [
       "<div>\n",
       "<style scoped>\n",
       "    .dataframe tbody tr th:only-of-type {\n",
       "        vertical-align: middle;\n",
       "    }\n",
       "\n",
       "    .dataframe tbody tr th {\n",
       "        vertical-align: top;\n",
       "    }\n",
       "\n",
       "    .dataframe thead th {\n",
       "        text-align: right;\n",
       "    }\n",
       "</style>\n",
       "<table border=\"1\" class=\"dataframe\">\n",
       "  <thead>\n",
       "    <tr style=\"text-align: right;\">\n",
       "      <th></th>\n",
       "      <th>nflId</th>\n",
       "      <th>rusher_ability</th>\n",
       "      <th>height</th>\n",
       "      <th>weight</th>\n",
       "      <th>birthDate</th>\n",
       "      <th>collegeName</th>\n",
       "      <th>officialPosition</th>\n",
       "      <th>displayName</th>\n",
       "      <th>play_cnt</th>\n",
       "      <th>sum_pff_hit</th>\n",
       "      <th>sum_pff_hurry</th>\n",
       "      <th>sum_pff_sack</th>\n",
       "      <th>blockers_avg_impact</th>\n",
       "      <th>pass_failure_prob</th>\n",
       "      <th>sum_achivements</th>\n",
       "      <th>ratio_achivements</th>\n",
       "    </tr>\n",
       "  </thead>\n",
       "  <tbody>\n",
       "    <tr>\n",
       "      <th>11</th>\n",
       "      <td>47795</td>\n",
       "      <td>0.333</td>\n",
       "      <td>6-5</td>\n",
       "      <td>0.572115</td>\n",
       "      <td>1997-12-03</td>\n",
       "      <td>Michigan</td>\n",
       "      <td>OLB</td>\n",
       "      <td>Rashan Gary</td>\n",
       "      <td>196</td>\n",
       "      <td>10.0</td>\n",
       "      <td>25.0</td>\n",
       "      <td>5.0</td>\n",
       "      <td>0.213369</td>\n",
       "      <td>0.439759</td>\n",
       "      <td>40.0</td>\n",
       "      <td>0.204082</td>\n",
       "    </tr>\n",
       "    <tr>\n",
       "      <th>12</th>\n",
       "      <td>41915</td>\n",
       "      <td>0.329</td>\n",
       "      <td>6-2</td>\n",
       "      <td>0.442308</td>\n",
       "      <td>1992-11-17</td>\n",
       "      <td>Colorado State</td>\n",
       "      <td>OLB</td>\n",
       "      <td>Shaquil Barrett</td>\n",
       "      <td>222</td>\n",
       "      <td>7.0</td>\n",
       "      <td>29.0</td>\n",
       "      <td>6.0</td>\n",
       "      <td>0.270522</td>\n",
       "      <td>0.456853</td>\n",
       "      <td>42.0</td>\n",
       "      <td>0.189189</td>\n",
       "    </tr>\n",
       "    <tr>\n",
       "      <th>20</th>\n",
       "      <td>43298</td>\n",
       "      <td>0.315</td>\n",
       "      <td>6-5</td>\n",
       "      <td>0.394231</td>\n",
       "      <td>1992-09-08</td>\n",
       "      <td>Georgia</td>\n",
       "      <td>OLB</td>\n",
       "      <td>Leonard Floyd</td>\n",
       "      <td>200</td>\n",
       "      <td>2.0</td>\n",
       "      <td>25.0</td>\n",
       "      <td>8.0</td>\n",
       "      <td>0.171085</td>\n",
       "      <td>0.439560</td>\n",
       "      <td>35.0</td>\n",
       "      <td>0.175000</td>\n",
       "    </tr>\n",
       "    <tr>\n",
       "      <th>38</th>\n",
       "      <td>43435</td>\n",
       "      <td>0.294</td>\n",
       "      <td>6-3</td>\n",
       "      <td>0.495192</td>\n",
       "      <td>1992-08-15</td>\n",
       "      <td>Grand Valley State</td>\n",
       "      <td>OLB</td>\n",
       "      <td>Matt Judon</td>\n",
       "      <td>189</td>\n",
       "      <td>7.0</td>\n",
       "      <td>26.0</td>\n",
       "      <td>9.0</td>\n",
       "      <td>0.270765</td>\n",
       "      <td>0.465409</td>\n",
       "      <td>42.0</td>\n",
       "      <td>0.222222</td>\n",
       "    </tr>\n",
       "    <tr>\n",
       "      <th>88</th>\n",
       "      <td>46110</td>\n",
       "      <td>0.267</td>\n",
       "      <td>6-2</td>\n",
       "      <td>0.442308</td>\n",
       "      <td>1996-06-05</td>\n",
       "      <td>Boston College</td>\n",
       "      <td>OLB</td>\n",
       "      <td>Harold Landry</td>\n",
       "      <td>225</td>\n",
       "      <td>7.0</td>\n",
       "      <td>26.0</td>\n",
       "      <td>8.0</td>\n",
       "      <td>0.234725</td>\n",
       "      <td>0.478947</td>\n",
       "      <td>41.0</td>\n",
       "      <td>0.182222</td>\n",
       "    </tr>\n",
       "    <tr>\n",
       "      <th>105</th>\n",
       "      <td>44825</td>\n",
       "      <td>0.260</td>\n",
       "      <td>6-1</td>\n",
       "      <td>0.370192</td>\n",
       "      <td>1994-09-22</td>\n",
       "      <td>Temple</td>\n",
       "      <td>OLB</td>\n",
       "      <td>Haason Reddick</td>\n",
       "      <td>188</td>\n",
       "      <td>3.0</td>\n",
       "      <td>11.0</td>\n",
       "      <td>8.0</td>\n",
       "      <td>0.229977</td>\n",
       "      <td>0.447853</td>\n",
       "      <td>22.0</td>\n",
       "      <td>0.117021</td>\n",
       "    </tr>\n",
       "    <tr>\n",
       "      <th>182</th>\n",
       "      <td>48089</td>\n",
       "      <td>0.214</td>\n",
       "      <td>6-2</td>\n",
       "      <td>0.370192</td>\n",
       "      <td>1996-08-05</td>\n",
       "      <td>Nevada</td>\n",
       "      <td>OLB</td>\n",
       "      <td>Malik Reed</td>\n",
       "      <td>198</td>\n",
       "      <td>3.0</td>\n",
       "      <td>11.0</td>\n",
       "      <td>4.0</td>\n",
       "      <td>0.132665</td>\n",
       "      <td>0.497175</td>\n",
       "      <td>18.0</td>\n",
       "      <td>0.090909</td>\n",
       "    </tr>\n",
       "  </tbody>\n",
       "</table>\n",
       "</div>"
      ],
      "text/plain": [
       "     nflId  rusher_ability height    weight   birthDate         collegeName  \\\n",
       "11   47795           0.333    6-5  0.572115  1997-12-03            Michigan   \n",
       "12   41915           0.329    6-2  0.442308  1992-11-17      Colorado State   \n",
       "20   43298           0.315    6-5  0.394231  1992-09-08             Georgia   \n",
       "38   43435           0.294    6-3  0.495192  1992-08-15  Grand Valley State   \n",
       "88   46110           0.267    6-2  0.442308  1996-06-05      Boston College   \n",
       "105  44825           0.260    6-1  0.370192  1994-09-22              Temple   \n",
       "182  48089           0.214    6-2  0.370192  1996-08-05              Nevada   \n",
       "\n",
       "    officialPosition      displayName  play_cnt  sum_pff_hit  sum_pff_hurry  \\\n",
       "11               OLB      Rashan Gary       196         10.0           25.0   \n",
       "12               OLB  Shaquil Barrett       222          7.0           29.0   \n",
       "20               OLB    Leonard Floyd       200          2.0           25.0   \n",
       "38               OLB       Matt Judon       189          7.0           26.0   \n",
       "88               OLB    Harold Landry       225          7.0           26.0   \n",
       "105              OLB   Haason Reddick       188          3.0           11.0   \n",
       "182              OLB       Malik Reed       198          3.0           11.0   \n",
       "\n",
       "     sum_pff_sack  blockers_avg_impact  pass_failure_prob  sum_achivements  \\\n",
       "11            5.0             0.213369           0.439759             40.0   \n",
       "12            6.0             0.270522           0.456853             42.0   \n",
       "20            8.0             0.171085           0.439560             35.0   \n",
       "38            9.0             0.270765           0.465409             42.0   \n",
       "88            8.0             0.234725           0.478947             41.0   \n",
       "105           8.0             0.229977           0.447853             22.0   \n",
       "182           4.0             0.132665           0.497175             18.0   \n",
       "\n",
       "     ratio_achivements  \n",
       "11            0.204082  \n",
       "12            0.189189  \n",
       "20            0.175000  \n",
       "38            0.222222  \n",
       "88            0.182222  \n",
       "105           0.117021  \n",
       "182           0.090909  "
      ]
     },
     "execution_count": 238,
     "metadata": {},
     "output_type": "execute_result"
    }
   ],
   "source": [
    "rushers[(rushers['officialPosition']=='OLB') & (rushers['play_cnt'] >= 180)].sort_values(by='rusher_ability', ascending=False)"
   ]
  },
  {
   "cell_type": "markdown",
   "metadata": {},
   "source": [
    "# ブロッカー貢献度の計算"
   ]
  },
  {
   "cell_type": "code",
   "execution_count": 16,
   "metadata": {},
   "outputs": [
    {
     "data": {
      "text/html": [
       "<div>\n",
       "<style scoped>\n",
       "    .dataframe tbody tr th:only-of-type {\n",
       "        vertical-align: middle;\n",
       "    }\n",
       "\n",
       "    .dataframe tbody tr th {\n",
       "        vertical-align: top;\n",
       "    }\n",
       "\n",
       "    .dataframe thead th {\n",
       "        text-align: right;\n",
       "    }\n",
       "</style>\n",
       "<table border=\"1\" class=\"dataframe\">\n",
       "  <thead>\n",
       "    <tr style=\"text-align: right;\">\n",
       "      <th></th>\n",
       "      <th>gameId</th>\n",
       "      <th>playId</th>\n",
       "      <th>Pass Block_nflId</th>\n",
       "      <th>Weighted_PassRush_impact</th>\n",
       "      <th>Blocker_contribution</th>\n",
       "      <th>nflId</th>\n",
       "      <th>officialPosition</th>\n",
       "      <th>displayName</th>\n",
       "      <th>play_cnt</th>\n",
       "    </tr>\n",
       "  </thead>\n",
       "  <tbody>\n",
       "    <tr>\n",
       "      <th>0</th>\n",
       "      <td>2021090900</td>\n",
       "      <td>97</td>\n",
       "      <td>40151</td>\n",
       "      <td>0.067761</td>\n",
       "      <td>0.936539</td>\n",
       "      <td>40151</td>\n",
       "      <td>C</td>\n",
       "      <td>Ryan Jensen</td>\n",
       "      <td>274</td>\n",
       "    </tr>\n",
       "    <tr>\n",
       "      <th>1</th>\n",
       "      <td>2021090900</td>\n",
       "      <td>410</td>\n",
       "      <td>40151</td>\n",
       "      <td>0.051808</td>\n",
       "      <td>0.950744</td>\n",
       "      <td>40151</td>\n",
       "      <td>C</td>\n",
       "      <td>Ryan Jensen</td>\n",
       "      <td>274</td>\n",
       "    </tr>\n",
       "    <tr>\n",
       "      <th>2</th>\n",
       "      <td>2021090900</td>\n",
       "      <td>456</td>\n",
       "      <td>40151</td>\n",
       "      <td>0.031052</td>\n",
       "      <td>0.969883</td>\n",
       "      <td>40151</td>\n",
       "      <td>C</td>\n",
       "      <td>Ryan Jensen</td>\n",
       "      <td>274</td>\n",
       "    </tr>\n",
       "    <tr>\n",
       "      <th>3</th>\n",
       "      <td>2021090900</td>\n",
       "      <td>480</td>\n",
       "      <td>40151</td>\n",
       "      <td>0.076508</td>\n",
       "      <td>0.928929</td>\n",
       "      <td>40151</td>\n",
       "      <td>C</td>\n",
       "      <td>Ryan Jensen</td>\n",
       "      <td>274</td>\n",
       "    </tr>\n",
       "    <tr>\n",
       "      <th>4</th>\n",
       "      <td>2021090900</td>\n",
       "      <td>509</td>\n",
       "      <td>40151</td>\n",
       "      <td>0.046616</td>\n",
       "      <td>0.955460</td>\n",
       "      <td>40151</td>\n",
       "      <td>C</td>\n",
       "      <td>Ryan Jensen</td>\n",
       "      <td>274</td>\n",
       "    </tr>\n",
       "    <tr>\n",
       "      <th>...</th>\n",
       "      <td>...</td>\n",
       "      <td>...</td>\n",
       "      <td>...</td>\n",
       "      <td>...</td>\n",
       "      <td>...</td>\n",
       "      <td>...</td>\n",
       "      <td>...</td>\n",
       "      <td>...</td>\n",
       "      <td>...</td>\n",
       "    </tr>\n",
       "    <tr>\n",
       "      <th>38631</th>\n",
       "      <td>2021103110</td>\n",
       "      <td>3597</td>\n",
       "      <td>52516</td>\n",
       "      <td>0.076585</td>\n",
       "      <td>0.928863</td>\n",
       "      <td>52516</td>\n",
       "      <td>T</td>\n",
       "      <td>Saahdiq Charles</td>\n",
       "      <td>33</td>\n",
       "    </tr>\n",
       "    <tr>\n",
       "      <th>38632</th>\n",
       "      <td>2021103110</td>\n",
       "      <td>3640</td>\n",
       "      <td>52516</td>\n",
       "      <td>0.320711</td>\n",
       "      <td>0.757168</td>\n",
       "      <td>52516</td>\n",
       "      <td>T</td>\n",
       "      <td>Saahdiq Charles</td>\n",
       "      <td>33</td>\n",
       "    </tr>\n",
       "    <tr>\n",
       "      <th>38633</th>\n",
       "      <td>2021103110</td>\n",
       "      <td>3727</td>\n",
       "      <td>52516</td>\n",
       "      <td>0.016614</td>\n",
       "      <td>0.983657</td>\n",
       "      <td>52516</td>\n",
       "      <td>T</td>\n",
       "      <td>Saahdiq Charles</td>\n",
       "      <td>33</td>\n",
       "    </tr>\n",
       "    <tr>\n",
       "      <th>38634</th>\n",
       "      <td>2021103110</td>\n",
       "      <td>3640</td>\n",
       "      <td>52564</td>\n",
       "      <td>0.241856</td>\n",
       "      <td>0.805246</td>\n",
       "      <td>52564</td>\n",
       "      <td>C</td>\n",
       "      <td>Keith Ismael</td>\n",
       "      <td>2</td>\n",
       "    </tr>\n",
       "    <tr>\n",
       "      <th>38635</th>\n",
       "      <td>2021103110</td>\n",
       "      <td>3727</td>\n",
       "      <td>52564</td>\n",
       "      <td>0.059496</td>\n",
       "      <td>0.943845</td>\n",
       "      <td>52564</td>\n",
       "      <td>C</td>\n",
       "      <td>Keith Ismael</td>\n",
       "      <td>2</td>\n",
       "    </tr>\n",
       "  </tbody>\n",
       "</table>\n",
       "<p>35971 rows × 9 columns</p>\n",
       "</div>"
      ],
      "text/plain": [
       "           gameId  playId  Pass Block_nflId  Weighted_PassRush_impact  \\\n",
       "0      2021090900      97             40151                  0.067761   \n",
       "1      2021090900     410             40151                  0.051808   \n",
       "2      2021090900     456             40151                  0.031052   \n",
       "3      2021090900     480             40151                  0.076508   \n",
       "4      2021090900     509             40151                  0.046616   \n",
       "...           ...     ...               ...                       ...   \n",
       "38631  2021103110    3597             52516                  0.076585   \n",
       "38632  2021103110    3640             52516                  0.320711   \n",
       "38633  2021103110    3727             52516                  0.016614   \n",
       "38634  2021103110    3640             52564                  0.241856   \n",
       "38635  2021103110    3727             52564                  0.059496   \n",
       "\n",
       "       Blocker_contribution  nflId officialPosition      displayName  play_cnt  \n",
       "0                  0.936539  40151                C      Ryan Jensen       274  \n",
       "1                  0.950744  40151                C      Ryan Jensen       274  \n",
       "2                  0.969883  40151                C      Ryan Jensen       274  \n",
       "3                  0.928929  40151                C      Ryan Jensen       274  \n",
       "4                  0.955460  40151                C      Ryan Jensen       274  \n",
       "...                     ...    ...              ...              ...       ...  \n",
       "38631              0.928863  52516                T  Saahdiq Charles        33  \n",
       "38632              0.757168  52516                T  Saahdiq Charles        33  \n",
       "38633              0.983657  52516                T  Saahdiq Charles        33  \n",
       "38634              0.805246  52564                C     Keith Ismael         2  \n",
       "38635              0.943845  52564                C     Keith Ismael         2  \n",
       "\n",
       "[35971 rows x 9 columns]"
      ]
     },
     "execution_count": 16,
     "metadata": {},
     "output_type": "execute_result"
    }
   ],
   "source": [
    "blckr_assgn_list = []\n",
    "for week in range(1, 8 + 1):\n",
    "    blckr_assgn_list.append(pd.read_csv('../generated_data/blckr_contribution{}_v6.csv'.format(week)))\n",
    "blckr_assgn = pd.concat(blckr_assgn_list)\n",
    "blckr_assgn = pd.merge(\n",
    "    blckr_assgn,\n",
    "    players[['nflId','officialPosition','displayName']],\n",
    "    left_on='Pass Block_nflId',\n",
    "    right_on='nflId',\n",
    "    how='left'\n",
    ")\n",
    "blckr_assgn = pd.merge(\n",
    "    blckr_assgn,\n",
    "    blckr_assgn.groupby('Pass Block_nflId')[['playId']].count().reset_index().rename(columns={'playId': 'play_cnt'}),\n",
    "    on='Pass Block_nflId'\n",
    ")\n",
    "blckr_assgn = blckr_assgn[blckr_assgn['officialPosition'].isin(['C','T','G'])]\n",
    "blckr_assgn"
   ]
  },
  {
   "cell_type": "code",
   "execution_count": 36,
   "metadata": {},
   "outputs": [
    {
     "data": {
      "text/html": [
       "<div>\n",
       "<style scoped>\n",
       "    .dataframe tbody tr th:only-of-type {\n",
       "        vertical-align: middle;\n",
       "    }\n",
       "\n",
       "    .dataframe tbody tr th {\n",
       "        vertical-align: top;\n",
       "    }\n",
       "\n",
       "    .dataframe thead th {\n",
       "        text-align: right;\n",
       "    }\n",
       "</style>\n",
       "<table border=\"1\" class=\"dataframe\">\n",
       "  <thead>\n",
       "    <tr style=\"text-align: right;\">\n",
       "      <th></th>\n",
       "      <th>officialPosition</th>\n",
       "      <th>Pass Block_nflId</th>\n",
       "      <th>Blocker_ability</th>\n",
       "      <th>play_cnt</th>\n",
       "      <th>nflId</th>\n",
       "      <th>displayName</th>\n",
       "    </tr>\n",
       "  </thead>\n",
       "  <tbody>\n",
       "    <tr>\n",
       "      <th>0</th>\n",
       "      <td>T</td>\n",
       "      <td>42400</td>\n",
       "      <td>0.965763</td>\n",
       "      <td>213.0</td>\n",
       "      <td>42400</td>\n",
       "      <td>Rob Havenstein</td>\n",
       "    </tr>\n",
       "    <tr>\n",
       "      <th>1</th>\n",
       "      <td>T</td>\n",
       "      <td>42367</td>\n",
       "      <td>0.962223</td>\n",
       "      <td>200.0</td>\n",
       "      <td>42367</td>\n",
       "      <td>D.J. Humphries</td>\n",
       "    </tr>\n",
       "    <tr>\n",
       "      <th>2</th>\n",
       "      <td>G</td>\n",
       "      <td>46102</td>\n",
       "      <td>0.961687</td>\n",
       "      <td>213.0</td>\n",
       "      <td>46102</td>\n",
       "      <td>Austin Corbett</td>\n",
       "    </tr>\n",
       "    <tr>\n",
       "      <th>3</th>\n",
       "      <td>C</td>\n",
       "      <td>53492</td>\n",
       "      <td>0.961007</td>\n",
       "      <td>276.0</td>\n",
       "      <td>53492</td>\n",
       "      <td>Creed Humphrey</td>\n",
       "    </tr>\n",
       "    <tr>\n",
       "      <th>4</th>\n",
       "      <td>T</td>\n",
       "      <td>42445</td>\n",
       "      <td>0.959339</td>\n",
       "      <td>208.0</td>\n",
       "      <td>42445</td>\n",
       "      <td>Daryl Williams</td>\n",
       "    </tr>\n",
       "  </tbody>\n",
       "</table>\n",
       "</div>"
      ],
      "text/plain": [
       "  officialPosition  Pass Block_nflId  Blocker_ability  play_cnt  nflId  \\\n",
       "0                T             42400         0.965763     213.0  42400   \n",
       "1                T             42367         0.962223     200.0  42367   \n",
       "2                G             46102         0.961687     213.0  46102   \n",
       "3                C             53492         0.961007     276.0  53492   \n",
       "4                T             42445         0.959339     208.0  42445   \n",
       "\n",
       "      displayName  \n",
       "0  Rob Havenstein  \n",
       "1  D.J. Humphries  \n",
       "2  Austin Corbett  \n",
       "3  Creed Humphrey  \n",
       "4  Daryl Williams  "
      ]
     },
     "execution_count": 36,
     "metadata": {},
     "output_type": "execute_result"
    }
   ],
   "source": [
    "tgt_blckr_assgn.head()"
   ]
  },
  {
   "cell_type": "code",
   "execution_count": 25,
   "metadata": {},
   "outputs": [],
   "source": [
    "tgt_blckr_assgn = blckr_assgn[blckr_assgn['play_cnt'] >= 200]\n",
    "tgt_blckr_assgn = tgt_blckr_assgn.groupby(['officialPosition','Pass Block_nflId'])[['Blocker_contribution', 'play_cnt']].mean().reset_index().rename(columns={'Blocker_contribution': 'Blocker_ability'})\n",
    "tgt_blckr_assgn = tgt_blckr_assgn.sort_values(by='Blocker_ability', ascending=False)\n",
    "tgt_blckr_assgn = pd.merge(\n",
    "    tgt_blckr_assgn,\n",
    "    players[['nflId','displayName']],\n",
    "    left_on='Pass Block_nflId',\n",
    "    right_on='nflId',\n",
    "    how='left'\n",
    ")"
   ]
  },
  {
   "cell_type": "code",
   "execution_count": 37,
   "metadata": {},
   "outputs": [
    {
     "data": {
      "text/html": [
       "<div>\n",
       "<style scoped>\n",
       "    .dataframe tbody tr th:only-of-type {\n",
       "        vertical-align: middle;\n",
       "    }\n",
       "\n",
       "    .dataframe tbody tr th {\n",
       "        vertical-align: top;\n",
       "    }\n",
       "\n",
       "    .dataframe thead th {\n",
       "        text-align: right;\n",
       "    }\n",
       "</style>\n",
       "<table border=\"1\" class=\"dataframe\">\n",
       "  <thead>\n",
       "    <tr style=\"text-align: right;\">\n",
       "      <th></th>\n",
       "      <th>officialPosition</th>\n",
       "      <th>Pass Block_nflId</th>\n",
       "      <th>Blocker_ability</th>\n",
       "      <th>play_cnt</th>\n",
       "      <th>nflId</th>\n",
       "      <th>displayName</th>\n",
       "      <th>pass_failure_prob</th>\n",
       "    </tr>\n",
       "  </thead>\n",
       "  <tbody>\n",
       "    <tr>\n",
       "      <th>0</th>\n",
       "      <td>T</td>\n",
       "      <td>42400</td>\n",
       "      <td>0.965763</td>\n",
       "      <td>213.0</td>\n",
       "      <td>42400</td>\n",
       "      <td>Rob Havenstein</td>\n",
       "      <td>0.319249</td>\n",
       "    </tr>\n",
       "    <tr>\n",
       "      <th>1</th>\n",
       "      <td>T</td>\n",
       "      <td>42367</td>\n",
       "      <td>0.962223</td>\n",
       "      <td>200.0</td>\n",
       "      <td>42367</td>\n",
       "      <td>D.J. Humphries</td>\n",
       "      <td>0.403941</td>\n",
       "    </tr>\n",
       "    <tr>\n",
       "      <th>2</th>\n",
       "      <td>G</td>\n",
       "      <td>46102</td>\n",
       "      <td>0.961687</td>\n",
       "      <td>213.0</td>\n",
       "      <td>46102</td>\n",
       "      <td>Austin Corbett</td>\n",
       "      <td>0.319249</td>\n",
       "    </tr>\n",
       "    <tr>\n",
       "      <th>3</th>\n",
       "      <td>C</td>\n",
       "      <td>53492</td>\n",
       "      <td>0.961007</td>\n",
       "      <td>276.0</td>\n",
       "      <td>53492</td>\n",
       "      <td>Creed Humphrey</td>\n",
       "      <td>0.405018</td>\n",
       "    </tr>\n",
       "    <tr>\n",
       "      <th>4</th>\n",
       "      <td>T</td>\n",
       "      <td>42445</td>\n",
       "      <td>0.959339</td>\n",
       "      <td>208.0</td>\n",
       "      <td>42445</td>\n",
       "      <td>Daryl Williams</td>\n",
       "      <td>0.403846</td>\n",
       "    </tr>\n",
       "    <tr>\n",
       "      <th>...</th>\n",
       "      <td>...</td>\n",
       "      <td>...</td>\n",
       "      <td>...</td>\n",
       "      <td>...</td>\n",
       "      <td>...</td>\n",
       "      <td>...</td>\n",
       "      <td>...</td>\n",
       "    </tr>\n",
       "    <tr>\n",
       "      <th>84</th>\n",
       "      <td>T</td>\n",
       "      <td>53446</td>\n",
       "      <td>0.940511</td>\n",
       "      <td>205.0</td>\n",
       "      <td>53446</td>\n",
       "      <td>Alex Leatherwood</td>\n",
       "      <td>0.379808</td>\n",
       "    </tr>\n",
       "    <tr>\n",
       "      <th>85</th>\n",
       "      <td>C</td>\n",
       "      <td>52491</td>\n",
       "      <td>0.939806</td>\n",
       "      <td>250.0</td>\n",
       "      <td>52491</td>\n",
       "      <td>Lloyd Cushenberry</td>\n",
       "      <td>0.360000</td>\n",
       "    </tr>\n",
       "    <tr>\n",
       "      <th>86</th>\n",
       "      <td>T</td>\n",
       "      <td>52426</td>\n",
       "      <td>0.939293</td>\n",
       "      <td>229.0</td>\n",
       "      <td>52426</td>\n",
       "      <td>Austin Jackson</td>\n",
       "      <td>0.365217</td>\n",
       "    </tr>\n",
       "    <tr>\n",
       "      <th>87</th>\n",
       "      <td>G</td>\n",
       "      <td>47824</td>\n",
       "      <td>0.935729</td>\n",
       "      <td>212.0</td>\n",
       "      <td>47824</td>\n",
       "      <td>Dalton Risner</td>\n",
       "      <td>0.330189</td>\n",
       "    </tr>\n",
       "    <tr>\n",
       "      <th>88</th>\n",
       "      <td>T</td>\n",
       "      <td>44832</td>\n",
       "      <td>0.932935</td>\n",
       "      <td>241.0</td>\n",
       "      <td>44832</td>\n",
       "      <td>Garett Bolles</td>\n",
       "      <td>0.365145</td>\n",
       "    </tr>\n",
       "  </tbody>\n",
       "</table>\n",
       "<p>89 rows × 7 columns</p>\n",
       "</div>"
      ],
      "text/plain": [
       "   officialPosition  Pass Block_nflId  Blocker_ability  play_cnt  nflId  \\\n",
       "0                 T             42400         0.965763     213.0  42400   \n",
       "1                 T             42367         0.962223     200.0  42367   \n",
       "2                 G             46102         0.961687     213.0  46102   \n",
       "3                 C             53492         0.961007     276.0  53492   \n",
       "4                 T             42445         0.959339     208.0  42445   \n",
       "..              ...               ...              ...       ...    ...   \n",
       "84                T             53446         0.940511     205.0  53446   \n",
       "85                C             52491         0.939806     250.0  52491   \n",
       "86                T             52426         0.939293     229.0  52426   \n",
       "87                G             47824         0.935729     212.0  47824   \n",
       "88                T             44832         0.932935     241.0  44832   \n",
       "\n",
       "          displayName  pass_failure_prob  \n",
       "0      Rob Havenstein           0.319249  \n",
       "1      D.J. Humphries           0.403941  \n",
       "2      Austin Corbett           0.319249  \n",
       "3      Creed Humphrey           0.405018  \n",
       "4      Daryl Williams           0.403846  \n",
       "..                ...                ...  \n",
       "84   Alex Leatherwood           0.379808  \n",
       "85  Lloyd Cushenberry           0.360000  \n",
       "86     Austin Jackson           0.365217  \n",
       "87      Dalton Risner           0.330189  \n",
       "88      Garett Bolles           0.365145  \n",
       "\n",
       "[89 rows x 7 columns]"
      ]
     },
     "execution_count": 37,
     "metadata": {},
     "output_type": "execute_result"
    }
   ],
   "source": [
    "blckr_play_results = []\n",
    "\n",
    "for j in range(1, 9+1):\n",
    "    col = 'Pass Block_#{}'.format(j)\n",
    "    blckr_play_results.append(\n",
    "        play_result[['gameId','playId','is_pass_failed', col + '_nflId']].rename(columns={col + '_nflId': 'Pass Block_nflId'})\n",
    "    )\n",
    "blckr_play_results = pd.concat(blckr_play_results)\n",
    "blckr_play_results = blckr_play_results.groupby('Pass Block_nflId')[['is_pass_failed']].mean().reset_index().rename(columns={'is_pass_failed': 'pass_failure_prob'})\n",
    "\n",
    "tgt_blckr_assgn = pd.merge(\n",
    "    tgt_blckr_assgn,\n",
    "    blckr_play_results,\n",
    "    on='Pass Block_nflId',\n",
    "    how='left'\n",
    ")\n",
    "tgt_blckr_assgn"
   ]
  },
  {
   "cell_type": "code",
   "execution_count": 38,
   "metadata": {},
   "outputs": [],
   "source": [
    "tgt_blckr_assgn.to_csv('tgt_blckr_assgn.csv', index=False)"
   ]
  },
  {
   "cell_type": "code",
   "execution_count": null,
   "metadata": {},
   "outputs": [],
   "source": []
  }
 ],
 "metadata": {
  "kernelspec": {
   "display_name": "Python 3",
   "language": "python",
   "name": "python3"
  },
  "language_info": {
   "codemirror_mode": {
    "name": "ipython",
    "version": 3
   },
   "file_extension": ".py",
   "mimetype": "text/x-python",
   "name": "python",
   "nbconvert_exporter": "python",
   "pygments_lexer": "ipython3",
   "version": "3.8.5"
  }
 },
 "nbformat": 4,
 "nbformat_minor": 4
}
